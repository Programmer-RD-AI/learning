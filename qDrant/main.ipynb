{
 "cells": [
  {
   "cell_type": "code",
   "execution_count": 1,
   "id": "0c1e87d3-632e-4e52-af53-14701cfed269",
   "metadata": {},
   "outputs": [
    {
     "name": "stdout",
     "output_type": "stream",
     "text": [
      "Requirement already satisfied: qdrant-client[fastembed] in /home/ranuga/anaconda3/lib/python3.11/site-packages (1.12.1)\n",
      "Collecting qdrant-client[fastembed]\n",
      "  Downloading qdrant_client-1.12.2-py3-none-any.whl.metadata (10 kB)\n",
      "Collecting fastembed==0.5.0 (from qdrant-client[fastembed])\n",
      "  Downloading fastembed-0.5.0-py3-none-any.whl.metadata (8.5 kB)\n",
      "Requirement already satisfied: grpcio>=1.41.0 in /home/ranuga/anaconda3/lib/python3.11/site-packages (from qdrant-client[fastembed]) (1.68.1)\n",
      "Requirement already satisfied: grpcio-tools>=1.41.0 in /home/ranuga/anaconda3/lib/python3.11/site-packages (from qdrant-client[fastembed]) (1.68.1)\n",
      "Requirement already satisfied: httpx>=0.20.0 in /home/ranuga/anaconda3/lib/python3.11/site-packages (from httpx[http2]>=0.20.0->qdrant-client[fastembed]) (0.27.2)\n",
      "Requirement already satisfied: numpy>=1.21 in /home/ranuga/anaconda3/lib/python3.11/site-packages (from qdrant-client[fastembed]) (1.26.4)\n",
      "Requirement already satisfied: portalocker<3.0.0,>=2.7.0 in /home/ranuga/anaconda3/lib/python3.11/site-packages (from qdrant-client[fastembed]) (2.10.1)\n",
      "Requirement already satisfied: pydantic>=1.10.8 in /home/ranuga/anaconda3/lib/python3.11/site-packages (from qdrant-client[fastembed]) (2.10.4)\n",
      "Requirement already satisfied: urllib3<3,>=1.26.14 in /home/ranuga/anaconda3/lib/python3.11/site-packages (from qdrant-client[fastembed]) (1.26.20)\n",
      "Requirement already satisfied: huggingface-hub<1.0,>=0.20 in /home/ranuga/anaconda3/lib/python3.11/site-packages (from fastembed==0.5.0->qdrant-client[fastembed]) (0.23.2)\n",
      "Requirement already satisfied: loguru<0.8.0,>=0.7.2 in /home/ranuga/anaconda3/lib/python3.11/site-packages (from fastembed==0.5.0->qdrant-client[fastembed]) (0.7.3)\n",
      "Requirement already satisfied: mmh3<5.0.0,>=4.1.0 in /home/ranuga/anaconda3/lib/python3.11/site-packages (from fastembed==0.5.0->qdrant-client[fastembed]) (4.1.0)\n",
      "Requirement already satisfied: onnx>=1.15.0 in /home/ranuga/anaconda3/lib/python3.11/site-packages (from fastembed==0.5.0->qdrant-client[fastembed]) (1.17.0)\n",
      "Requirement already satisfied: onnxruntime!=1.20.0,>=1.17.0 in /home/ranuga/anaconda3/lib/python3.11/site-packages (from fastembed==0.5.0->qdrant-client[fastembed]) (1.20.1)\n",
      "Requirement already satisfied: pillow<11.0.0,>=10.3.0 in /home/ranuga/anaconda3/lib/python3.11/site-packages (from fastembed==0.5.0->qdrant-client[fastembed]) (10.4.0)\n",
      "Collecting py-rust-stemmers<0.2.0,>=0.1.0 (from fastembed==0.5.0->qdrant-client[fastembed])\n",
      "  Downloading py_rust_stemmers-0.1.3-cp311-cp311-manylinux_2_28_x86_64.whl.metadata (3.4 kB)\n",
      "Requirement already satisfied: requests<3.0,>=2.31 in /home/ranuga/anaconda3/lib/python3.11/site-packages (from fastembed==0.5.0->qdrant-client[fastembed]) (2.32.3)\n",
      "Requirement already satisfied: tokenizers<1.0,>=0.15 in /home/ranuga/anaconda3/lib/python3.11/site-packages (from fastembed==0.5.0->qdrant-client[fastembed]) (0.20.3)\n",
      "Requirement already satisfied: tqdm<5.0,>=4.66 in /home/ranuga/anaconda3/lib/python3.11/site-packages (from fastembed==0.5.0->qdrant-client[fastembed]) (4.66.5)\n",
      "Requirement already satisfied: protobuf<6.0dev,>=5.26.1 in /home/ranuga/anaconda3/lib/python3.11/site-packages (from grpcio-tools>=1.41.0->qdrant-client[fastembed]) (5.29.2)\n",
      "Requirement already satisfied: setuptools in /home/ranuga/anaconda3/lib/python3.11/site-packages (from grpcio-tools>=1.41.0->qdrant-client[fastembed]) (68.2.2)\n",
      "Requirement already satisfied: anyio in /home/ranuga/anaconda3/lib/python3.11/site-packages (from httpx>=0.20.0->httpx[http2]>=0.20.0->qdrant-client[fastembed]) (4.2.0)\n",
      "Requirement already satisfied: certifi in /home/ranuga/anaconda3/lib/python3.11/site-packages (from httpx>=0.20.0->httpx[http2]>=0.20.0->qdrant-client[fastembed]) (2024.8.30)\n",
      "Requirement already satisfied: httpcore==1.* in /home/ranuga/anaconda3/lib/python3.11/site-packages (from httpx>=0.20.0->httpx[http2]>=0.20.0->qdrant-client[fastembed]) (1.0.6)\n",
      "Requirement already satisfied: idna in /home/ranuga/anaconda3/lib/python3.11/site-packages (from httpx>=0.20.0->httpx[http2]>=0.20.0->qdrant-client[fastembed]) (2.10)\n",
      "Requirement already satisfied: sniffio in /home/ranuga/anaconda3/lib/python3.11/site-packages (from httpx>=0.20.0->httpx[http2]>=0.20.0->qdrant-client[fastembed]) (1.3.0)\n",
      "Requirement already satisfied: h11<0.15,>=0.13 in /home/ranuga/anaconda3/lib/python3.11/site-packages (from httpcore==1.*->httpx>=0.20.0->httpx[http2]>=0.20.0->qdrant-client[fastembed]) (0.14.0)\n",
      "Requirement already satisfied: h2<5,>=3 in /home/ranuga/anaconda3/lib/python3.11/site-packages (from httpx[http2]>=0.20.0->qdrant-client[fastembed]) (3.2.0)\n",
      "Requirement already satisfied: annotated-types>=0.6.0 in /home/ranuga/anaconda3/lib/python3.11/site-packages (from pydantic>=1.10.8->qdrant-client[fastembed]) (0.7.0)\n",
      "Requirement already satisfied: pydantic-core==2.27.2 in /home/ranuga/anaconda3/lib/python3.11/site-packages (from pydantic>=1.10.8->qdrant-client[fastembed]) (2.27.2)\n",
      "Requirement already satisfied: typing-extensions>=4.12.2 in /home/ranuga/anaconda3/lib/python3.11/site-packages (from pydantic>=1.10.8->qdrant-client[fastembed]) (4.12.2)\n",
      "Requirement already satisfied: hyperframe<6,>=5.2.0 in /home/ranuga/anaconda3/lib/python3.11/site-packages (from h2<5,>=3->httpx[http2]>=0.20.0->qdrant-client[fastembed]) (5.2.0)\n",
      "Requirement already satisfied: hpack<4,>=3.0 in /home/ranuga/anaconda3/lib/python3.11/site-packages (from h2<5,>=3->httpx[http2]>=0.20.0->qdrant-client[fastembed]) (3.0.0)\n",
      "Requirement already satisfied: filelock in /home/ranuga/anaconda3/lib/python3.11/site-packages (from huggingface-hub<1.0,>=0.20->fastembed==0.5.0->qdrant-client[fastembed]) (3.13.1)\n",
      "Requirement already satisfied: fsspec>=2023.5.0 in /home/ranuga/anaconda3/lib/python3.11/site-packages (from huggingface-hub<1.0,>=0.20->fastembed==0.5.0->qdrant-client[fastembed]) (2023.10.0)\n",
      "Requirement already satisfied: packaging>=20.9 in /home/ranuga/anaconda3/lib/python3.11/site-packages (from huggingface-hub<1.0,>=0.20->fastembed==0.5.0->qdrant-client[fastembed]) (24.1)\n",
      "Requirement already satisfied: pyyaml>=5.1 in /home/ranuga/anaconda3/lib/python3.11/site-packages (from huggingface-hub<1.0,>=0.20->fastembed==0.5.0->qdrant-client[fastembed]) (6.0.1)\n",
      "Requirement already satisfied: coloredlogs in /home/ranuga/anaconda3/lib/python3.11/site-packages (from onnxruntime!=1.20.0,>=1.17.0->fastembed==0.5.0->qdrant-client[fastembed]) (15.0.1)\n",
      "Requirement already satisfied: flatbuffers in /home/ranuga/anaconda3/lib/python3.11/site-packages (from onnxruntime!=1.20.0,>=1.17.0->fastembed==0.5.0->qdrant-client[fastembed]) (24.3.25)\n",
      "Requirement already satisfied: sympy in /home/ranuga/anaconda3/lib/python3.11/site-packages (from onnxruntime!=1.20.0,>=1.17.0->fastembed==0.5.0->qdrant-client[fastembed]) (1.13.1)\n",
      "Requirement already satisfied: charset-normalizer<4,>=2 in /home/ranuga/anaconda3/lib/python3.11/site-packages (from requests<3.0,>=2.31->fastembed==0.5.0->qdrant-client[fastembed]) (2.0.4)\n",
      "Requirement already satisfied: humanfriendly>=9.1 in /home/ranuga/anaconda3/lib/python3.11/site-packages (from coloredlogs->onnxruntime!=1.20.0,>=1.17.0->fastembed==0.5.0->qdrant-client[fastembed]) (10.0)\n",
      "Requirement already satisfied: mpmath<1.4,>=1.1.0 in /home/ranuga/anaconda3/lib/python3.11/site-packages (from sympy->onnxruntime!=1.20.0,>=1.17.0->fastembed==0.5.0->qdrant-client[fastembed]) (1.3.0)\n",
      "Downloading fastembed-0.5.0-py3-none-any.whl (69 kB)\n",
      "Downloading qdrant_client-1.12.2-py3-none-any.whl (267 kB)\n",
      "Downloading py_rust_stemmers-0.1.3-cp311-cp311-manylinux_2_28_x86_64.whl (323 kB)\n",
      "Installing collected packages: py-rust-stemmers, qdrant-client, fastembed\n",
      "  Attempting uninstall: qdrant-client\n",
      "    Found existing installation: qdrant-client 1.12.1\n",
      "    Uninstalling qdrant-client-1.12.1:\n",
      "      Successfully uninstalled qdrant-client-1.12.1\n",
      "  Attempting uninstall: fastembed\n",
      "    Found existing installation: fastembed 0.3.6\n",
      "    Uninstalling fastembed-0.3.6:\n",
      "      Successfully uninstalled fastembed-0.3.6\n",
      "Successfully installed fastembed-0.5.0 py-rust-stemmers-0.1.3 qdrant-client-1.12.2\n"
     ]
    }
   ],
   "source": [
    "!pip install 'qdrant-client[fastembed]' --upgrade"
   ]
  },
  {
   "cell_type": "code",
   "execution_count": 2,
   "id": "224c827e-4868-47c4-b667-c284374e959b",
   "metadata": {},
   "outputs": [],
   "source": [
    "QDRANT_HOST=\"https://3bdbdcd2-6854-48ab-b5c4-c22a0da98431.europe-west3-0.gcp.cloud.qdrant.io\"\n",
    "QDRANT_API_KEY=\"eR-0gtWq9ljNyq1b4dFK0sGn9xXpbOmp-UR7J_fEl2ia11ckAWzijw\"\n",
    "QDRANT_PORT=6333"
   ]
  },
  {
   "cell_type": "code",
   "execution_count": 3,
   "id": "ea3bd351-edf5-4d41-ad87-cdbf87461830",
   "metadata": {},
   "outputs": [],
   "source": [
    "from qdrant_client import AsyncQdrantClient, QdrantClient\n",
    "\n",
    "# client = QdrantClient(path=\"path/to/db\")  # Persists changes to disk\n",
    "# or\n",
    "client = QdrantClient(url=QDRANT_HOST, port=QDRANT_PORT, api_key=QDRANT_API_KEY)"
   ]
  },
  {
   "cell_type": "code",
   "execution_count": 4,
   "id": "8bf5dd67-43b8-4c24-8e5c-70f7c5728e83",
   "metadata": {},
   "outputs": [
    {
     "data": {
      "application/vnd.jupyter.widget-view+json": {
       "model_id": "312e94a3be0f49ff9e5b9bc06d58b192",
       "version_major": 2,
       "version_minor": 0
      },
      "text/plain": [
       "Fetching 5 files:   0%|          | 0/5 [00:00<?, ?it/s]"
      ]
     },
     "metadata": {},
     "output_type": "display_data"
    },
    {
     "data": {
      "application/vnd.jupyter.widget-view+json": {
       "model_id": "4cfe3a098a2e40f9880c39d6ce0ab8d3",
       "version_major": 2,
       "version_minor": 0
      },
      "text/plain": [
       "tokenizer_config.json:   0%|          | 0.00/366 [00:00<?, ?B/s]"
      ]
     },
     "metadata": {},
     "output_type": "display_data"
    },
    {
     "data": {
      "application/vnd.jupyter.widget-view+json": {
       "model_id": "7052621e3dc7491ea1cfb71c30a0e573",
       "version_major": 2,
       "version_minor": 0
      },
      "text/plain": [
       "config.json:   0%|          | 0.00/701 [00:00<?, ?B/s]"
      ]
     },
     "metadata": {},
     "output_type": "display_data"
    },
    {
     "data": {
      "application/vnd.jupyter.widget-view+json": {
       "model_id": "323b5cb75a5e4aa988e8daa5d86b31e6",
       "version_major": 2,
       "version_minor": 0
      },
      "text/plain": [
       "tokenizer.json:   0%|          | 0.00/711k [00:00<?, ?B/s]"
      ]
     },
     "metadata": {},
     "output_type": "display_data"
    },
    {
     "data": {
      "application/vnd.jupyter.widget-view+json": {
       "model_id": "620f0cb5f2134d239ee4dc8e2c5d43da",
       "version_major": 2,
       "version_minor": 0
      },
      "text/plain": [
       "special_tokens_map.json:   0%|          | 0.00/125 [00:00<?, ?B/s]"
      ]
     },
     "metadata": {},
     "output_type": "display_data"
    },
    {
     "data": {
      "application/vnd.jupyter.widget-view+json": {
       "model_id": "d3f50cf952934c9db5f72dfa71efa78f",
       "version_major": 2,
       "version_minor": 0
      },
      "text/plain": [
       "model_optimized.onnx:   0%|          | 0.00/133M [00:00<?, ?B/s]"
      ]
     },
     "metadata": {},
     "output_type": "display_data"
    },
    {
     "data": {
      "text/plain": [
       "['fe214fbc3a114e22a6447e65d76e404a', 'e74b2308c90e4e728d6fa01c8c5af62e']"
      ]
     },
     "execution_count": 4,
     "metadata": {},
     "output_type": "execute_result"
    }
   ],
   "source": [
    "# Prepare your documents, metadata, and IDs\n",
    "docs = [\"Qdrant has Langchain integrations\", \"Qdrant also has Llama Index integrations\"]\n",
    "\n",
    "client.add(\n",
    "    collection_name=\"demo_collection\",\n",
    "    documents=docs,\n",
    ")"
   ]
  },
  {
   "cell_type": "code",
   "execution_count": 12,
   "id": "d1420175-1fab-4af0-a857-6614dbf70278",
   "metadata": {},
   "outputs": [
    {
     "name": "stdout",
     "output_type": "stream",
     "text": [
      "points=[ScoredPoint(id=1, version=0, score=0.0, payload={'city': 'Berlin'}, vector=None, shard_key=None, order_value=None), ScoredPoint(id=2, version=0, score=0.0, payload={'city': 'London'}, vector=None, shard_key=None, order_value=None), ScoredPoint(id=3, version=0, score=0.0, payload={'city': 'Moscow'}, vector=None, shard_key=None, order_value=None), ScoredPoint(id=4, version=0, score=0.0, payload={'city': 'New York'}, vector=None, shard_key=None, order_value=None), ScoredPoint(id=5, version=0, score=0.0, payload={'city': 'Beijing'}, vector=None, shard_key=None, order_value=None), ScoredPoint(id=6, version=0, score=0.0, payload={'city': 'Mumbai'}, vector=None, shard_key=None, order_value=None)]\n"
     ]
    }
   ],
   "source": [
    "search_result = client.query_points(\n",
    "    collection_name=\"test_collection\",\n",
    ")\n",
    "print(search_result)"
   ]
  },
  {
   "cell_type": "code",
   "execution_count": 13,
   "id": "eb767d49",
   "metadata": {},
   "outputs": [
    {
     "data": {
      "text/plain": [
       "[ScoredPoint(id=1, version=0, score=0.0, payload={'city': 'Berlin'}, vector=None, shard_key=None, order_value=None),\n",
       " ScoredPoint(id=2, version=0, score=0.0, payload={'city': 'London'}, vector=None, shard_key=None, order_value=None),\n",
       " ScoredPoint(id=3, version=0, score=0.0, payload={'city': 'Moscow'}, vector=None, shard_key=None, order_value=None),\n",
       " ScoredPoint(id=4, version=0, score=0.0, payload={'city': 'New York'}, vector=None, shard_key=None, order_value=None),\n",
       " ScoredPoint(id=5, version=0, score=0.0, payload={'city': 'Beijing'}, vector=None, shard_key=None, order_value=None),\n",
       " ScoredPoint(id=6, version=0, score=0.0, payload={'city': 'Mumbai'}, vector=None, shard_key=None, order_value=None)]"
      ]
     },
     "execution_count": 13,
     "metadata": {},
     "output_type": "execute_result"
    }
   ],
   "source": [
    "search_result.points"
   ]
  },
  {
   "cell_type": "code",
   "execution_count": 7,
   "id": "f6fd15dd",
   "metadata": {},
   "outputs": [
    {
     "data": {
      "text/plain": [
       "qdrant_client.http.models.models.QueryResponse"
      ]
     },
     "execution_count": 7,
     "metadata": {},
     "output_type": "execute_result"
    }
   ],
   "source": [
    "type(search_result)"
   ]
  },
  {
   "cell_type": "code",
   "execution_count": 6,
   "id": "dd2b0c9b-d09d-4e16-a3d0-998ac04b80b0",
   "metadata": {},
   "outputs": [],
   "source": [
    "from qdrant_client.http.models import Distance, VectorParams\n",
    "\n",
    "if not client.collection_exists(\"test_collection\"):\n",
    "    client.create_collection(\n",
    "            collection_name=\"test_collection\",\n",
    "            vectors_config=VectorParams(size=8, distance=Distance.DOT),\n",
    "    )"
   ]
  },
  {
   "cell_type": "code",
   "execution_count": 7,
   "id": "bf1466d1-570a-4ba8-87c6-2751615ccc8b",
   "metadata": {},
   "outputs": [
    {
     "name": "stdout",
     "output_type": "stream",
     "text": [
      "operation_id=0 status=<UpdateStatus.COMPLETED: 'completed'>\n"
     ]
    }
   ],
   "source": [
    "from qdrant_client.http.models import PointStruct\n",
    "\n",
    "operation_info = client.upsert(\n",
    "    collection_name=\"test_collection\",\n",
    "    wait=True,\n",
    "    points=[\n",
    "        PointStruct(id=1, vector=[0.05, 0.61, 0.76, 0.74, 0.05, 0.61, 0.76, 0.74], payload={\"city\": \"Berlin\"}),\n",
    "        PointStruct(id=2, vector=[0.05, 0.61, 0.76, 0.74, 0.05, 0.61, 0.76, 0.74], payload={\"city\": \"London\"}),\n",
    "        PointStruct(id=3, vector=[0.05, 0.61, 0.76, 0.74, 0.05, 0.61, 0.76, 0.74], payload={\"city\": \"Moscow\"}),\n",
    "        PointStruct(id=4, vector=[0.05, 0.61, 0.76, 0.74, 0.05, 0.61, 0.76, 0.74], payload={\"city\": \"New York\"}),\n",
    "        PointStruct(id=5, vector=[0.05, 0.61, 0.76, 0.74, 0.05, 0.61, 0.76, 0.74], payload={\"city\": \"Beijing\"}),\n",
    "        PointStruct(id=6, vector=[0.05, 0.61, 0.76, 0.74, 0.05, 0.61, 0.76, 0.74], payload={\"city\": \"Mumbai\"}),\n",
    "    ]\n",
    ")\n",
    "print(operation_info)"
   ]
  },
  {
   "cell_type": "code",
   "execution_count": 9,
   "id": "ec582c94-b742-4895-a052-95d8dc0fb744",
   "metadata": {},
   "outputs": [
    {
     "name": "stdout",
     "output_type": "stream",
     "text": [
      "[ScoredPoint(id=1, version=0, score=2.4292, payload={'city': 'Berlin'}, vector=None, shard_key=None, order_value=None)]\n"
     ]
    }
   ],
   "source": [
    "search_result = client.search(\n",
    "    collection_name=\"test_collection\",\n",
    "    query_vector=[0.18, 0.81, 0.75, 0.12, 0.12, 0.69, 0.58, 0.54],\n",
    "    limit=1\n",
    ")\n",
    "print(search_result)"
   ]
  },
  {
   "cell_type": "code",
   "execution_count": 11,
   "id": "e1044d38-5850-4891-8164-554b74e638f4",
   "metadata": {},
   "outputs": [
    {
     "name": "stdout",
     "output_type": "stream",
     "text": [
      "[ScoredPoint(id=2, version=0, score=2.4292, payload={'city': 'London'}, vector=None, shard_key=None, order_value=None)]\n"
     ]
    }
   ],
   "source": [
    "from qdrant_client.http.models import Filter, FieldCondition, MatchValue\n",
    "\n",
    "search_result = client.search(\n",
    "    collection_name=\"test_collection\",\n",
    "    query_vector=[0.18, 0.81, 0.75, 0.12, 0.12, 0.69, 0.58, 0.54],\n",
    "    query_filter=Filter(\n",
    "        must=[\n",
    "            FieldCondition(\n",
    "                key=\"city\",\n",
    "                match=MatchValue(value=\"London\")\n",
    "            )\n",
    "        ]\n",
    "    ),\n",
    "    limit=1\n",
    ")\n",
    "print(search_result)"
   ]
  },
  {
   "cell_type": "code",
   "execution_count": null,
   "id": "469e5522-4c41-41ac-9bf7-da0bf8edbadc",
   "metadata": {},
   "outputs": [],
   "source": []
  },
  {
   "cell_type": "code",
   "execution_count": null,
   "id": "c6b6ef07-3462-421c-89b0-80325a5e3bcf",
   "metadata": {},
   "outputs": [],
   "source": []
  },
  {
   "cell_type": "code",
   "execution_count": null,
   "id": "33994e10-a948-4653-926f-9e9c66f93934",
   "metadata": {},
   "outputs": [],
   "source": []
  },
  {
   "cell_type": "code",
   "execution_count": null,
   "id": "7319796e-9f2f-47e9-9e02-4f6dd156b264",
   "metadata": {},
   "outputs": [],
   "source": []
  },
  {
   "cell_type": "code",
   "execution_count": null,
   "id": "ce94638a-50df-4e0b-85e2-c59c1d2cbe45",
   "metadata": {},
   "outputs": [],
   "source": []
  }
 ],
 "metadata": {
  "kernelspec": {
   "display_name": "base",
   "language": "python",
   "name": "python3"
  },
  "language_info": {
   "codemirror_mode": {
    "name": "ipython",
    "version": 3
   },
   "file_extension": ".py",
   "mimetype": "text/x-python",
   "name": "python",
   "nbconvert_exporter": "python",
   "pygments_lexer": "ipython3",
   "version": "3.11.7"
  }
 },
 "nbformat": 4,
 "nbformat_minor": 5
}
