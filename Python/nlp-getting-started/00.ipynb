{
 "cells": [
  {
   "cell_type": "code",
   "execution_count": 1,
   "id": "c90278aa-7784-4bb0-a0e1-15e9671c94b1",
   "metadata": {},
   "outputs": [],
   "source": [
    "import nltk\n",
    "from nltk.stem.porter import *\n",
    "from torch.nn import *\n",
    "from torch.optim import *\n",
    "import numpy as np\n",
    "import pandas as pd\n",
    "import torch,torchvision\n",
    "import random\n",
    "from tqdm import *\n",
    "from torch.utils.data import Dataset,DataLoader\n",
    "stemmer = PorterStemmer()"
   ]
  },
  {
   "cell_type": "code",
   "execution_count": 2,
   "id": "d28d8ccd-d19a-4f48-8850-b286f57a0705",
   "metadata": {},
   "outputs": [],
   "source": [
    "def tokenize(sentence):\n",
    "    return nltk.word_tokenize(sentence)"
   ]
  },
  {
   "cell_type": "code",
   "execution_count": 3,
   "id": "bc478d26-3849-4cc3-946a-83efa70392dd",
   "metadata": {},
   "outputs": [
    {
     "data": {
      "text/plain": [
       "['#', '100+']"
      ]
     },
     "execution_count": 3,
     "metadata": {},
     "output_type": "execute_result"
    }
   ],
   "source": [
    "tokenize('#100+')"
   ]
  },
  {
   "cell_type": "code",
   "execution_count": 4,
   "id": "1f54611c-4d74-461d-935e-c868f6b4034b",
   "metadata": {},
   "outputs": [],
   "source": [
    "def stem(word):\n",
    "    return stemmer.stem(word.lower())"
   ]
  },
  {
   "cell_type": "code",
   "execution_count": 5,
   "id": "df85c98a-6329-4e3a-b9d1-d2cf147a50dd",
   "metadata": {},
   "outputs": [
    {
     "data": {
      "text/plain": [
       "'organ'"
      ]
     },
     "execution_count": 5,
     "metadata": {},
     "output_type": "execute_result"
    }
   ],
   "source": [
    "stem('organic')"
   ]
  },
  {
   "cell_type": "code",
   "execution_count": 6,
   "id": "4f2955f0-1919-45ad-9260-0b5aa65815b0",
   "metadata": {},
   "outputs": [],
   "source": [
    "def bag_of_words(tokenized_words,all_words):\n",
    "    tokenized_words = [stem(w) for w in tokenized_words]\n",
    "    bag = np.zeros(len(all_words),dtype=np.float32)\n",
    "    for idx,w in enumerate(all_words):\n",
    "        if w in tokenized_words:\n",
    "            bag[idx] = 1.0\n",
    "    return bag"
   ]
  },
  {
   "cell_type": "code",
   "execution_count": 7,
   "id": "3a9f7fcf-0d1f-4be0-b084-7d28c7aad9dd",
   "metadata": {},
   "outputs": [
    {
     "data": {
      "text/plain": [
       "array([0., 1.], dtype=float32)"
      ]
     },
     "execution_count": 7,
     "metadata": {},
     "output_type": "execute_result"
    }
   ],
   "source": [
    "bag_of_words(['hi'],['how','hi'])"
   ]
  },
  {
   "cell_type": "code",
   "execution_count": 8,
   "id": "b04311b9-ff38-4ba8-a959-23f5b4f79c40",
   "metadata": {},
   "outputs": [],
   "source": [
    "data = pd.read_csv('./train.csv')"
   ]
  },
  {
   "cell_type": "code",
   "execution_count": 9,
   "id": "585e1f65-6199-4064-9325-9d23cd09b15f",
   "metadata": {},
   "outputs": [],
   "source": [
    "X = data['text']\n",
    "y = data['target']"
   ]
  },
  {
   "cell_type": "code",
   "execution_count": 10,
   "id": "d55aef04-75b2-40eb-83c8-30dac5bb3618",
   "metadata": {},
   "outputs": [],
   "source": [
    "all_words = []\n",
    "all_data = []\n",
    "tags = []"
   ]
  },
  {
   "cell_type": "code",
   "execution_count": 11,
   "id": "5d974272-d0ee-4179-b2b4-615dd2983303",
   "metadata": {},
   "outputs": [
    {
     "name": "stderr",
     "output_type": "stream",
     "text": [
      "7613it [00:02, 2974.61it/s]\n"
     ]
    }
   ],
   "source": [
    "for X_batch,y_batch in tqdm(zip(X,y)):\n",
    "    X_batch = tokenize(X_batch)\n",
    "    new_X = []\n",
    "    for Xb in X_batch:\n",
    "        new_X.append(stem(Xb))\n",
    "    all_words.extend(new_X)\n",
    "    all_data.append((new_X,y_batch))\n",
    "    tags.append(y_batch)"
   ]
  },
  {
   "cell_type": "code",
   "execution_count": 12,
   "id": "8d43618c-6fde-421c-923d-7e556a79d39d",
   "metadata": {},
   "outputs": [],
   "source": [
    "np.random.shuffle(all_data)\n",
    "np.random.shuffle(all_words)"
   ]
  },
  {
   "cell_type": "code",
   "execution_count": 13,
   "id": "c68fb978-953f-4673-b4c9-16c31651cba2",
   "metadata": {},
   "outputs": [],
   "source": [
    "all_words = sorted(set(all_words))\n",
    "tags = sorted(set(tags))"
   ]
  },
  {
   "cell_type": "code",
   "execution_count": 14,
   "id": "3bb722bd-589b-4b99-9305-7f8b8ad3d6bf",
   "metadata": {},
   "outputs": [],
   "source": [
    "np.random.shuffle(all_data)\n",
    "np.random.shuffle(all_words)"
   ]
  },
  {
   "cell_type": "code",
   "execution_count": 15,
   "id": "ec2a058f-8d35-42df-8735-7c8f096f3747",
   "metadata": {},
   "outputs": [],
   "source": [
    "X = []\n",
    "y = []"
   ]
  },
  {
   "cell_type": "code",
   "execution_count": 16,
   "id": "fe709924-6a85-4aac-9a2c-511a5948fe5b",
   "metadata": {},
   "outputs": [
    {
     "name": "stderr",
     "output_type": "stream",
     "text": [
      "100%|██████████████████████████████████████| 7613/7613 [00:27<00:00, 276.55it/s]\n"
     ]
    }
   ],
   "source": [
    "for sentence,tag in tqdm(all_data):\n",
    "    X.append(bag_of_words(sentence,all_words))\n",
    "    y.append(tags.index(tag))"
   ]
  },
  {
   "cell_type": "code",
   "execution_count": 17,
   "id": "a020adf0-86b6-40ec-9cba-fd16bcf6f479",
   "metadata": {},
   "outputs": [],
   "source": [
    "from sklearn.model_selection import *"
   ]
  },
  {
   "cell_type": "code",
   "execution_count": 18,
   "id": "d5714db3-f505-491d-af46-ff9680801ccb",
   "metadata": {},
   "outputs": [],
   "source": [
    "X_train,X_test,y_train,y_test = train_test_split(X,y,test_size=0.125,shuffle=False)"
   ]
  },
  {
   "cell_type": "code",
   "execution_count": 19,
   "id": "81982d37-867f-41cb-a6cb-cf2483dc4a8b",
   "metadata": {},
   "outputs": [],
   "source": [
    "device = 'cuda'"
   ]
  },
  {
   "cell_type": "code",
   "execution_count": 20,
   "id": "d8f11e4b-92d7-4ac1-b66f-ac313e7b4120",
   "metadata": {},
   "outputs": [],
   "source": [
    "torch.cuda.empty_cache()"
   ]
  },
  {
   "cell_type": "code",
   "execution_count": 21,
   "id": "07545d8e-34de-4842-be1c-a1e60eb68650",
   "metadata": {},
   "outputs": [],
   "source": [
    "X_train = torch.from_numpy(np.array(X_train)).to(device).float()\n",
    "y_train = torch.from_numpy(np.array(y_train)).to(device).to(device).long()\n",
    "X_test = torch.from_numpy(np.array(X_test)).to(device).to(device).float()\n",
    "y_test = torch.from_numpy(np.array(y_test)).to(device).to(device).long()"
   ]
  },
  {
   "cell_type": "code",
   "execution_count": 22,
   "id": "ab60924c-2b6f-48f1-af66-6fb0883a472a",
   "metadata": {},
   "outputs": [],
   "source": [
    "def get_loss(model,X,y,criterion):\n",
    "    preds = model(X)\n",
    "    loss = criterion(preds.view(-1,1),y.view(-1,1))\n",
    "    return loss.item()"
   ]
  },
  {
   "cell_type": "code",
   "execution_count": 23,
   "id": "b0500d9c-5390-45bf-990f-3904ed58c09b",
   "metadata": {},
   "outputs": [],
   "source": [
    "def get_accuracy(model,X,y):\n",
    "    correcrt = 0\n",
    "    total = 0\n",
    "    preds = model(X)\n",
    "    for pred,y_batch in zip(preds,y):\n",
    "        pred = int(torch.round(pred))\n",
    "        if pred == y_batch:\n",
    "            correcrt += 1\n",
    "        total += 1\n",
    "    acc = round(correcrt/total,3)*100\n",
    "    return acc"
   ]
  },
  {
   "cell_type": "code",
   "execution_count": 24,
   "id": "9e5c84d7-8801-4ab9-9dbe-fef468e97593",
   "metadata": {},
   "outputs": [],
   "source": [
    "class Model(Module):\n",
    "    def __init__(self):\n",
    "        super().__init__()\n",
    "        self.activation = ReLU()\n",
    "        self.iters = 10\n",
    "        self.hidden = 512\n",
    "        self.linear1 = Linear(len(all_words),self.hidden)\n",
    "        self.linear2 = Linear(self.hidden,self.hidden)\n",
    "        self.bn = BatchNorm1d(self.hidden)\n",
    "        self.output = Linear(self.hidden,1)\n",
    "    \n",
    "    def forward(self,X):\n",
    "        preds = self.linear1(X)\n",
    "        for _ in range(self.iters):\n",
    "            preds = self.activation(self.bn(self.linear2(preds)))\n",
    "        preds = self.output(preds)\n",
    "        return preds"
   ]
  },
  {
   "cell_type": "code",
   "execution_count": 25,
   "id": "61d33b9d-2d36-45f6-b6dc-c171a442c61d",
   "metadata": {},
   "outputs": [],
   "source": [
    "model = Model().to(device)"
   ]
  },
  {
   "cell_type": "code",
   "execution_count": 26,
   "id": "d80f3d4c-0215-4538-987a-17ee7c9df976",
   "metadata": {},
   "outputs": [],
   "source": [
    "criterion = MSELoss()"
   ]
  },
  {
   "cell_type": "code",
   "execution_count": 27,
   "id": "f17a9f1f-00d8-48a3-9e94-45e0d5f64662",
   "metadata": {},
   "outputs": [
    {
     "data": {
      "text/plain": [
       "Model(\n",
       "  (activation): ReLU()\n",
       "  (linear1): Linear(in_features=20103, out_features=512, bias=True)\n",
       "  (linear2): Linear(in_features=512, out_features=512, bias=True)\n",
       "  (bn): BatchNorm1d(512, eps=1e-05, momentum=0.1, affine=True, track_running_stats=True)\n",
       "  (output): Linear(in_features=512, out_features=1, bias=True)\n",
       ")"
      ]
     },
     "execution_count": 27,
     "metadata": {},
     "output_type": "execute_result"
    }
   ],
   "source": [
    "model"
   ]
  },
  {
   "cell_type": "code",
   "execution_count": 28,
   "id": "75ad9875-542e-43a9-8426-cf2b41d183cc",
   "metadata": {},
   "outputs": [],
   "source": [
    "optimizer = Adam(model.parameters(),lr=0.001)"
   ]
  },
  {
   "cell_type": "code",
   "execution_count": 29,
   "id": "30a7bdbc-181d-4a49-85ba-97eaa86691ef",
   "metadata": {},
   "outputs": [],
   "source": [
    "epochs = 100"
   ]
  },
  {
   "cell_type": "code",
   "execution_count": 30,
   "id": "dedc9ddc-16c3-49d7-b62b-b0a326f70829",
   "metadata": {},
   "outputs": [],
   "source": [
    "batch_size = 8"
   ]
  },
  {
   "cell_type": "code",
   "execution_count": 31,
   "id": "7861c1c0-0f74-45d2-8969-9de36984745b",
   "metadata": {},
   "outputs": [],
   "source": [
    "import wandb"
   ]
  },
  {
   "cell_type": "code",
   "execution_count": 32,
   "id": "f8c14ff3-f43e-41cf-aa1b-8110fd31b589",
   "metadata": {},
   "outputs": [],
   "source": [
    "PROJECT_NAME = 'nlp-getting-started'"
   ]
  },
  {
   "cell_type": "code",
   "execution_count": 33,
   "id": "8138c0b5-d674-461c-9ee4-99457e6de176",
   "metadata": {},
   "outputs": [
    {
     "name": "stderr",
     "output_type": "stream",
     "text": [
      "\u001b[34m\u001b[1mwandb\u001b[0m: Currently logged in as: \u001b[33mranuga-d\u001b[0m (use `wandb login --relogin` to force relogin)\n"
     ]
    },
    {
     "data": {
      "text/html": [
       "\n",
       "                Tracking run with wandb version 0.12.1<br/>\n",
       "                Syncing run <strong style=\"color:#cdcd00\">baseline</strong> to <a href=\"https://wandb.ai\" target=\"_blank\">Weights & Biases</a> <a href=\"https://docs.wandb.com/integrations/jupyter.html\" target=\"_blank\">(Documentation)</a>.<br/>\n",
       "                Project page: <a href=\"https://wandb.ai/ranuga-d/nlp-getting-started\" target=\"_blank\">https://wandb.ai/ranuga-d/nlp-getting-started</a><br/>\n",
       "                Run page: <a href=\"https://wandb.ai/ranuga-d/nlp-getting-started/runs/304kdyaj\" target=\"_blank\">https://wandb.ai/ranuga-d/nlp-getting-started/runs/304kdyaj</a><br/>\n",
       "                Run data is saved locally in <code>/home/indika/Programming/Projects/Python/Artifical-Intelligence/PyTorch/NLP/nlp-getting-started/wandb/run-20210908_173609-304kdyaj</code><br/><br/>\n",
       "            "
      ],
      "text/plain": [
       "<IPython.core.display.HTML object>"
      ]
     },
     "metadata": {},
     "output_type": "display_data"
    },
    {
     "name": "stderr",
     "output_type": "stream",
     "text": [
      "100%|█████████████████████████████████████████| 100/100 [13:30<00:00,  8.10s/it]\n"
     ]
    },
    {
     "data": {
      "text/html": [
       "<br/>Waiting for W&B process to finish, PID 115563<br/>Program ended successfully."
      ],
      "text/plain": [
       "<IPython.core.display.HTML object>"
      ]
     },
     "metadata": {},
     "output_type": "display_data"
    },
    {
     "data": {
      "application/vnd.jupyter.widget-view+json": {
       "model_id": "",
       "version_major": 2,
       "version_minor": 0
      },
      "text/plain": [
       "VBox(children=(Label(value=' 0.03MB of 0.03MB uploaded (0.00MB deduped)\\r'), FloatProgress(value=1.0, max=1.0)…"
      ]
     },
     "metadata": {},
     "output_type": "display_data"
    },
    {
     "data": {
      "text/html": [
       "Find user logs for this run at: <code>/home/indika/Programming/Projects/Python/Artifical-Intelligence/PyTorch/NLP/nlp-getting-started/wandb/run-20210908_173609-304kdyaj/logs/debug.log</code>"
      ],
      "text/plain": [
       "<IPython.core.display.HTML object>"
      ]
     },
     "metadata": {},
     "output_type": "display_data"
    },
    {
     "data": {
      "text/html": [
       "Find internal logs for this run at: <code>/home/indika/Programming/Projects/Python/Artifical-Intelligence/PyTorch/NLP/nlp-getting-started/wandb/run-20210908_173609-304kdyaj/logs/debug-internal.log</code>"
      ],
      "text/plain": [
       "<IPython.core.display.HTML object>"
      ]
     },
     "metadata": {},
     "output_type": "display_data"
    },
    {
     "data": {
      "text/html": [
       "<h3>Run summary:</h3><br/><style>\n",
       "    table.wandb td:nth-child(1) { padding: 0 10px; text-align: right }\n",
       "    </style><table class=\"wandb\">\n",
       "<tr><td>Loss</td><td>0.56103</td></tr><tr><td>_runtime</td><td>816</td></tr><tr><td>_timestamp</td><td>1631103586</td></tr><tr><td>_step</td><td>399</td></tr><tr><td>Val Loss</td><td>0.42167</td></tr><tr><td>Acc</td><td>60.3</td></tr><tr><td>Val Acc</td><td>57.5</td></tr></table>"
      ],
      "text/plain": [
       "<IPython.core.display.HTML object>"
      ]
     },
     "metadata": {},
     "output_type": "display_data"
    },
    {
     "data": {
      "text/html": [
       "<h3>Run history:</h3><br/><style>\n",
       "    table.wandb td:nth-child(1) { padding: 0 10px; text-align: right }\n",
       "    </style><table class=\"wandb\">\n",
       "<tr><td>Loss</td><td>▃▂▁▂▁▁▁▁▁▁▂▂▂▂▃▃▃▃▄▄▄▅▅▅▄▅▄▅▆▅▅▆▆▄▆▆▆▇▆█</td></tr><tr><td>_runtime</td><td>▁▁▁▂▂▂▂▂▂▃▃▃▃▃▄▄▄▄▄▄▅▅▅▅▅▆▆▆▆▆▆▇▇▇▇▇▇███</td></tr><tr><td>_timestamp</td><td>▁▁▁▂▂▂▂▂▂▃▃▃▃▃▄▄▄▄▄▄▅▅▅▅▅▆▆▆▆▆▆▇▇▇▇▇▇███</td></tr><tr><td>_step</td><td>▁▁▁▁▂▂▂▂▂▃▃▃▃▃▃▄▄▄▄▄▅▅▅▅▅▅▆▆▆▆▆▇▇▇▇▇▇███</td></tr><tr><td>Val Loss</td><td>▂▂▁▂▂▂▂▁▁▁▂▂▁▂▃▂▂▂▃▃▃▄▄▃▃▄▄▅▅▄▃▄▃▃▅▄▅▆▅█</td></tr><tr><td>Acc</td><td>▁▆▇▇▇█████▄▄▆▃▃▃▃▃▂▂▂▂▂▂▂▂▂▂▂▂▂▁▁▂▂▁▁▁▂▁</td></tr><tr><td>Val Acc</td><td>▁▇█▇█▇█▇██▅▅▆▄▃▄▄▄▃▃▂▂▂▂▂▂▂▂▂▂▂▂▂▂▂▂▁▂▂▁</td></tr></table><br/>"
      ],
      "text/plain": [
       "<IPython.core.display.HTML object>"
      ]
     },
     "metadata": {},
     "output_type": "display_data"
    },
    {
     "data": {
      "text/html": [
       "Synced 6 W&B file(s), 0 media file(s), 2 artifact file(s) and 1 other file(s)"
      ],
      "text/plain": [
       "<IPython.core.display.HTML object>"
      ]
     },
     "metadata": {},
     "output_type": "display_data"
    },
    {
     "data": {
      "text/html": [
       "\n",
       "                    <br/>Synced <strong style=\"color:#cdcd00\">baseline</strong>: <a href=\"https://wandb.ai/ranuga-d/nlp-getting-started/runs/304kdyaj\" target=\"_blank\">https://wandb.ai/ranuga-d/nlp-getting-started/runs/304kdyaj</a><br/>\n",
       "                "
      ],
      "text/plain": [
       "<IPython.core.display.HTML object>"
      ]
     },
     "metadata": {},
     "output_type": "display_data"
    }
   ],
   "source": [
    "torch.cuda.empty_cache()\n",
    "wandb.init(project=PROJECT_NAME,name='baseline')\n",
    "wandb.watch(model)\n",
    "for _ in tqdm(range(epochs)):\n",
    "    torch.cuda.empty_cache()\n",
    "    for idx in range(0,len(X_train),batch_size):\n",
    "        torch.cuda.empty_cache()\n",
    "        X_batch = X_train[idx:idx+batch_size].to(device).float()\n",
    "        y_batch = y_train[idx:idx+batch_size].to(device).float()\n",
    "        preds = model(X_batch)\n",
    "        loss = criterion(preds.view(-1,1),y_batch.view(-1,1))\n",
    "        optimizer.zero_grad()\n",
    "        loss.backward()\n",
    "        optimizer.step()\n",
    "    wandb.log({'Loss':get_loss(model,X_train,y_train,criterion)})\n",
    "    wandb.log({'Val Loss':get_loss(model,X_test,y_test,criterion)})\n",
    "    wandb.log({'Acc':get_accuracy(model,X_train,y_train)})\n",
    "    wandb.log({'Val Acc':get_accuracy(model,X_test,y_test)})\n",
    "wandb.watch(model)\n",
    "wandb.finish()\n",
    "torch.cuda.empty_cache()"
   ]
  },
  {
   "cell_type": "code",
   "execution_count": null,
   "id": "c2c99a45-e7fe-4011-9c7a-e1fbf6c11e72",
   "metadata": {},
   "outputs": [],
   "source": []
  }
 ],
 "metadata": {
  "kernelspec": {
   "display_name": "Python 3.7.3 64-bit ('base': conda)",
   "language": "python",
   "name": "python373jvsc74a57bd0210f9608a45c0278a93c9e0b10db32a427986ab48cfc0d20c139811eb78c4bbc"
  },
  "language_info": {
   "codemirror_mode": {
    "name": "ipython",
    "version": 3
   },
   "file_extension": ".py",
   "mimetype": "text/x-python",
   "name": "python",
   "nbconvert_exporter": "python",
   "pygments_lexer": "ipython3",
   "version": "3.7.11"
  }
 },
 "nbformat": 4,
 "nbformat_minor": 5
}
