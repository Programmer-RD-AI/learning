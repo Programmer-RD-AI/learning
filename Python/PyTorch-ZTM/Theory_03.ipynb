{
 "cells": [
  {
   "cell_type": "markdown",
   "id": "d2a7fee3-2187-47bd-9bd1-728eb967c92f",
   "metadata": {},
   "source": [
    "# CNN\n",
    "\n",
    "A type artifical neural network, it has convolutional and non covolutional layers\n",
    "\n",
    "There are many filters in the convolutional layers and they have specific tasks of detecting certain parts of the image for example textures, edges, etc...\n",
    "\n",
    "Essentially there is filter where it goes over the image this is the kernal size then it produces a product of the output and this happens over and over again, the weights and bias of the filter is what is changed overtime"
   ]
  },
  {
   "cell_type": "markdown",
   "id": "fcf29831-9d66-4746-8da0-17b93e5c0da9",
   "metadata": {},
   "source": [
    "# Max Pool\n",
    "\n",
    "Reduces the no. of pixels\n",
    "\n",
    "We give a filter size, the stride is how many pixels the filter moves\n",
    "\n",
    "From every filter uses it takes the highest one  \n",
    "\n",
    "Its helful becz it reduces parameters() and computational needs and reduce over fitting, this is due to a sort of generalisation "
   ]
  },
  {
   "cell_type": "code",
   "execution_count": null,
   "id": "2953d201-aede-45ad-9607-d9f1081dbdde",
   "metadata": {},
   "outputs": [],
   "source": []
  }
 ],
 "metadata": {
  "kernelspec": {
   "display_name": "Python 3 (ipykernel)",
   "language": "python",
   "name": "python3"
  },
  "language_info": {
   "codemirror_mode": {
    "name": "ipython",
    "version": 3
   },
   "file_extension": ".py",
   "mimetype": "text/x-python",
   "name": "python",
   "nbconvert_exporter": "python",
   "pygments_lexer": "ipython3",
   "version": "3.11.3"
  }
 },
 "nbformat": 4,
 "nbformat_minor": 5
}
