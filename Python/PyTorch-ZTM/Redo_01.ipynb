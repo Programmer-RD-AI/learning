{
 "cells": [
  {
   "cell_type": "code",
   "execution_count": 1,
   "id": "1d8d290e-9be8-43b8-a2f9-83a7da6a1009",
   "metadata": {},
   "outputs": [],
   "source": [
    "import torch\n",
    "from torch import nn\n",
    "from torch import optim\n",
    "import matplotlib.pyplot as plt\n",
    "import pandas as pd \n",
    "import numpy as np\n",
    "device = 'cuda' if torch.cuda.is_available() else 'cpu'"
   ]
  },
  {
   "cell_type": "code",
   "execution_count": 2,
   "id": "f0a62095-558d-4cfe-9e00-6947f30836e5",
   "metadata": {},
   "outputs": [
    {
     "data": {
      "text/plain": [
       "'1.9.1'"
      ]
     },
     "execution_count": 2,
     "metadata": {},
     "output_type": "execute_result"
    }
   ],
   "source": [
    "torch.__version__"
   ]
  },
  {
   "cell_type": "markdown",
   "id": "2174b48c-3f4f-4527-a8cd-20b749e72505",
   "metadata": {},
   "source": [
    "# Data"
   ]
  },
  {
   "cell_type": "code",
   "execution_count": 3,
   "id": "90cd32a1-1793-440c-ae82-f6f1fda41a4d",
   "metadata": {},
   "outputs": [
    {
     "name": "stderr",
     "output_type": "stream",
     "text": [
      "/tmp/ipykernel_970021/3981596623.py:5: UserWarning: To copy construct from a tensor, it is recommended to use sourceTensor.clone().detach() or sourceTensor.clone().detach().requires_grad_(True), rather than torch.tensor(sourceTensor).\n",
      "  y = torch.tensor(m*X+c).to(device)\n"
     ]
    }
   ],
   "source": [
    "# y = mx+c\n",
    "m = 0.69\n",
    "c = 0.96\n",
    "X = torch.arange(0,1,0.002).to(device)\n",
    "y = torch.tensor(m*X+c).to(device)"
   ]
  },
  {
   "cell_type": "code",
   "execution_count": 4,
   "id": "75c7140b-b2ad-4093-8ec3-5db2913d409e",
   "metadata": {},
   "outputs": [],
   "source": [
    "from sklearn.model_selection import train_test_split"
   ]
  },
  {
   "cell_type": "code",
   "execution_count": 5,
   "id": "9e8a04bf-d66a-443c-b5ed-e32de1e3d342",
   "metadata": {},
   "outputs": [],
   "source": [
    "X_train,X_test,y_train,y_test = train_test_split(X,y,test_size=0.25)"
   ]
  },
  {
   "cell_type": "markdown",
   "id": "969857be-b87d-4c76-bb45-ec0fc42d8cf2",
   "metadata": {},
   "source": [
    "# Building Model"
   ]
  },
  {
   "cell_type": "code",
   "execution_count": 16,
   "id": "c812c60e-4d4b-4e4d-a4f9-9ddac19a53ff",
   "metadata": {},
   "outputs": [],
   "source": [
    "class LinearRegressionModel(nn.Module):\n",
    "    def __init__(self):\n",
    "        super().__init__()\n",
    "        self.m = nn.Parameter(torch.randn(1))\n",
    "        self.c = nn.Parameter(torch.randn(1))\n",
    "    \n",
    "    def forward(self,X):\n",
    "        return X*self.m+self.c"
   ]
  },
  {
   "cell_type": "code",
   "execution_count": 7,
   "id": "8e238fcf-4661-455c-b22a-7d6971e53cdc",
   "metadata": {},
   "outputs": [],
   "source": [
    "model_0 = LinearRegressionModel().to(device)\n",
    "criterion = nn.L1Loss()\n",
    "optimizer = optim.Adam(model_0.parameters(),lr=0.01)"
   ]
  },
  {
   "cell_type": "code",
   "execution_count": 8,
   "id": "03713d9b-5c3b-42ac-afe4-379e6a4b26d5",
   "metadata": {},
   "outputs": [],
   "source": [
    "epochs = 100"
   ]
  },
  {
   "cell_type": "code",
   "execution_count": 9,
   "id": "c12dcb9d-9cf0-457c-950f-05bb91731118",
   "metadata": {},
   "outputs": [],
   "source": [
    "m_iter = []\n",
    "c_iter = []\n",
    "train_loss_iter = []\n",
    "test_loss_iter = []"
   ]
  },
  {
   "cell_type": "markdown",
   "id": "08ab26f4-eaf6-419f-a1c5-a946a0049885",
   "metadata": {},
   "source": [
    "# Training"
   ]
  },
  {
   "cell_type": "code",
   "execution_count": 10,
   "id": "d4b65807-c8f6-4d10-97c4-fc2a012805e4",
   "metadata": {},
   "outputs": [],
   "source": [
    "for epoch in range(epochs):\n",
    "    # train\n",
    "    model_0.train()    \n",
    "    y_preds = model_0(X_train)\n",
    "    loss = criterion(y_preds,y_train)\n",
    "    optimizer.zero_grad()\n",
    "    loss.backward()\n",
    "    optimizer.step()\n",
    "    # test\n",
    "    model_0.eval()\n",
    "    with torch.inference_mode():\n",
    "        y_test_preds = model_0(X_test)\n",
    "        test_loss = criterion(y_test_preds,y_test)\n",
    "    paramters = dict(model_0.state_dict())\n",
    "    m_iter.append(paramters['m'].cpu())\n",
    "    c_iter.append(paramters['c'].cpu())\n",
    "    train_loss_iter.append(loss.cpu().detach().numpy())\n",
    "    test_loss_iter.append(test_loss.cpu().detach().numpy())"
   ]
  },
  {
   "cell_type": "code",
   "execution_count": 11,
   "id": "6c2eb8cb-48eb-4331-94d5-19a2824d397f",
   "metadata": {},
   "outputs": [
    {
     "data": {
      "text/plain": [
       "OrderedDict([('m', tensor([0.6908], device='cuda:0')),\n",
       "             ('c', tensor([0.9606], device='cuda:0'))])"
      ]
     },
     "execution_count": 11,
     "metadata": {},
     "output_type": "execute_result"
    }
   ],
   "source": [
    "model_0.state_dict()"
   ]
  },
  {
   "cell_type": "markdown",
   "id": "618c4730-f72e-4e49-9b5e-a592e72f9847",
   "metadata": {},
   "source": [
    "# Predictions / Plotting"
   ]
  },
  {
   "cell_type": "code",
   "execution_count": 12,
   "id": "2ce6bd25-75d1-4a78-be95-3ab373f7734d",
   "metadata": {},
   "outputs": [
    {
     "name": "stderr",
     "output_type": "stream",
     "text": [
      "/media/indika/Sync/anaconda3/lib/python3.8/site-packages/numpy/core/shape_base.py:65: FutureWarning: The input object of type 'Tensor' is an array-like implementing one of the corresponding protocols (`__array__`, `__array_interface__` or `__array_struct__`); but not a sequence (or 0-D). In the future, this object will be coerced as if it was first converted using `np.array(obj)`. To retain the old behaviour, you have to either modify the type 'Tensor', or assign to an empty array created with `np.empty(correct_shape, dtype=object)`.\n",
      "  ary = asanyarray(ary)\n",
      "/media/indika/Sync/anaconda3/lib/python3.8/site-packages/numpy/core/shape_base.py:65: VisibleDeprecationWarning: Creating an ndarray from ragged nested sequences (which is a list-or-tuple of lists-or-tuples-or ndarrays with different lengths or shapes) is deprecated. If you meant to do this, you must specify 'dtype=object' when creating the ndarray.\n",
      "  ary = asanyarray(ary)\n"
     ]
    },
    {
     "data": {
      "image/png": "[encoded data removed]",
      "text/plain": [
       "<Figure size 432x288 with 1 Axes>"
      ]
     },
     "metadata": {
      "needs_background": "light"
     },
     "output_type": "display_data"
    }
   ],
   "source": [
    "plt.plot(range(epochs),m_iter)\n",
    "plt.xlabel('epochs')\n",
    "plt.ylabel('m_iter')\n",
    "plt.title(\"M_iter over time\")\n",
    "plt.show()"
   ]
  },
  {
   "cell_type": "code",
   "execution_count": 13,
   "id": "fd33db45-a48d-4d83-906a-35ea674aa2a2",
   "metadata": {},
   "outputs": [
    {
     "data": {
      "image/png": "[encoded data removed]",
      "text/plain": [
       "<Figure size 432x288 with 1 Axes>"
      ]
     },
     "metadata": {
      "needs_background": "light"
     },
     "output_type": "display_data"
    }
   ],
   "source": [
    "plt.plot(range(epochs),c_iter)\n",
    "plt.xlabel('epochs')\n",
    "plt.ylabel('c_iter')\n",
    "plt.title(\"c_iter over time\")\n",
    "plt.show()"
   ]
  },
  {
   "cell_type": "code",
   "execution_count": 14,
   "id": "8155b71f-5a93-43f2-8497-1fdfa172d165",
   "metadata": {},
   "outputs": [
    {
     "name": "stderr",
     "output_type": "stream",
     "text": [
      "No handles with labels found to put in legend.\n"
     ]
    },
    {
     "data": {
      "image/png": "[encoded data removed]",
      "text/plain": [
       "<Figure size 432x288 with 1 Axes>"
      ]
     },
     "metadata": {
      "needs_background": "light"
     },
     "output_type": "display_data"
    }
   ],
   "source": [
    "plt.plot(range(epochs),test_loss_iter,'b')\n",
    "plt.plot(range(epochs),train_loss_iter,'r')\n",
    "plt.xlabel('epochs')\n",
    "plt.ylabel('loss')\n",
    "plt.title(\"Losss over time\")\n",
    "plt.legend()\n",
    "plt.show()"
   ]
  },
  {
   "cell_type": "code",
   "execution_count": 15,
   "id": "d29e3858-c4fc-43a1-a106-1553bc20ddc1",
   "metadata": {},
   "outputs": [
    {
     "data": {
      "text/plain": [
       "(tensor([1.2006, 1.4205], device='cuda:0', grad_fn=<SliceBackward>),\n",
       " tensor([1.1987, 1.4182], device='cuda:0'))"
      ]
     },
     "execution_count": 15,
     "metadata": {},
     "output_type": "execute_result"
    }
   ],
   "source": [
    "y_preds[5:7],y_train[5:7]"
   ]
  },
  {
   "cell_type": "markdown",
   "id": "14988e5e-9cb8-4534-85da-5e6a26540da5",
   "metadata": {},
   "source": [
    "# Loading / Saving"
   ]
  },
  {
   "cell_type": "code",
   "execution_count": 19,
   "id": "33075f52-51cc-42ca-aa0d-969edc87e3d9",
   "metadata": {},
   "outputs": [],
   "source": [
    "state_dict = model_0.state_dict()"
   ]
  },
  {
   "cell_type": "code",
   "execution_count": 20,
   "id": "fa6f3d9a-b363-41a8-b5ab-ec5184c62aec",
   "metadata": {},
   "outputs": [],
   "source": [
    "torch.save(state_dict,'./models/01/redo_model_00.pth')"
   ]
  },
  {
   "cell_type": "code",
   "execution_count": 21,
   "id": "16d72a0f-ef4c-4903-843f-76b310cfb65c",
   "metadata": {},
   "outputs": [],
   "source": [
    "model_01 = LinearRegressionModel()"
   ]
  },
  {
   "cell_type": "code",
   "execution_count": 23,
   "id": "fe73a682-cef3-47ff-968a-81eb4695e169",
   "metadata": {},
   "outputs": [
    {
     "data": {
      "text/plain": [
       "<All keys matched successfully>"
      ]
     },
     "execution_count": 23,
     "metadata": {},
     "output_type": "execute_result"
    }
   ],
   "source": [
    "model_01.load_state_dict(torch.load('./models/01/redo_model_00.pth'))"
   ]
  },
  {
   "cell_type": "code",
   "execution_count": null,
   "id": "ee7736a2-e401-4e0c-88b0-fb92f9bb25d1",
   "metadata": {},
   "outputs": [],
   "source": []
  }
 ],
 "metadata": {
  "kernelspec": {
   "display_name": "Python 3 (ipykernel)",
   "language": "python",
   "name": "python3"
  },
  "language_info": {
   "codemirror_mode": {
    "name": "ipython",
    "version": 3
   },
   "file_extension": ".py",
   "mimetype": "text/x-python",
   "name": "python",
   "nbconvert_exporter": "python",
   "pygments_lexer": "ipython3",
   "version": "3.11.7"
  }
 },
 "nbformat": 4,
 "nbformat_minor": 5
}
