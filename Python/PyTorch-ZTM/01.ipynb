{
 "cells": [
  {
   "cell_type": "markdown",
   "id": "451f5c30-9d6d-420d-9480-1b2a919d9bb7",
   "metadata": {},
   "source": [
    "# PyTorch Workflow\n",
    "\n",
    "Let's explore a an eample of an end-to-end workflow"
   ]
  },
  {
   "cell_type": "code",
   "execution_count": 1,
   "id": "efce9095-643f-4b0a-85f4-94f22c703017",
   "metadata": {},
   "outputs": [],
   "source": [
    "what_were_covering = {\n",
    "    1:\"Data (prepare and load)\",\n",
    "    2:\"build model\",\n",
    "    3:\"fitting the model to data (training)\",\n",
    "    4:\"making predictions and evaluation (inference)\",\n",
    "    5:\"saving and loading a model\",\n",
    "    6:\"putting it all together\"\n",
    "}"
   ]
  },
  {
   "cell_type": "code",
   "execution_count": 2,
   "id": "a81513aa-0c1d-4c2f-b509-112aca295c80",
   "metadata": {},
   "outputs": [
    {
     "data": {
      "text/plain": [
       "'1.9.1'"
      ]
     },
     "execution_count": 2,
     "metadata": {},
     "output_type": "execute_result"
    }
   ],
   "source": [
    "import torch\n",
    "from torch import nn # nn contains all of PyTorch's building blocs for neural networks\n",
    "import matplotlib.pyplot as plt\n",
    "import numpy as np\n",
    "import pandas as pd\n",
    "import torchvision\n",
    "\n",
    "device = torch.device('cuda')\n",
    "\n",
    "torch.__version__"
   ]
  },
  {
   "cell_type": "markdown",
   "id": "edd46ee3-635c-4d0d-bca1-a891c7b5110e",
   "metadata": {},
   "source": [
    "## 1. Data (preparing and loading)\n",
    "\n",
    "Data can be almost anything.... in machine learning\n",
    "\n",
    "* Excel spreadsheet\n",
    "* CSV File\n",
    "* JSON Files\n",
    "* Images\n",
    "* Audio\n",
    "* Videos\n",
    "* Text\n",
    "* DNA\n",
    "\n",
    "Machien learn is a game of two parts:\n",
    "1. Get data into a numerical representation\n",
    "2. Build a model to learn pattern in that numerical representation\n",
    "\n",
    "To showcase this, let's create some *knowne* data using the linear regression formula\n",
    "\n",
    "We'll use a linear regression formula to make a straight line with know parameters"
   ]
  },
  {
   "cell_type": "code",
   "execution_count": 3,
   "id": "807ba16c-47f6-40a9-991f-7c2c26314f33",
   "metadata": {},
   "outputs": [],
   "source": [
    "# Create the known parameters\n",
    "\n",
    "# y = bX + a\n",
    "weight = 0.7 # b\n",
    "bias = 0.3 # a\n",
    "\n",
    "# Create data\n",
    "\n",
    "start = 0.0\n",
    "end = 1.0\n",
    "step = 0.02\n",
    "X = torch.arange(start, end ,step).unsqueeze(dim=1).to('cuda')\n",
    "y = (weight * X + bias).to('cuda')"
   ]
  },
  {
   "cell_type": "code",
   "execution_count": 4,
   "id": "81a3acd6-c916-4f3e-b2b6-bd0c2841fc30",
   "metadata": {},
   "outputs": [
    {
     "data": {
      "text/plain": [
       "(tensor([[0.0000],\n",
       "         [0.0200],\n",
       "         [0.0400],\n",
       "         [0.0600],\n",
       "         [0.0800]], device='cuda:0'),\n",
       " tensor([[0.3000],\n",
       "         [0.3140],\n",
       "         [0.3280],\n",
       "         [0.3420],\n",
       "         [0.3560]], device='cuda:0'))"
      ]
     },
     "execution_count": 4,
     "metadata": {},
     "output_type": "execute_result"
    }
   ],
   "source": [
    "X[:5], y[:5]"
   ]
  },
  {
   "cell_type": "code",
   "execution_count": 5,
   "id": "e453091d-c198-4497-866c-1dc3965dffe6",
   "metadata": {},
   "outputs": [
    {
     "data": {
      "text/plain": [
       "(50, 50)"
      ]
     },
     "execution_count": 5,
     "metadata": {},
     "output_type": "execute_result"
    }
   ],
   "source": [
    "len(X), len(y)"
   ]
  },
  {
   "cell_type": "markdown",
   "id": "f4da77b2-be2d-4084-8563-dd27836307a8",
   "metadata": {},
   "source": [
    "So in AI what happens is that the Model checks the difference between the y predictions and the true y and changes its weights and biases according and finds the correct correlation between the 2"
   ]
  },
  {
   "cell_type": "markdown",
   "id": "696226fd-20f2-4d86-ba9b-8ed8004d8222",
   "metadata": {},
   "source": [
    "### Splitting data into trainings and test sets\n",
    "\n",
    "- Training set - the training part\n",
    "- Practising (checking the model out) - practise exam t\n",
    "- test set - the final part"
   ]
  },
  {
   "cell_type": "code",
   "execution_count": 6,
   "id": "1a2668c0-7c57-4133-bbe9-20ac23460544",
   "metadata": {},
   "outputs": [],
   "source": [
    "from sklearn.model_selection import train_test_split"
   ]
  },
  {
   "cell_type": "code",
   "execution_count": 7,
   "id": "476d6631-953f-4127-9cd3-e42a3cb11c4a",
   "metadata": {},
   "outputs": [],
   "source": [
    "train_split = int(0.8 * len(X))\n",
    "X_train, y_train = X[:train_split],y[:train_split]\n",
    "X_test,y_test = X[train_split:], y[train_split:]"
   ]
  },
  {
   "cell_type": "code",
   "execution_count": 8,
   "id": "e595e261-4a8f-4a72-934c-6d8d50f2e02e",
   "metadata": {},
   "outputs": [
    {
     "data": {
      "text/plain": [
       "(40, 40, 10, 10)"
      ]
     },
     "execution_count": 8,
     "metadata": {},
     "output_type": "execute_result"
    }
   ],
   "source": [
    "len(X_train),len(y_train), len(X_test), len(y_test)"
   ]
  },
  {
   "cell_type": "markdown",
   "id": "5c6b2a15-c079-4d17-bcb5-68c681093378",
   "metadata": {},
   "source": [
    "how might we better visualize our data?\n",
    "\n",
    "This is where the data explorer's motto comes in!\n",
    "\n",
    "\"Visaulize, Visualize, Visualize!\""
   ]
  },
  {
   "cell_type": "code",
   "execution_count": 9,
   "id": "42191dd2-ff54-450c-b558-abb56bb06032",
   "metadata": {},
   "outputs": [],
   "source": [
    "def plot_predictions(train_data=X_train,train_labels=y_train,test_data=X_test,test_labels=y_test,predictions=None):\n",
    "    \"\"\"\n",
    "    Plots trainings data, test data and compares predictions\n",
    "    \"\"\"\n",
    "    plt.figure(figsize=(10,7))\n",
    "    \n",
    "    # Plot trainings data in blue\n",
    "    plt.scatter(train_data.cpu(),train_labels.cpu(), c='b', s=10, label='Trainings data')\n",
    "    \n",
    "    # Plot test data in green\n",
    "    plt.scatter(test_data.cpu(), test_labels.cpu(), c='g', s=10, label='Testing data')\n",
    "    \n",
    "    if predictions is not None:\n",
    "        # Plot the predictions\n",
    "        plt.scatter(test_data.cpu(),predictions.cpu(),c='r', s=10, label='predictions')\n",
    "    plt.legend(prop={\"size\":14})"
   ]
  },
  {
   "cell_type": "code",
   "execution_count": 10,
   "id": "3d4b535f-acbd-4e69-bd10-1cb8b65cb442",
   "metadata": {},
   "outputs": [
    {
     "data": {
      "image/png": "[encoded data removed]",
      "text/plain": [
       "<Figure size 720x504 with 1 Axes>"
      ]
     },
     "metadata": {
      "needs_background": "light"
     },
     "output_type": "display_data"
    }
   ],
   "source": [
    "plot_predictions()"
   ]
  },
  {
   "cell_type": "markdown",
   "id": "b83224cb-f737-4f8a-93aa-9fdb61db2490",
   "metadata": {},
   "source": [
    "## 2. Build Model\n",
    "\n",
    "Our first PyTorch Model!\n",
    "\n",
    "What our model does:\n",
    "* Start with random values (weights & bias)\n",
    "* Look at training data and adjust the random values to better represent the actual weights and bias\n",
    "\n",
    "They do this through\n",
    "1. Gradient Descent\n",
    "2. Backpropagation"
   ]
  },
  {
   "cell_type": "code",
   "execution_count": 11,
   "id": "bab653e7-077d-437d-9c3e-ad4001a6bed7",
   "metadata": {},
   "outputs": [],
   "source": [
    "# Create a linear regression model class\n",
    "\n",
    "class LinearRegressionModel(nn.Module): # <- almost everythhing in pytorch inherits from nn.Module\n",
    "    def __init__(self):\n",
    "        super().__init__()\n",
    "        self.weights = nn.Parameter(torch.randn(1,requires_grad=True,dtype=torch.float))\n",
    "        self.bias = nn.Parameter(torch.randn(1,requires_grad=True,dtype=torch.float))\n",
    "        \n",
    "    def forward(self,X):\n",
    "        return self.weights * X + self.bias"
   ]
  },
  {
   "cell_type": "code",
   "execution_count": 12,
   "id": "6a4e0319-9e4e-4a3c-81f9-19ffdc0031fb",
   "metadata": {},
   "outputs": [],
   "source": [
    "model = LinearRegressionModel().to('cuda')"
   ]
  },
  {
   "cell_type": "markdown",
   "id": "2759abd7-b6ad-46de-bb47-720e72d81f2b",
   "metadata": {},
   "source": [
    "### PyTorch model building essentials\n",
    "\n",
    "* torch.nn - contains all of the buildings for computational graphs (another word for neural networks)\n",
    "* torch.nn.Parameter - what parameters should our model try and learn, often a pytorch layer from torch.nn will set these for us\n",
    "* torch.nn.Module - the base class for all neural network modules, if you subclass it, you should overwrite forward()\n",
    "* torch.optim - this is where the optimizers in PyTorch live, they will help you with gradient descent\n",
    "* def forward() - All nn.Module subclasses are required for you to overwrtite, forward(), this method defines what happens when data is passed to the model"
   ]
  },
  {
   "cell_type": "markdown",
   "id": "8f90ee21-af4c-4693-8e4d-4941e29ca438",
   "metadata": {},
   "source": [
    "### Checking the contents of our PyTorch Model\n",
    "\n",
    "Now we've created a model, let's see what's inside...\n",
    "\n",
    "SO we can check our model parameters or what's inside our model using '.parameters()'"
   ]
  },
  {
   "cell_type": "code",
   "execution_count": 13,
   "id": "2c67d36d-b116-4f30-9010-fc5e866cc3c6",
   "metadata": {},
   "outputs": [
    {
     "data": {
      "text/plain": [
       "[Parameter containing:\n",
       " tensor([0.3367], device='cuda:0', requires_grad=True),\n",
       " Parameter containing:\n",
       " tensor([0.1288], device='cuda:0', requires_grad=True)]"
      ]
     },
     "execution_count": 13,
     "metadata": {},
     "output_type": "execute_result"
    }
   ],
   "source": [
    "torch.manual_seed(42)\n",
    "\n",
    "# Create instance of the model\n",
    "model_0 = LinearRegressionModel().to('cuda')\n",
    "\n",
    "list(model_0.parameters()) # the values are the values they are becz we got random val"
   ]
  },
  {
   "cell_type": "code",
   "execution_count": 14,
   "id": "e53f9cc9-ae53-4475-90f6-ea396b9e445c",
   "metadata": {},
   "outputs": [
    {
     "data": {
      "text/plain": [
       "OrderedDict([('weights', tensor([0.3367], device='cuda:0')),\n",
       "             ('bias', tensor([0.1288], device='cuda:0'))])"
      ]
     },
     "execution_count": 14,
     "metadata": {},
     "output_type": "execute_result"
    }
   ],
   "source": [
    "model_0.state_dict()"
   ]
  },
  {
   "cell_type": "markdown",
   "id": "d2396bc2-ba48-4407-913c-8035d4490429",
   "metadata": {},
   "source": [
    "### Making predictions using `torch.inference_mode()`\n",
    "\n",
    "To check our models predictive poweerer, let's see how well it predictions  `y_test` based on `X_test`\n",
    "\n",
    "When we pass data thhrough our moodel, it's going to run it through the forrward() mmeethod"
   ]
  },
  {
   "cell_type": "code",
   "execution_count": 15,
   "id": "baa3c018-d9e3-4608-9436-81a50d17bd43",
   "metadata": {},
   "outputs": [
    {
     "data": {
      "image/png": "[encoded data removed]",
      "text/plain": [
       "<Figure size 720x504 with 1 Axes>"
      ]
     },
     "metadata": {
      "needs_background": "light"
     },
     "output_type": "display_data"
    }
   ],
   "source": [
    "# predictions = inference\n",
    "with torch.inference_mode():\n",
    "    y_preds = model_0(X_test.to('cuda'))\n",
    "plot_predictions(predictions=y_preds.cpu())"
   ]
  },
  {
   "cell_type": "markdown",
   "id": "577b7e2a-6ea8-4331-8b64-93e82a893c6a",
   "metadata": {},
   "source": [
    "## 3. Train Model\n",
    "\n",
    "The whole idea of training is for a model to move from *uknown* paamters to know parameters\n",
    "\n",
    "or in other words from a poor representation of the data to a better representation of the data\n",
    "\n",
    "One way to measure how badly the models predicions are is using a loss function\n",
    "\n",
    "Loss functions also called \"cost function\" or \"criterion\"\n",
    "\n",
    "Things we need to train : \n",
    "\n",
    "*Loss Fnction* is a function to measure how wrong the model's prediction is\n",
    "\n",
    "*Optimizer* takes into accont the loss of a model and adjusts the model's parameters (weights and bias)"
   ]
  },
  {
   "cell_type": "code",
   "execution_count": 16,
   "id": "f02c3d46-9f3e-48d4-8256-9fec0e11d899",
   "metadata": {},
   "outputs": [
    {
     "data": {
      "text/plain": [
       "([Parameter containing:\n",
       "  tensor([0.3367], device='cuda:0', requires_grad=True),\n",
       "  Parameter containing:\n",
       "  tensor([0.1288], device='cuda:0', requires_grad=True)],\n",
       " OrderedDict([('weights', tensor([0.3367], device='cuda:0')),\n",
       "              ('bias', tensor([0.1288], device='cuda:0'))]))"
      ]
     },
     "execution_count": 16,
     "metadata": {},
     "output_type": "execute_result"
    }
   ],
   "source": [
    "list(model_0.parameters()),model_0.state_dict()"
   ]
  },
  {
   "cell_type": "code",
   "execution_count": 17,
   "id": "6b25eae3-633f-4cdc-bf4c-a250fbf628c0",
   "metadata": {},
   "outputs": [],
   "source": [
    "loss_fn = nn.L1Loss()"
   ]
  },
  {
   "cell_type": "code",
   "execution_count": 18,
   "id": "623b5940-c4ed-407e-88e6-ec02aaed0751",
   "metadata": {},
   "outputs": [],
   "source": [
    "optimizer = torch.optim.SGD(params=model_0.parameters(),lr=0.01) \n",
    "# learning rate = possibily th emost important hyper parameter, it is a value that we set our selves, the learning rate is \n",
    "# smaller the learning rate the smaller the change done to parameters"
   ]
  },
  {
   "cell_type": "markdown",
   "id": "6bdf6a2e-95ff-477d-8f12-3f59b8b523c7",
   "metadata": {},
   "source": [
    "### Building a training loop and testing loop\n",
    "\n",
    "A couple things we need is:\n",
    "1. Loop through the data\n",
    "2. Forward pass (data moving through `forward()` function and make predictions\n",
    "3. Calculate the loss (compare expected and predicted vals)\n",
    "4. Loss backward - backward propagration, calculation works backwards throguh the network to calculate teh gradients of each the poarameters of our models with resepct to the loss (backpropagation)\n",
    "5. optimizer step- use the optimizer to adjust the model's parameters (gradient decent)"
   ]
  },
  {
   "cell_type": "code",
   "execution_count": 19,
   "id": "0855147c-f458-4498-bf27-a4e6fe9109d2",
   "metadata": {},
   "outputs": [],
   "source": [
    "from tqdm import tqdm\n",
    "# the model gets to see the data once\n",
    "epochs = 100\n",
    "epoch_count = []\n",
    "loss_values = []\n",
    "test_loss_values = []"
   ]
  },
  {
   "cell_type": "code",
   "execution_count": 20,
   "id": "0f3d7f1f-b38a-4262-bb70-f070b73e6d8d",
   "metadata": {},
   "outputs": [
    {
     "name": "stderr",
     "output_type": "stream",
     "text": [
      "100%|█████████████████████████████████████████████████| 100/100 [00:00<00:00, 1944.71it/s]"
     ]
    },
    {
     "name": "stdout",
     "output_type": "stream",
     "text": [
      "Epoch: 0 | Test : 0.48106518387794495 | Loss : 0.31288135051727295\n",
      "Epoch: 10 | Test : 0.3463551998138428 | Loss : 0.1976713389158249\n",
      "Epoch: 20 | Test : 0.21729658544063568 | Loss : 0.08908725529909134\n",
      "Epoch: 30 | Test : 0.14464019238948822 | Loss : 0.0531485341489315\n",
      "Epoch: 40 | Test : 0.11360953003168106 | Loss : 0.04543796926736832\n",
      "Epoch: 50 | Test : 0.09919948130846024 | Loss : 0.04167863354086876\n",
      "Epoch: 60 | Test : 0.08886633068323135 | Loss : 0.03818932920694351\n",
      "Epoch: 70 | Test : 0.0805937647819519 | Loss : 0.03476089984178543\n",
      "Epoch: 80 | Test : 0.07232122868299484 | Loss : 0.03132382780313492\n",
      "Epoch: 90 | Test : 0.06473556160926819 | Loss : 0.02788739837706089\n"
     ]
    },
    {
     "name": "stderr",
     "output_type": "stream",
     "text": [
      "\n"
     ]
    }
   ],
   "source": [
    "for epoch in tqdm(range(epochs)):\n",
    "    # Set model to training model\n",
    "    model_0.train() # turns on gradient tracking\n",
    "    \n",
    "    # Forward pass\n",
    "    y_preds = model_0(X_train)\n",
    "    \n",
    "    # Calculaate the loss\n",
    "    loss = loss_fn(y_preds,y_train)\n",
    "    \n",
    "    # Optimizer zero grad\n",
    "    optimizer.zero_grad() # make sure that optimizer data doesnt add up, think as if its \"C\" so that it changes in every iteration\n",
    "    \n",
    "    # Back propagration\n",
    "    loss.backward()\n",
    "    \n",
    "    # Gradient Descent\n",
    "    optimizer.step()\n",
    "    \n",
    "    model_0.eval() # turns off  stf like dropout and batchnormalisation\n",
    "    \n",
    "    with torch.inference_mode(): # turns off gradient tracking \n",
    "        # 1. Do the forward pass\n",
    "        test_pred = model_0(X_test)\n",
    "        \n",
    "        # Calculate the loss\n",
    "        test_loss = loss_fn(test_pred,y_test)\n",
    "    \n",
    "    if epoch % 10 == 0:\n",
    "        epoch_count.append(epoch)\n",
    "        loss_values.append(loss.cpu().detach())\n",
    "        test_loss_values.append(test_loss.cpu().detach())\n",
    "        print(f\"Epoch: {epoch} | Test : {test_loss} | Loss : {loss}\")"
   ]
  },
  {
   "cell_type": "code",
   "execution_count": 21,
   "id": "955515b4-974c-4782-9145-5d893503e41b",
   "metadata": {},
   "outputs": [
    {
     "data": {
      "text/plain": [
       "(tensor([[0.3518],\n",
       "         [0.3633],\n",
       "         [0.3749],\n",
       "         [0.3864],\n",
       "         [0.3979]], device='cuda:0', grad_fn=<SliceBackward>),\n",
       " tensor([[0.3000],\n",
       "         [0.3140],\n",
       "         [0.3280],\n",
       "         [0.3420],\n",
       "         [0.3560]], device='cuda:0'))"
      ]
     },
     "execution_count": 21,
     "metadata": {},
     "output_type": "execute_result"
    }
   ],
   "source": [
    "y_preds[:5],y_train[:5]"
   ]
  },
  {
   "cell_type": "code",
   "execution_count": 22,
   "id": "0f193b3d-8725-417e-86fe-53300e530d53",
   "metadata": {},
   "outputs": [
    {
     "data": {
      "image/png": "[encoded data removed]",
      "text/plain": [
       "<Figure size 720x504 with 1 Axes>"
      ]
     },
     "metadata": {
      "needs_background": "light"
     },
     "output_type": "display_data"
    }
   ],
   "source": [
    "# predictions = inference\n",
    "with torch.inference_mode():\n",
    "    y_preds = model_0(X_test.to('cuda'))\n",
    "plot_predictions(predictions=y_preds.cpu())"
   ]
  },
  {
   "cell_type": "code",
   "execution_count": 23,
   "id": "b70779ab-3dc1-4a8c-8d3c-2ba36fb91cd4",
   "metadata": {},
   "outputs": [
    {
     "data": {
      "text/plain": [
       "OrderedDict([('weights', tensor([0.5784], device='cuda:0')),\n",
       "             ('bias', tensor([0.3513], device='cuda:0'))])"
      ]
     },
     "execution_count": 23,
     "metadata": {},
     "output_type": "execute_result"
    }
   ],
   "source": [
    "model_0.state_dict()"
   ]
  },
  {
   "cell_type": "code",
   "execution_count": 24,
   "id": "b97ff918-88f2-4b60-bd1c-ea7f0f5eb7e4",
   "metadata": {},
   "outputs": [
    {
     "data": {
      "text/plain": [
       "(0.7, 0.3)"
      ]
     },
     "execution_count": 24,
     "metadata": {},
     "output_type": "execute_result"
    }
   ],
   "source": [
    "weight,bias"
   ]
  },
  {
   "cell_type": "code",
   "execution_count": 25,
   "id": "b21fa2c9-8f97-4ce4-a81c-b4d119a889a9",
   "metadata": {},
   "outputs": [
    {
     "data": {
      "text/plain": [
       "<matplotlib.legend.Legend at 0x7fc2ec6c9490>"
      ]
     },
     "execution_count": 25,
     "metadata": {},
     "output_type": "execute_result"
    },
    {
     "data": {
      "image/png": "[encoded data removed]",
      "text/plain": [
       "<Figure size 432x288 with 1 Axes>"
      ]
     },
     "metadata": {
      "needs_background": "light"
     },
     "output_type": "display_data"
    }
   ],
   "source": [
    "# Plot the loss curves\n",
    "plt.plot(epoch_count,loss_values,label='Train Loss')\n",
    "plt.plot(epoch_count,test_loss_values,label='Test Loss')\n",
    "plt.title(\"Loss Curves\")\n",
    "plt.ylabel(\"Loss\")\n",
    "plt.xlabel(\"Epochs\")\n",
    "plt.legend()"
   ]
  },
  {
   "cell_type": "markdown",
   "id": "7fcfa9fa-a744-4fae-97e2-5b6f36d67a20",
   "metadata": {},
   "source": [
    "## Saving a model in pytorch\n",
    "\n",
    "There are three main methods you should about for saving and loading models in PyTorch.\n",
    "\n",
    "1. `torch.save()` - allows you save a pytorch in pickle method\n",
    "2. `torch.load()` - load a saved pytorch object\n",
    "3. `torch.nn.Module.load_state_dict()` - allows to load a model's state dictionary"
   ]
  },
  {
   "cell_type": "code",
   "execution_count": 28,
   "id": "08deda11-b872-497a-9ce3-0f209fa47076",
   "metadata": {},
   "outputs": [],
   "source": [
    "# Saving out PyTorch model\n",
    "torch.save(model.state_dict(),'./models/01/00.pth')"
   ]
  },
  {
   "cell_type": "code",
   "execution_count": 30,
   "id": "90ae4d54-5391-4d13-adbe-76fa6b924509",
   "metadata": {},
   "outputs": [],
   "source": [
    "state_dict_00 = torch.load(\"./models/01/00.pth\")"
   ]
  },
  {
   "cell_type": "code",
   "execution_count": 31,
   "id": "ab80e1ea-faab-44d2-9de5-eb51d6e373cb",
   "metadata": {},
   "outputs": [],
   "source": [
    "model_01 = LinearRegressionModel()"
   ]
  },
  {
   "cell_type": "code",
   "execution_count": 32,
   "id": "9bb82ba3-ff7f-4b1a-b57f-78212265a1f1",
   "metadata": {},
   "outputs": [
    {
     "data": {
      "text/plain": [
       "<All keys matched successfully>"
      ]
     },
     "execution_count": 32,
     "metadata": {},
     "output_type": "execute_result"
    }
   ],
   "source": [
    "model_01.load_state_dict(state_dict_00)"
   ]
  },
  {
   "cell_type": "code",
   "execution_count": null,
   "id": "cc527976-c912-43f3-82b0-100d046a391c",
   "metadata": {},
   "outputs": [],
   "source": []
  }
 ],
 "metadata": {
  "kernelspec": {
   "display_name": "Python 3 (ipykernel)",
   "language": "python",
   "name": "python3"
  },
  "language_info": {
   "codemirror_mode": {
    "name": "ipython",
    "version": 3
   },
   "file_extension": ".py",
   "mimetype": "text/x-python",
   "name": "python",
   "nbconvert_exporter": "python",
   "pygments_lexer": "ipython3",
   "version": "3.11.3"
  }
 },
 "nbformat": 4,
 "nbformat_minor": 5
}
