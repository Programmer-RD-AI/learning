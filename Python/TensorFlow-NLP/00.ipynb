{
 "cells": [
  {
   "cell_type": "code",
   "execution_count": 20,
   "id": "6434420a-ce78-4b33-a46a-42ba17ec1fa2",
   "metadata": {},
   "outputs": [
    {
     "name": "stdout",
     "output_type": "stream",
     "text": [
      "Version:  2.8.0\n",
      "Eager mode:  True\n",
      "Hub version:  0.12.0\n",
      "GPU is available\n"
     ]
    }
   ],
   "source": [
    "import numpy as np\n",
    "\n",
    "import tensorflow as tf\n",
    "import tensorflow_hub as hub\n",
    "import tensorflow_datasets as tfds\n",
    "\n",
    "import matplotlib.pyplot as plt\n",
    "\n",
    "print(\"Version: \", tf.__version__)\n",
    "print(\"Eager mode: \", tf.executing_eagerly())\n",
    "print(\"Hub version: \", hub.__version__)\n",
    "print(\"GPU is\", \"available\" if tf.config.list_physical_devices('GPU') else \"NOT AVAILABLE\")"
   ]
  },
  {
   "cell_type": "code",
   "execution_count": 21,
   "id": "b0151668",
   "metadata": {},
   "outputs": [],
   "source": [
    "import pandas as pd\n",
    "# train_data, test_data = tfds.load(name=\"imdb_reviews\", split=[\"train\", \"test\"], \n",
    "#                                   batch_size=-1, as_supervised=True)\n",
    "\n",
    "# train_examples, train_labels = tfds.as_numpy(train_data)\n",
    "# test_examples, test_labels = tfds.as_numpy(test_data)\n",
    "data = pd.read_csv(\"./train.csv\")\n",
    "train_examples = np.array(data[\"text\"])\n",
    "train_labels = np.array(data[\"target\"])\n",
    "test_examples = np.array(data[\"text\"])\n",
    "test_labels = np.array(data[\"target\"])"
   ]
  },
  {
   "cell_type": "code",
   "execution_count": 22,
   "id": "cb18d085",
   "metadata": {},
   "outputs": [
    {
     "name": "stdout",
     "output_type": "stream",
     "text": [
      "Training entries: 7613, test entries: 7613\n"
     ]
    }
   ],
   "source": [
    "print(\"Training entries: {}, test entries: {}\".format(len(train_examples), len(test_examples)))"
   ]
  },
  {
   "cell_type": "code",
   "execution_count": 24,
   "id": "e2e0eec9",
   "metadata": {},
   "outputs": [
    {
     "name": "stderr",
     "output_type": "stream",
     "text": [
      "2022-05-14 23:16:39.335220: W tensorflow/core/framework/cpu_allocator_impl.cc:82] Allocation of 192762400 exceeds 10% of free system memory.\n"
     ]
    }
   ],
   "source": [
    "model = \"https://tfhub.dev/google/nnlm-en-dim50/2\"\n",
    "hub_layer = hub.KerasLayer(model, input_shape=[], dtype=tf.string, trainable=True)"
   ]
  },
  {
   "cell_type": "code",
   "execution_count": 25,
   "id": "ab2e4af4",
   "metadata": {},
   "outputs": [
    {
     "name": "stdout",
     "output_type": "stream",
     "text": [
      "Model: \"sequential_1\"\n",
      "_________________________________________________________________\n",
      " Layer (type)                Output Shape              Param #   \n",
      "=================================================================\n",
      " keras_layer_2 (KerasLayer)  (None, 50)                48190600  \n",
      "                                                                 \n",
      " dense_2 (Dense)             (None, 16)                816       \n",
      "                                                                 \n",
      " dense_3 (Dense)             (None, 1)                 17        \n",
      "                                                                 \n",
      "=================================================================\n",
      "Total params: 48,191,433\n",
      "Trainable params: 48,191,433\n",
      "Non-trainable params: 0\n",
      "_________________________________________________________________\n"
     ]
    }
   ],
   "source": [
    "model = tf.keras.Sequential()\n",
    "model.add(hub_layer)\n",
    "model.add(tf.keras.layers.Dense(16, activation='relu'))\n",
    "model.add(tf.keras.layers.Dense(1))"
   ]
  },
  {
   "cell_type": "code",
   "execution_count": 28,
   "id": "e8d9b8a1",
   "metadata": {},
   "outputs": [
    {
     "name": "stdout",
     "output_type": "stream",
     "text": [
      "Epoch 1/100\n",
      "82/82 [==============================] - 3s 33ms/step - loss: 0.6054 - accuracy: 0.7210 - val_loss: 0.5868 - val_accuracy: 0.7154\n",
      "Epoch 2/100\n",
      "82/82 [==============================] - 3s 32ms/step - loss: 0.4318 - accuracy: 0.8320 - val_loss: 0.5412 - val_accuracy: 0.7328\n",
      "Epoch 3/100\n",
      "82/82 [==============================] - 3s 32ms/step - loss: 0.2906 - accuracy: 0.8925 - val_loss: 0.5368 - val_accuracy: 0.7354\n",
      "Epoch 4/100\n",
      "82/82 [==============================] - 3s 32ms/step - loss: 0.1737 - accuracy: 0.9418 - val_loss: 0.5682 - val_accuracy: 0.7214\n",
      "Epoch 5/100\n",
      "82/82 [==============================] - 3s 33ms/step - loss: 0.0966 - accuracy: 0.9736 - val_loss: 0.6247 - val_accuracy: 0.7180\n",
      "Epoch 6/100\n",
      "82/82 [==============================] - 3s 32ms/step - loss: 0.0541 - accuracy: 0.9866 - val_loss: 0.6831 - val_accuracy: 0.7120\n",
      "Epoch 7/100\n",
      "82/82 [==============================] - 3s 33ms/step - loss: 0.0348 - accuracy: 0.9897 - val_loss: 0.7352 - val_accuracy: 0.7182\n",
      "Epoch 8/100\n",
      "82/82 [==============================] - 3s 33ms/step - loss: 0.0253 - accuracy: 0.9950 - val_loss: 0.7815 - val_accuracy: 0.7132\n",
      "Epoch 9/100\n",
      "82/82 [==============================] - 3s 33ms/step - loss: 0.0190 - accuracy: 0.9966 - val_loss: 0.8244 - val_accuracy: 0.7084\n",
      "Epoch 10/100\n",
      "82/82 [==============================] - 3s 33ms/step - loss: 0.0150 - accuracy: 0.9962 - val_loss: 0.8606 - val_accuracy: 0.7088\n",
      "Epoch 11/100\n",
      "82/82 [==============================] - 3s 33ms/step - loss: 0.0116 - accuracy: 0.9977 - val_loss: 0.8971 - val_accuracy: 0.7042\n",
      "Epoch 12/100\n",
      "82/82 [==============================] - 3s 34ms/step - loss: 0.0102 - accuracy: 0.9977 - val_loss: 0.9276 - val_accuracy: 0.7050\n",
      "Epoch 13/100\n",
      "82/82 [==============================] - 3s 34ms/step - loss: 0.0086 - accuracy: 0.9969 - val_loss: 0.9543 - val_accuracy: 0.7032\n",
      "Epoch 14/100\n",
      "82/82 [==============================] - 3s 33ms/step - loss: 0.0083 - accuracy: 0.9981 - val_loss: 0.9849 - val_accuracy: 0.7042\n",
      "Epoch 15/100\n",
      "82/82 [==============================] - 3s 33ms/step - loss: 0.0078 - accuracy: 0.9973 - val_loss: 1.0053 - val_accuracy: 0.7018\n",
      "Epoch 16/100\n",
      "82/82 [==============================] - 3s 34ms/step - loss: 0.0068 - accuracy: 0.9969 - val_loss: 1.0285 - val_accuracy: 0.7012\n",
      "Epoch 17/100\n",
      "82/82 [==============================] - 3s 33ms/step - loss: 0.0061 - accuracy: 0.9973 - val_loss: 1.0518 - val_accuracy: 0.7016\n",
      "Epoch 18/100\n",
      "82/82 [==============================] - 3s 34ms/step - loss: 0.0055 - accuracy: 0.9985 - val_loss: 1.0703 - val_accuracy: 0.6988\n",
      "Epoch 19/100\n",
      "82/82 [==============================] - 3s 33ms/step - loss: 0.0065 - accuracy: 0.9977 - val_loss: 1.0860 - val_accuracy: 0.6948\n",
      "Epoch 20/100\n",
      "82/82 [==============================] - 3s 33ms/step - loss: 0.0050 - accuracy: 0.9977 - val_loss: 1.1016 - val_accuracy: 0.6980\n",
      "Epoch 21/100\n",
      "82/82 [==============================] - 3s 32ms/step - loss: 0.0053 - accuracy: 0.9977 - val_loss: 1.1174 - val_accuracy: 0.6980\n",
      "Epoch 22/100\n",
      "82/82 [==============================] - 3s 32ms/step - loss: 0.0042 - accuracy: 0.9981 - val_loss: 1.1353 - val_accuracy: 0.6972\n",
      "Epoch 23/100\n",
      "82/82 [==============================] - 3s 32ms/step - loss: 0.0052 - accuracy: 0.9981 - val_loss: 1.1481 - val_accuracy: 0.6974\n",
      "Epoch 24/100\n",
      "82/82 [==============================] - 3s 32ms/step - loss: 0.0042 - accuracy: 0.9977 - val_loss: 1.1624 - val_accuracy: 0.6932\n",
      "Epoch 25/100\n",
      "82/82 [==============================] - 3s 32ms/step - loss: 0.0051 - accuracy: 0.9973 - val_loss: 1.1758 - val_accuracy: 0.6916\n",
      "Epoch 26/100\n",
      "82/82 [==============================] - 3s 33ms/step - loss: 0.0042 - accuracy: 0.9973 - val_loss: 1.1845 - val_accuracy: 0.6966\n",
      "Epoch 27/100\n",
      "82/82 [==============================] - 3s 33ms/step - loss: 0.0045 - accuracy: 0.9977 - val_loss: 1.1978 - val_accuracy: 0.6980\n",
      "Epoch 28/100\n",
      "82/82 [==============================] - 3s 34ms/step - loss: 0.0063 - accuracy: 0.9969 - val_loss: 1.1998 - val_accuracy: 0.6918\n",
      "Epoch 29/100\n",
      "82/82 [==============================] - 3s 33ms/step - loss: 0.0040 - accuracy: 0.9977 - val_loss: 1.2124 - val_accuracy: 0.6908\n",
      "Epoch 30/100\n",
      "82/82 [==============================] - 3s 33ms/step - loss: 0.0042 - accuracy: 0.9977 - val_loss: 1.2265 - val_accuracy: 0.6900\n",
      "Epoch 31/100\n",
      "82/82 [==============================] - 3s 33ms/step - loss: 0.0044 - accuracy: 0.9977 - val_loss: 1.2314 - val_accuracy: 0.6926\n",
      "Epoch 32/100\n",
      "82/82 [==============================] - 3s 33ms/step - loss: 0.0039 - accuracy: 0.9981 - val_loss: 1.2458 - val_accuracy: 0.6934\n",
      "Epoch 33/100\n",
      "82/82 [==============================] - 3s 33ms/step - loss: 0.0053 - accuracy: 0.9981 - val_loss: 1.2455 - val_accuracy: 0.6942\n",
      "Epoch 34/100\n",
      "82/82 [==============================] - 3s 33ms/step - loss: 0.0039 - accuracy: 0.9981 - val_loss: 1.2537 - val_accuracy: 0.6924\n",
      "Epoch 35/100\n",
      "82/82 [==============================] - 3s 33ms/step - loss: 0.0043 - accuracy: 0.9969 - val_loss: 1.2626 - val_accuracy: 0.6920\n",
      "Epoch 36/100\n",
      "82/82 [==============================] - 3s 33ms/step - loss: 0.0038 - accuracy: 0.9973 - val_loss: 1.2724 - val_accuracy: 0.6878\n",
      "Epoch 37/100\n",
      "82/82 [==============================] - 3s 42ms/step - loss: 0.0040 - accuracy: 0.9977 - val_loss: 1.2770 - val_accuracy: 0.6906\n",
      "Epoch 38/100\n",
      "82/82 [==============================] - 3s 35ms/step - loss: 0.0037 - accuracy: 0.9981 - val_loss: 1.2851 - val_accuracy: 0.6910\n",
      "Epoch 39/100\n",
      "82/82 [==============================] - 3s 34ms/step - loss: 0.0034 - accuracy: 0.9985 - val_loss: 1.2936 - val_accuracy: 0.6880\n",
      "Epoch 40/100\n",
      "82/82 [==============================] - 3s 34ms/step - loss: 0.0036 - accuracy: 0.9981 - val_loss: 1.3014 - val_accuracy: 0.6902\n",
      "Epoch 41/100\n",
      "82/82 [==============================] - 3s 34ms/step - loss: 0.0042 - accuracy: 0.9973 - val_loss: 1.3075 - val_accuracy: 0.6910\n",
      "Epoch 42/100\n",
      "82/82 [==============================] - 3s 33ms/step - loss: 0.0036 - accuracy: 0.9977 - val_loss: 1.3157 - val_accuracy: 0.6910\n",
      "Epoch 43/100\n",
      "82/82 [==============================] - 3s 35ms/step - loss: 0.0039 - accuracy: 0.9977 - val_loss: 1.3212 - val_accuracy: 0.6908\n",
      "Epoch 44/100\n",
      "82/82 [==============================] - 3s 33ms/step - loss: 0.0033 - accuracy: 0.9977 - val_loss: 1.3296 - val_accuracy: 0.6874\n",
      "Epoch 45/100\n",
      "82/82 [==============================] - 3s 33ms/step - loss: 0.0041 - accuracy: 0.9977 - val_loss: 1.3344 - val_accuracy: 0.6894\n",
      "Epoch 46/100\n",
      "82/82 [==============================] - 3s 33ms/step - loss: 0.0036 - accuracy: 0.9973 - val_loss: 1.3445 - val_accuracy: 0.6912\n",
      "Epoch 47/100\n",
      "82/82 [==============================] - 3s 33ms/step - loss: 0.0039 - accuracy: 0.9969 - val_loss: 1.3470 - val_accuracy: 0.6894\n",
      "Epoch 48/100\n",
      "82/82 [==============================] - 3s 33ms/step - loss: 0.0034 - accuracy: 0.9981 - val_loss: 1.3493 - val_accuracy: 0.6858\n",
      "Epoch 49/100\n",
      "82/82 [==============================] - 3s 33ms/step - loss: 0.0036 - accuracy: 0.9977 - val_loss: 1.3549 - val_accuracy: 0.6858\n",
      "Epoch 50/100\n",
      "82/82 [==============================] - 3s 33ms/step - loss: 0.0038 - accuracy: 0.9981 - val_loss: 1.3589 - val_accuracy: 0.6836\n",
      "Epoch 51/100\n",
      "82/82 [==============================] - 3s 33ms/step - loss: 0.0043 - accuracy: 0.9973 - val_loss: 1.3571 - val_accuracy: 0.6904\n",
      "Epoch 52/100\n",
      "82/82 [==============================] - 3s 33ms/step - loss: 0.0040 - accuracy: 0.9981 - val_loss: 1.3520 - val_accuracy: 0.6832\n",
      "Epoch 53/100\n",
      "82/82 [==============================] - 3s 34ms/step - loss: 0.0037 - accuracy: 0.9985 - val_loss: 1.3554 - val_accuracy: 0.6858\n",
      "Epoch 54/100\n",
      "82/82 [==============================] - 3s 34ms/step - loss: 0.0036 - accuracy: 0.9985 - val_loss: 1.3611 - val_accuracy: 0.6866\n",
      "Epoch 55/100\n",
      "82/82 [==============================] - 3s 33ms/step - loss: 0.0029 - accuracy: 0.9985 - val_loss: 1.3721 - val_accuracy: 0.6878\n",
      "Epoch 56/100\n",
      "82/82 [==============================] - 3s 34ms/step - loss: 0.0030 - accuracy: 0.9981 - val_loss: 1.3765 - val_accuracy: 0.6848\n",
      "Epoch 57/100\n",
      "82/82 [==============================] - 3s 34ms/step - loss: 0.0035 - accuracy: 0.9985 - val_loss: 1.3843 - val_accuracy: 0.6832\n",
      "Epoch 58/100\n",
      "82/82 [==============================] - 3s 34ms/step - loss: 0.0039 - accuracy: 0.9981 - val_loss: 1.3921 - val_accuracy: 0.6878\n",
      "Epoch 59/100\n",
      "82/82 [==============================] - 3s 34ms/step - loss: 0.0034 - accuracy: 0.9985 - val_loss: 1.3920 - val_accuracy: 0.6880\n",
      "Epoch 60/100\n",
      "82/82 [==============================] - 3s 33ms/step - loss: 0.0036 - accuracy: 0.9973 - val_loss: 1.3992 - val_accuracy: 0.6866\n",
      "Epoch 61/100\n",
      "82/82 [==============================] - 3s 33ms/step - loss: 0.0030 - accuracy: 0.9977 - val_loss: 1.4007 - val_accuracy: 0.6846\n",
      "Epoch 62/100\n",
      "82/82 [==============================] - 3s 33ms/step - loss: 0.0038 - accuracy: 0.9977 - val_loss: 1.3983 - val_accuracy: 0.6840\n",
      "Epoch 63/100\n",
      "82/82 [==============================] - 3s 34ms/step - loss: 0.0032 - accuracy: 0.9981 - val_loss: 1.4098 - val_accuracy: 0.6898\n",
      "Epoch 64/100\n",
      "82/82 [==============================] - 3s 33ms/step - loss: 0.0041 - accuracy: 0.9973 - val_loss: 1.4090 - val_accuracy: 0.6834\n",
      "Epoch 65/100\n",
      "82/82 [==============================] - 3s 33ms/step - loss: 0.0031 - accuracy: 0.9981 - val_loss: 1.4139 - val_accuracy: 0.6796\n",
      "Epoch 66/100\n",
      "82/82 [==============================] - 3s 33ms/step - loss: 0.0028 - accuracy: 0.9985 - val_loss: 1.4181 - val_accuracy: 0.6826\n",
      "Epoch 67/100\n",
      "82/82 [==============================] - 3s 34ms/step - loss: 0.0028 - accuracy: 0.9981 - val_loss: 1.4262 - val_accuracy: 0.6832\n",
      "Epoch 68/100\n",
      "82/82 [==============================] - 3s 33ms/step - loss: 0.0030 - accuracy: 0.9981 - val_loss: 1.4319 - val_accuracy: 0.6830\n",
      "Epoch 69/100\n",
      "82/82 [==============================] - 3s 33ms/step - loss: 0.0037 - accuracy: 0.9977 - val_loss: 1.4325 - val_accuracy: 0.6850\n",
      "Epoch 70/100\n",
      "82/82 [==============================] - 3s 33ms/step - loss: 0.0030 - accuracy: 0.9985 - val_loss: 1.4364 - val_accuracy: 0.6856\n",
      "Epoch 71/100\n",
      "82/82 [==============================] - 3s 33ms/step - loss: 0.0027 - accuracy: 0.9981 - val_loss: 1.4449 - val_accuracy: 0.6776\n",
      "Epoch 72/100\n",
      "82/82 [==============================] - 3s 33ms/step - loss: 0.0033 - accuracy: 0.9973 - val_loss: 1.4481 - val_accuracy: 0.6810\n",
      "Epoch 73/100\n",
      "82/82 [==============================] - 3s 33ms/step - loss: 0.0029 - accuracy: 0.9985 - val_loss: 1.4581 - val_accuracy: 0.6856\n",
      "Epoch 74/100\n",
      "82/82 [==============================] - 3s 33ms/step - loss: 0.0032 - accuracy: 0.9977 - val_loss: 1.4628 - val_accuracy: 0.6830\n",
      "Epoch 75/100\n",
      "82/82 [==============================] - 3s 33ms/step - loss: 0.0030 - accuracy: 0.9981 - val_loss: 1.4697 - val_accuracy: 0.6800\n",
      "Epoch 76/100\n",
      "82/82 [==============================] - 3s 33ms/step - loss: 0.0030 - accuracy: 0.9977 - val_loss: 1.4754 - val_accuracy: 0.6828\n",
      "Epoch 77/100\n",
      "82/82 [==============================] - 3s 34ms/step - loss: 0.0026 - accuracy: 0.9977 - val_loss: 1.4836 - val_accuracy: 0.6826\n",
      "Epoch 78/100\n",
      "82/82 [==============================] - 3s 33ms/step - loss: 0.0035 - accuracy: 0.9977 - val_loss: 1.4841 - val_accuracy: 0.6836\n",
      "Epoch 79/100\n",
      "82/82 [==============================] - 3s 33ms/step - loss: 0.0029 - accuracy: 0.9981 - val_loss: 1.4883 - val_accuracy: 0.6758\n",
      "Epoch 80/100\n",
      "82/82 [==============================] - 3s 34ms/step - loss: 0.0029 - accuracy: 0.9977 - val_loss: 1.5003 - val_accuracy: 0.6846\n",
      "Epoch 81/100\n",
      "82/82 [==============================] - 3s 33ms/step - loss: 0.0026 - accuracy: 0.9985 - val_loss: 1.5057 - val_accuracy: 0.6794\n",
      "Epoch 82/100\n",
      "82/82 [==============================] - 3s 33ms/step - loss: 0.0027 - accuracy: 0.9973 - val_loss: 1.5145 - val_accuracy: 0.6798\n",
      "Epoch 83/100\n",
      "82/82 [==============================] - 3s 33ms/step - loss: 0.0025 - accuracy: 0.9977 - val_loss: 1.5257 - val_accuracy: 0.6786\n",
      "Epoch 84/100\n",
      "82/82 [==============================] - 3s 33ms/step - loss: 0.0029 - accuracy: 0.9981 - val_loss: 1.5320 - val_accuracy: 0.6820\n",
      "Epoch 85/100\n",
      "82/82 [==============================] - 3s 33ms/step - loss: 0.0025 - accuracy: 0.9985 - val_loss: 1.5430 - val_accuracy: 0.6764\n",
      "Epoch 86/100\n",
      "82/82 [==============================] - 3s 33ms/step - loss: 0.0027 - accuracy: 0.9977 - val_loss: 1.5472 - val_accuracy: 0.6796\n",
      "Epoch 87/100\n",
      "82/82 [==============================] - 3s 33ms/step - loss: 0.0024 - accuracy: 0.9985 - val_loss: 1.5576 - val_accuracy: 0.6794\n",
      "Epoch 88/100\n",
      "82/82 [==============================] - 3s 33ms/step - loss: 0.0029 - accuracy: 0.9977 - val_loss: 1.5625 - val_accuracy: 0.6790\n",
      "Epoch 89/100\n",
      "82/82 [==============================] - 3s 33ms/step - loss: 0.0026 - accuracy: 0.9985 - val_loss: 1.5716 - val_accuracy: 0.6788\n",
      "Epoch 90/100\n",
      "82/82 [==============================] - 3s 33ms/step - loss: 0.0024 - accuracy: 0.9981 - val_loss: 1.5831 - val_accuracy: 0.6790\n",
      "Epoch 91/100\n",
      "82/82 [==============================] - 3s 33ms/step - loss: 0.0025 - accuracy: 0.9981 - val_loss: 1.5927 - val_accuracy: 0.6784\n",
      "Epoch 92/100\n",
      "82/82 [==============================] - 3s 33ms/step - loss: 0.0024 - accuracy: 0.9981 - val_loss: 1.6039 - val_accuracy: 0.6782\n",
      "Epoch 93/100\n",
      "82/82 [==============================] - 3s 33ms/step - loss: 0.0024 - accuracy: 0.9977 - val_loss: 1.6119 - val_accuracy: 0.6764\n",
      "Epoch 94/100\n",
      "82/82 [==============================] - 3s 33ms/step - loss: 0.0026 - accuracy: 0.9973 - val_loss: 1.6199 - val_accuracy: 0.6766\n",
      "Epoch 95/100\n",
      "82/82 [==============================] - 3s 33ms/step - loss: 0.0028 - accuracy: 0.9985 - val_loss: 1.6209 - val_accuracy: 0.6804\n",
      "Epoch 96/100\n",
      "82/82 [==============================] - 3s 34ms/step - loss: 0.0026 - accuracy: 0.9981 - val_loss: 1.6275 - val_accuracy: 0.6762\n",
      "Epoch 97/100\n",
      "82/82 [==============================] - 3s 33ms/step - loss: 0.0028 - accuracy: 0.9977 - val_loss: 1.6365 - val_accuracy: 0.6778\n",
      "Epoch 98/100\n",
      "82/82 [==============================] - 3s 33ms/step - loss: 0.0024 - accuracy: 0.9981 - val_loss: 1.6462 - val_accuracy: 0.6772\n",
      "Epoch 99/100\n",
      "82/82 [==============================] - 3s 33ms/step - loss: 0.0023 - accuracy: 0.9985 - val_loss: 1.6604 - val_accuracy: 0.6756\n",
      "Epoch 100/100\n",
      "82/82 [==============================] - 3s 33ms/step - loss: 0.0023 - accuracy: 0.9977 - val_loss: 1.6769 - val_accuracy: 0.6746\n"
     ]
    }
   ],
   "source": [
    "model.compile(optimizer='adam',\n",
    "              loss=tf.losses.BinaryCrossentropy(from_logits=True),\n",
    "              metrics=[tf.metrics.BinaryAccuracy(threshold=0.0, name='accuracy')])\n",
    "history = model.fit(train_examples,\n",
    "                    train_labels,\n",
    "                    epochs=100,\n",
    "                    batch_size=32,\n",
    "                    validation_data=(test_examples, test_labels),\n",
    "                    verbose=1)"
   ]
  },
  {
   "cell_type": "code",
   "execution_count": 29,
   "id": "569fc11a",
   "metadata": {},
   "outputs": [
    {
     "name": "stdout",
     "output_type": "stream",
     "text": [
      "238/238 [==============================] - 1s 4ms/step - loss: 1.1021 - accuracy: 0.7858\n",
      "[1.1021066904067993, 0.7857611775398254]\n"
     ]
    }
   ],
   "source": [
    "results = model.evaluate(test_examples, test_labels)\n",
    "\n",
    "print(results)"
   ]
  },
  {
   "cell_type": "code",
   "execution_count": null,
   "id": "9aa14c1c",
   "metadata": {},
   "outputs": [],
   "source": []
  }
 ],
 "metadata": {
  "interpreter": {
   "hash": "bee10b67afbb20f53b936e2f7f02be047715bbceef03b4696805b77c27bdbe03"
  },
  "kernelspec": {
   "display_name": "Python 3.9.7 ('tensorflow')",
   "language": "python",
   "name": "python3"
  },
  "language_info": {
   "codemirror_mode": {
    "name": "ipython",
    "version": 3
   },
   "file_extension": ".py",
   "mimetype": "text/x-python",
   "name": "python",
   "nbconvert_exporter": "python",
   "pygments_lexer": "ipython3",
   "version": "3.9.7"
  }
 },
 "nbformat": 4,
 "nbformat_minor": 5
}
