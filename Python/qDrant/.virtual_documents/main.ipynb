


!pip install 'qdrant-client[fastembed]' --upgrade


QDRANT_HOST="https://3bdbdcd2-6854-48ab-b5c4-c22a0da98431.europe-west3-0.gcp.cloud.qdrant.io"
QDRANT_API_KEY="eR-0gtWq9ljNyq1b4dFK0sGn9xXpbOmp-UR7J_fEl2ia11ckAWzijw"
QDRANT_PORT=6333


from qdrant_client import AsyncQdrantClient, QdrantClient

# client = QdrantClient(path="path/to/db")  # Persists changes to disk
# or
client = QdrantClient(url=QDRANT_HOST, port=QDRANT_PORT, api_key=QDRANT_API_KEY)


# Prepare your documents, metadata, and IDs
docs = ["Qdrant has Langchain integrations", "Qdrant also has Llama Index integrations"]

client.add(
    collection_name="demo_collection",
    documents=docs,
)


search_result = client.query(
    collection_name="demo_collection",
    query_text="This is a query document",
    limit=1
)
print(search_result)


from qdrant_client.http.models import Distance, VectorParams

if not client.collection_exists("test_collection"):
    client.create_collection(
            collection_name="test_collection",
            vectors_config=VectorParams(size=8, distance=Distance.DOT),
    )


from qdrant_client.http.models import PointStruct

operation_info = client.upsert(
    collection_name="test_collection",
    wait=True,
    points=[
        PointStruct(id=1, vector=[0.05, 0.61, 0.76, 0.74, 0.05, 0.61, 0.76, 0.74], payload={"city": "Berlin"}),
        PointStruct(id=2, vector=[0.05, 0.61, 0.76, 0.74, 0.05, 0.61, 0.76, 0.74], payload={"city": "London"}),
        PointStruct(id=3, vector=[0.05, 0.61, 0.76, 0.74, 0.05, 0.61, 0.76, 0.74], payload={"city": "Moscow"}),
        PointStruct(id=4, vector=[0.05, 0.61, 0.76, 0.74, 0.05, 0.61, 0.76, 0.74], payload={"city": "New York"}),
        PointStruct(id=5, vector=[0.05, 0.61, 0.76, 0.74, 0.05, 0.61, 0.76, 0.74], payload={"city": "Beijing"}),
        PointStruct(id=6, vector=[0.05, 0.61, 0.76, 0.74, 0.05, 0.61, 0.76, 0.74], payload={"city": "Mumbai"}),
    ]
)
print(operation_info)


search_result = client.search(
    collection_name="test_collection",
    query_vector=[0.18, 0.81, 0.75, 0.12, 0.12, 0.69, 0.58, 0.54],
    limit=1
)
print(search_result)


from qdrant_client.http.models import Filter, FieldCondition, MatchValue

search_result = client.search(
    collection_name="test_collection",
    query_vector=[0.18, 0.81, 0.75, 0.12, 0.12, 0.69, 0.58, 0.54],
    query_filter=Filter(
        must=[
            FieldCondition(
                key="city",
                match=MatchValue(value="London")
            )
        ]
    ),
    limit=1
)
print(search_result)















