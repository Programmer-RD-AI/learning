{
 "cells": [
  {
   "cell_type": "code",
   "execution_count": 2,
   "id": "5bbcca5a-5149-463c-9e6e-e8b38ec266bc",
   "metadata": {},
   "outputs": [],
   "source": [
    "import numpy as np\n",
    "import torch\n",
    "import torch.nn as nn\n",
    "import torch.optim as optim\n",
    "import matplotlib.pyplot as plt"
   ]
  },
  {
   "cell_type": "code",
   "execution_count": 3,
   "id": "a5a5aad0-9986-42b0-b6a8-a379eea1b60d",
   "metadata": {},
   "outputs": [],
   "source": [
    "N = 100"
   ]
  },
  {
   "cell_type": "code",
   "execution_count": 4,
   "id": "22ecc92a-b90d-477f-889c-8e15afd7b516",
   "metadata": {},
   "outputs": [],
   "source": [
    "L = 1000"
   ]
  },
  {
   "cell_type": "code",
   "execution_count": 5,
   "id": "1bc9f8c3-777e-41e8-bb92-e8d847bd9395",
   "metadata": {},
   "outputs": [],
   "source": [
    "T = 20"
   ]
  },
  {
   "cell_type": "code",
   "execution_count": 6,
   "id": "a2f0c2f3-5f16-4c80-8314-94f6e7569a9f",
   "metadata": {},
   "outputs": [],
   "source": [
    "x = np.empty((N,L),np.float32)"
   ]
  },
  {
   "cell_type": "code",
   "execution_count": 7,
   "id": "57df4e7b-a3d8-4e04-98fe-fa63dbeea991",
   "metadata": {},
   "outputs": [],
   "source": [
    "x[:] = np.array(range(L)) + np.random.randint(-4*T,4*T,N).reshape(N,1)"
   ]
  },
  {
   "cell_type": "code",
   "execution_count": 8,
   "id": "66ceec13-d89d-4e5b-ad1a-63d72f0b1190",
   "metadata": {},
   "outputs": [],
   "source": [
    "y = np.sin(x/1.0/T).astype(np.float32)"
   ]
  },
  {
   "cell_type": "code",
   "execution_count": 18,
   "id": "a667eb60-d032-4ba0-88bc-aaece2070af1",
   "metadata": {},
   "outputs": [
    {
     "data": {
      "text/plain": [
       "(100, 1000)"
      ]
     },
     "execution_count": 18,
     "metadata": {},
     "output_type": "execute_result"
    }
   ],
   "source": [
    "x.shape"
   ]
  },
  {
   "cell_type": "code",
   "execution_count": 9,
   "id": "db4f6d8b-01a3-4f9a-9a2b-2d59bedcc87d",
   "metadata": {},
   "outputs": [
    {
     "data": {
      "image/png": "[encoded data removed]",
      "text/plain": [
       "<Figure size 432x288 with 1 Axes>"
      ]
     },
     "metadata": {
      "needs_background": "light"
     },
     "output_type": "display_data"
    }
   ],
   "source": [
    "plt.figure()\n",
    "plt.plot(np.arange(x.shape[1]),y[0,:])\n",
    "plt.show()"
   ]
  },
  {
   "cell_type": "code",
   "execution_count": 10,
   "id": "8feee80e-76ce-442d-828d-cab251ce0da5",
   "metadata": {},
   "outputs": [],
   "source": [
    "class LSTMPredictor(nn.Module):\n",
    "    def __init__(self,n_hidden=51):\n",
    "        super().__init__()\n",
    "        self.n_hidden = n_hidden\n",
    "        # lstm1, lstm2, linear\n",
    "        self.lstm1 = nn.LSTMCell(1,self.n_hidden)\n",
    "        self.lstm2 = nn.LSTMCell(self.n_hidden,self.n_hidden)\n",
    "        self.linear = nn.Linear(self.n_hidden,1)\n",
    "    \n",
    "    def forward(self,X,future=0):\n",
    "        outputs = []\n",
    "        n_samples = X.size(0)\n",
    "        h_t = torch.zeros(n_samples,self.n_hidden,dtype=torch.float32)\n",
    "        c_t = torch.zeros(n_samples,self.n_hidden,dtype=torch.float32)\n",
    "        h_t2 = torch.zeros(n_samples,self.n_hidden,dtype=torch.float32)\n",
    "        c_t2 = torch.zeros(n_samples,self.n_hidden,dtype=torch.float32)\n",
    "        for input_t in X.split(1,dim=1):\n",
    "            h_t,c_t = self.lstm1(input_t,(h_t,c_t))\n",
    "            h_t2,c_t2 = self.lstm2(h_t,(h_t2,c_t2))\n",
    "            output = self.linear(h_t2)\n",
    "            outputs.append(output)\n",
    "        for i in range(future):\n",
    "            h_t,c_t = self.lstm1(output,(h_t,c_t))\n",
    "            h_t2,c_t2 = self.lstm2(h_t,(h_t2,c_t2))\n",
    "            output = self.linear(h_t2)\n",
    "            outputs.append(output)\n",
    "        outputs = torch.cat(outputs,dim=1)\n",
    "        return outputs"
   ]
  },
  {
   "cell_type": "code",
   "execution_count": 11,
   "id": "8a8a6532-12db-4534-9aaa-aabf45f8061f",
   "metadata": {},
   "outputs": [],
   "source": [
    "device = 'cuda'"
   ]
  },
  {
   "cell_type": "code",
   "execution_count": 27,
   "id": "496c743f-aae8-4d1a-8a66-0588eab87ef8",
   "metadata": {},
   "outputs": [
    {
     "data": {
      "text/plain": [
       "(3, 1999)"
      ]
     },
     "execution_count": 27,
     "metadata": {},
     "output_type": "execute_result"
    }
   ],
   "source": [
    "y.shape"
   ]
  },
  {
   "cell_type": "code",
   "execution_count": 30,
   "id": "ee99a894-b87c-41c2-bf26-abde4a3c3042",
   "metadata": {},
   "outputs": [
    {
     "data": {
      "text/plain": [
       "tensor([[-0.0998, -0.0500,  0.0000,  ..., -0.5358, -0.4930, -0.4489],\n",
       "        [ 0.3894,  0.4350,  0.4794,  ..., -0.0654, -0.0155,  0.0345],\n",
       "        [-0.3894, -0.3429, -0.2955,  ..., -0.7614, -0.7281, -0.6929]])"
      ]
     },
     "execution_count": 30,
     "metadata": {},
     "output_type": "execute_result"
    }
   ],
   "source": [
    "test_input"
   ]
  },
  {
   "cell_type": "code",
   "execution_count": 31,
   "id": "657dd53a-a519-4ab2-86d9-065ce2e90181",
   "metadata": {},
   "outputs": [
    {
     "data": {
      "text/plain": [
       "tensor([[-0.0500,  0.0000,  0.0500,  ..., -0.4930, -0.4489, -0.4036],\n",
       "        [ 0.4350,  0.4794,  0.5227,  ..., -0.0155,  0.0345,  0.0844],\n",
       "        [-0.3429, -0.2955, -0.2474,  ..., -0.7281, -0.6929, -0.6560]])"
      ]
     },
     "execution_count": 31,
     "metadata": {},
     "output_type": "execute_result"
    }
   ],
   "source": [
    "test_target"
   ]
  },
  {
   "cell_type": "code",
   "execution_count": 28,
   "id": "e5b8e17b-8a2b-4da7-963d-5738ded82704",
   "metadata": {},
   "outputs": [
    {
     "data": {
      "text/plain": [
       "torch.Size([3, 999])"
      ]
     },
     "execution_count": 28,
     "metadata": {},
     "output_type": "execute_result"
    }
   ],
   "source": [
    "test_input.shape"
   ]
  },
  {
   "cell_type": "code",
   "execution_count": 29,
   "id": "8ffae315-0e4e-4613-a1ab-7d5994b01737",
   "metadata": {},
   "outputs": [
    {
     "data": {
      "text/plain": [
       "torch.Size([3, 999])"
      ]
     },
     "execution_count": 29,
     "metadata": {},
     "output_type": "execute_result"
    }
   ],
   "source": [
    "test_target.shape"
   ]
  },
  {
   "cell_type": "code",
   "execution_count": 12,
   "id": "c0ec0d02-8006-44e5-a783-e2acea16c98f",
   "metadata": {},
   "outputs": [],
   "source": [
    "# y = 100,1000\n",
    "train_input = torch.from_numpy(y[3:,:-1])# 97,999\n",
    "train_target = torch.from_numpy(y[3:,1:]) # 97,999\n",
    "test_input = torch.from_numpy(y[:3,:-1]) # 3,999\n",
    "test_target = torch.from_numpy(y[:3,1:]) # 3,99\n",
    "model = LSTMPredictor()\n",
    "criterion = nn.MSELoss()\n",
    "optimizer = optim.LBFGS(model.parameters(),lr=0.8)"
   ]
  },
  {
   "cell_type": "code",
   "execution_count": 13,
   "id": "e4b7afda-3b90-4b9f-8e40-a7562db34b63",
   "metadata": {},
   "outputs": [],
   "source": [
    "n_steps = 100"
   ]
  },
  {
   "cell_type": "code",
   "execution_count": 14,
   "id": "d5e1d01e-4b4c-421c-90ea-6265868d6476",
   "metadata": {},
   "outputs": [],
   "source": [
    "from tqdm import tqdm"
   ]
  },
  {
   "cell_type": "code",
   "execution_count": 25,
   "id": "7fd37722-5a8d-4666-b989-0c7877d2ac34",
   "metadata": {},
   "outputs": [
    {
     "data": {
      "text/plain": [
       "tensor([[-0.0998, -0.0500,  0.0000,  ..., -0.5358, -0.4930, -0.4489],\n",
       "        [ 0.3894,  0.4350,  0.4794,  ..., -0.0654, -0.0155,  0.0345],\n",
       "        [-0.3894, -0.3429, -0.2955,  ..., -0.7614, -0.7281, -0.6929]])"
      ]
     },
     "execution_count": 25,
     "metadata": {},
     "output_type": "execute_result"
    }
   ],
   "source": [
    "test_input"
   ]
  },
  {
   "cell_type": "code",
   "execution_count": 24,
   "id": "594cda0b-7244-4efe-a427-fc9c4e4b4bc9",
   "metadata": {},
   "outputs": [
    {
     "data": {
      "text/plain": [
       "tensor([[-0.0500,  0.0000,  0.0500,  ..., -0.4930, -0.4489, -0.4036],\n",
       "        [ 0.4350,  0.4794,  0.5227,  ..., -0.0155,  0.0345,  0.0844],\n",
       "        [-0.3429, -0.2955, -0.2474,  ..., -0.7281, -0.6929, -0.6560]])"
      ]
     },
     "execution_count": 24,
     "metadata": {},
     "output_type": "execute_result"
    }
   ],
   "source": [
    "test_target"
   ]
  },
  {
   "cell_type": "code",
   "execution_count": 15,
   "id": "e9e79683-cccf-49d8-a583-12f80ea89f1c",
   "metadata": {},
   "outputs": [
    {
     "name": "stderr",
     "output_type": "stream",
     "text": [
      "100%|██████████| 100/100 [05:51<00:00,  3.51s/it]\n"
     ]
    }
   ],
   "source": [
    "for i in tqdm(range(n_steps)):\n",
    "    def closure():\n",
    "        optimizer.zero_grad()\n",
    "        out = model(train_input)\n",
    "        loss = criterion(out,train_target)\n",
    "        loss.backward()\n",
    "        return loss\n",
    "    optimizer.step(closure)\n",
    "    with torch.no_grad():\n",
    "        future = 1000\n",
    "        pred = model(test_input,future=future)\n",
    "        loss = criterion(pred[:,:-future],test_target)\n",
    "        y = pred.detach().numpy()\n",
    "    plt.figure(figsize=(12,6))\n",
    "    plt.title(f'Step : {i+1}')\n",
    "    n = train_input.shape[1]\n",
    "    def draw(y_i,color):\n",
    "        plt.plot(np.arange(n),y_i[:n],color)\n",
    "        plt.plot(np.arange(n,n+future),y_i[n:],color + ':')\n",
    "    draw(y[0],'r')\n",
    "    draw(y[1],'b')\n",
    "    draw(y[2],'g')\n",
    "    plt.savefig('./preds/predict%d.png'%i)\n",
    "    plt.close()"
   ]
  },
  {
   "cell_type": "code",
   "execution_count": null,
   "id": "be2bdb47-04c8-42da-8f90-60947f58b063",
   "metadata": {},
   "outputs": [],
   "source": []
  },
  {
   "cell_type": "code",
   "execution_count": null,
   "id": "37be9709-46de-41d2-b625-bf374a5f2718",
   "metadata": {},
   "outputs": [],
   "source": []
  },
  {
   "cell_type": "code",
   "execution_count": null,
   "id": "e86c14bd-a912-48c9-810b-c5d27513aab1",
   "metadata": {},
   "outputs": [],
   "source": []
  },
  {
   "cell_type": "code",
   "execution_count": null,
   "id": "4c64908f-6ace-4434-ab8f-7b07ab1c06d2",
   "metadata": {},
   "outputs": [],
   "source": []
  },
  {
   "cell_type": "code",
   "execution_count": null,
   "id": "fd094b12-032a-4797-952b-c02527a3a007",
   "metadata": {},
   "outputs": [],
   "source": [
    "\n"
   ]
  }
 ],
 "metadata": {
  "kernelspec": {
   "display_name": "Python 3.7.3 64-bit ('base': conda)",
   "language": "python",
   "name": "python373jvsc74a57bd0210f9608a45c0278a93c9e0b10db32a427986ab48cfc0d20c139811eb78c4bbc"
  },
  "language_info": {
   "codemirror_mode": {
    "name": "ipython",
    "version": 3
   },
   "file_extension": ".py",
   "mimetype": "text/x-python",
   "name": "python",
   "nbconvert_exporter": "python",
   "pygments_lexer": "ipython3",
   "version": "3.7.7"
  }
 },
 "nbformat": 4,
 "nbformat_minor": 5
}
