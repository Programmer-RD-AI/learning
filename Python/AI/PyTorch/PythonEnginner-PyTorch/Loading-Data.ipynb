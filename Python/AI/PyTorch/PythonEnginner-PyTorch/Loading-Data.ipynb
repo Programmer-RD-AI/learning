{
 "cells": [
  {
   "cell_type": "code",
   "execution_count": 3,
   "metadata": {},
   "outputs": [],
   "source": [
    "import torch"
   ]
  },
  {
   "cell_type": "code",
   "execution_count": 4,
   "metadata": {},
   "outputs": [],
   "source": [
    "import torchvision"
   ]
  },
  {
   "cell_type": "code",
   "execution_count": 5,
   "metadata": {},
   "outputs": [],
   "source": [
    "from torch.utils.data import Dataset,DataLoader"
   ]
  },
  {
   "cell_type": "code",
   "execution_count": 6,
   "metadata": {},
   "outputs": [],
   "source": [
    "import numpy as np"
   ]
  },
  {
   "cell_type": "code",
   "execution_count": 7,
   "metadata": {},
   "outputs": [],
   "source": [
    "import math"
   ]
  },
  {
   "cell_type": "code",
   "execution_count": 8,
   "metadata": {},
   "outputs": [],
   "source": [
    "import pandas as pd"
   ]
  },
  {
   "cell_type": "code",
   "execution_count": 9,
   "metadata": {},
   "outputs": [],
   "source": [
    "data = pd.read_csv('https://raw.githubusercontent.com/python-engineer/pytorchTutorial/master/data/wine/wine.csv')"
   ]
  },
  {
   "cell_type": "code",
   "execution_count": 10,
   "metadata": {},
   "outputs": [],
   "source": [
    "data.to_csv('./wine.csv',index=False)"
   ]
  },
  {
   "cell_type": "code",
   "execution_count": 11,
   "metadata": {},
   "outputs": [],
   "source": [
    "# class WineDataSet(Dataset):\n",
    "#     def __init__(self,data,x,y):\n",
    "#         xy = data\n",
    "#         x = np.array(x)\n",
    "#         y = np.array(y)\n",
    "#         self.x = torch.from_numpy(x)\n",
    "#         self.y = torch.from_numpy(y)\n",
    "#         self.n_samples = xy.shape[0]\n",
    "        \n",
    "#     def __getitem__(self,index):\n",
    "#         return self.x[index],self.y[index]\n",
    "    \n",
    "#     def __len__(self):\n",
    "#         return self.n_samples"
   ]
  },
  {
   "cell_type": "code",
   "execution_count": 12,
   "metadata": {},
   "outputs": [],
   "source": [
    "class WineDataSet(Dataset):\n",
    "    def __init__(self):\n",
    "        xy = np.loadtxt('./wine.csv',delimiter=',',dtype=np.float32,skiprows=1)\n",
    "        print(xy.shape)\n",
    "        self.x = torch.from_numpy(xy[:,1:])\n",
    "        self.y = torch.from_numpy(xy[:,[0]])\n",
    "        self.n_samples = xy.shape[0]\n",
    "        \n",
    "    def __getitem__(self,index):\n",
    "        return self.x[index],self.y[index]\n",
    "    \n",
    "    def __len__(self):\n",
    "        return self.n_samples"
   ]
  },
  {
   "cell_type": "code",
   "execution_count": 13,
   "metadata": {},
   "outputs": [
    {
     "name": "stdout",
     "output_type": "stream",
     "text": [
      "(178, 14)\n"
     ]
    }
   ],
   "source": [
    "dataset = WineDataSet()"
   ]
  },
  {
   "cell_type": "code",
   "execution_count": 14,
   "metadata": {},
   "outputs": [],
   "source": [
    "first_data = dataset[0]"
   ]
  },
  {
   "cell_type": "code",
   "execution_count": 15,
   "metadata": {},
   "outputs": [],
   "source": [
    "features,labels = first_data"
   ]
  },
  {
   "cell_type": "code",
   "execution_count": 16,
   "metadata": {},
   "outputs": [
    {
     "name": "stdout",
     "output_type": "stream",
     "text": [
      "tensor([1.4230e+01, 1.7100e+00, 2.4300e+00, 1.5600e+01, 1.2700e+02, 2.8000e+00,\n",
      "        3.0600e+00, 2.8000e-01, 2.2900e+00, 5.6400e+00, 1.0400e+00, 3.9200e+00,\n",
      "        1.0650e+03])\n"
     ]
    }
   ],
   "source": [
    "print(features)"
   ]
  },
  {
   "cell_type": "code",
   "execution_count": 17,
   "metadata": {},
   "outputs": [
    {
     "name": "stdout",
     "output_type": "stream",
     "text": [
      "tensor([1.])\n"
     ]
    }
   ],
   "source": [
    "print(labels)"
   ]
  },
  {
   "cell_type": "code",
   "execution_count": 18,
   "metadata": {},
   "outputs": [],
   "source": [
    "dataloader = DataLoader(dataset,batch_size=32,shuffle=True,num_workers=2)"
   ]
  },
  {
   "cell_type": "code",
   "execution_count": 19,
   "metadata": {},
   "outputs": [],
   "source": [
    "dataiter = iter(dataloader)"
   ]
  },
  {
   "cell_type": "code",
   "execution_count": 20,
   "metadata": {},
   "outputs": [],
   "source": [
    "data = dataiter.next()"
   ]
  },
  {
   "cell_type": "code",
   "execution_count": 21,
   "metadata": {},
   "outputs": [],
   "source": [
    "features,labels = data"
   ]
  },
  {
   "cell_type": "code",
   "execution_count": 22,
   "metadata": {},
   "outputs": [
    {
     "data": {
      "text/plain": [
       "torch.Size([32, 13])"
      ]
     },
     "execution_count": 22,
     "metadata": {},
     "output_type": "execute_result"
    }
   ],
   "source": [
    "features.shape"
   ]
  },
  {
   "cell_type": "code",
   "execution_count": 23,
   "metadata": {},
   "outputs": [
    {
     "data": {
      "text/plain": [
       "torch.Size([32, 1])"
      ]
     },
     "execution_count": 23,
     "metadata": {},
     "output_type": "execute_result"
    }
   ],
   "source": [
    "labels.shape"
   ]
  },
  {
   "cell_type": "code",
   "execution_count": 24,
   "metadata": {},
   "outputs": [],
   "source": [
    "# dummy training loop"
   ]
  },
  {
   "cell_type": "code",
   "execution_count": 38,
   "metadata": {},
   "outputs": [],
   "source": [
    "num_epochs = 2\n",
    "total_samples = len(dataset)\n",
    "n_iters = math.ceil(total_samples/32)"
   ]
  },
  {
   "cell_type": "code",
   "execution_count": 39,
   "metadata": {},
   "outputs": [
    {
     "data": {
      "text/plain": [
       "178"
      ]
     },
     "execution_count": 39,
     "metadata": {},
     "output_type": "execute_result"
    }
   ],
   "source": [
    "total_samples"
   ]
  },
  {
   "cell_type": "code",
   "execution_count": 40,
   "metadata": {},
   "outputs": [
    {
     "data": {
      "text/plain": [
       "6"
      ]
     },
     "execution_count": 40,
     "metadata": {},
     "output_type": "execute_result"
    }
   ],
   "source": [
    "n_iters"
   ]
  },
  {
   "cell_type": "code",
   "execution_count": 42,
   "metadata": {},
   "outputs": [
    {
     "name": "stdout",
     "output_type": "stream",
     "text": [
      "epoch : 1/2, step : 1/6, inputs : torch.Size([32, 13]), labels : torch.Size([32, 1])\n",
      "epoch : 1/2, step : 2/6, inputs : torch.Size([32, 13]), labels : torch.Size([32, 1])\n",
      "epoch : 1/2, step : 3/6, inputs : torch.Size([32, 13]), labels : torch.Size([32, 1])\n",
      "epoch : 1/2, step : 4/6, inputs : torch.Size([32, 13]), labels : torch.Size([32, 1])\n",
      "epoch : 1/2, step : 5/6, inputs : torch.Size([32, 13]), labels : torch.Size([32, 1])\n",
      "epoch : 1/2, step : 6/6, inputs : torch.Size([18, 13]), labels : torch.Size([18, 1])\n",
      "epoch : 2/2, step : 1/6, inputs : torch.Size([32, 13]), labels : torch.Size([32, 1])\n",
      "epoch : 2/2, step : 2/6, inputs : torch.Size([32, 13]), labels : torch.Size([32, 1])\n",
      "epoch : 2/2, step : 3/6, inputs : torch.Size([32, 13]), labels : torch.Size([32, 1])\n",
      "epoch : 2/2, step : 4/6, inputs : torch.Size([32, 13]), labels : torch.Size([32, 1])\n",
      "epoch : 2/2, step : 5/6, inputs : torch.Size([32, 13]), labels : torch.Size([32, 1])\n",
      "epoch : 2/2, step : 6/6, inputs : torch.Size([18, 13]), labels : torch.Size([18, 1])\n"
     ]
    }
   ],
   "source": [
    "for epoxh in range(num_epochs):\n",
    "    for i,(inputs,labels) in enumerate(dataloader):\n",
    "        # forward backward, update\n",
    "        print(f'epoch : {epoxh+1}/{num_epochs}, step : {i+1}/{n_iters}, inputs : {inputs.shape}, labels : {labels.shape}')"
   ]
  },
  {
   "cell_type": "code",
   "execution_count": 46,
   "metadata": {},
   "outputs": [
    {
     "data": {
      "image/png": "[encoded data removed]",
      "text/plain": [
       "<Figure size 432x288 with 1 Axes>"
      ]
     },
     "metadata": {
      "needs_background": "light"
     },
     "output_type": "display_data"
    },
    {
     "data": {
      "image/png": "[encoded data removed]",
      "text/plain": [
       "<Figure size 432x288 with 1 Axes>"
      ]
     },
     "metadata": {
      "needs_background": "light"
     },
     "output_type": "display_data"
    },
    {
     "data": {
      "image/png": "[encoded data removed]",
      "text/plain": [
       "<Figure size 432x288 with 1 Axes>"
      ]
     },
     "metadata": {
      "needs_background": "light"
     },
     "output_type": "display_data"
    },
    {
     "data": {
      "image/png": "[encoded data removed]",
      "text/plain": [
       "<Figure size 432x288 with 1 Axes>"
      ]
     },
     "metadata": {
      "needs_background": "light"
     },
     "output_type": "display_data"
    },
    {
     "data": {
      "image/png": "[encoded data removed]",
      "text/plain": [
       "<Figure size 432x288 with 1 Axes>"
      ]
     },
     "metadata": {
      "needs_background": "light"
     },
     "output_type": "display_data"
    },
    {
     "name": "stdout",
     "output_type": "stream",
     "text": [
      "done\n"
     ]
    },
    {
     "data": {
      "text/plain": [
       "<Figure size 432x288 with 0 Axes>"
      ]
     },
     "metadata": {},
     "output_type": "display_data"
    }
   ],
   "source": [
    "import numpy as np \n",
    "import matplotlib.pyplot as plt\n",
    "\n",
    "##### Sigmoid\n",
    "sigmoid = lambda x: 1 / (1 + np.exp(-x))\n",
    "\n",
    "x=np.linspace(-10,10,10)\n",
    "\n",
    "y=np.linspace(-10,10,100)\n",
    "\n",
    "fig = plt.figure()\n",
    "plt.plot(y,sigmoid(y),'b', label='linspace(-10,10,100)')\n",
    "\n",
    "plt.grid(linestyle='--')\n",
    "\n",
    "plt.xlabel('X Axis')\n",
    "\n",
    "plt.ylabel('Y Axis')\n",
    "\n",
    "plt.title('Sigmoid Function')\n",
    "\n",
    "plt.xticks([-4, -3, -2, -1, 0, 1, 2, 3, 4])\n",
    "plt.yticks([-2, -1, 0, 1, 2])\n",
    "\n",
    "plt.ylim(-2, 2)\n",
    "plt.xlim(-4, 4)\n",
    "\n",
    "plt.show()\n",
    "#plt.savefig('sigmoid.png')\n",
    "\n",
    "fig = plt.figure()\n",
    "\n",
    "##### TanH\n",
    "tanh = lambda x: 2*sigmoid(2*x)-1\n",
    "\n",
    "x=np.linspace(-10,10,10)\n",
    "\n",
    "y=np.linspace(-10,10,100)\n",
    "\n",
    "plt.plot(y,tanh(y),'b', label='linspace(-10,10,100)')\n",
    "\n",
    "plt.grid(linestyle='--')\n",
    "\n",
    "plt.xlabel('X Axis')\n",
    "\n",
    "plt.ylabel('Y Axis')\n",
    "\n",
    "plt.title('TanH Function')\n",
    "\n",
    "plt.xticks([-4, -3, -2, -1, 0, 1, 2, 3, 4])\n",
    "plt.yticks([-4, -3, -2, -1, 0, 1, 2, 3, 4])\n",
    "\n",
    "plt.ylim(-4, 4)\n",
    "plt.xlim(-4, 4)\n",
    "\n",
    "plt.show()\n",
    "#plt.savefig('tanh.png')\n",
    "\n",
    "fig = plt.figure()\n",
    "\n",
    "##### ReLU\n",
    "relu = lambda x: np.where(x>=0, x, 0)\n",
    "\n",
    "x=np.linspace(-10,10,10)\n",
    "\n",
    "y=np.linspace(-10,10,1000)\n",
    "\n",
    "plt.plot(y,relu(y),'b', label='linspace(-10,10,100)')\n",
    "\n",
    "plt.grid(linestyle='--')\n",
    "\n",
    "plt.xlabel('X Axis')\n",
    "\n",
    "plt.ylabel('Y Axis')\n",
    "\n",
    "plt.title('ReLU')\n",
    "\n",
    "plt.xticks([-4, -3, -2, -1, 0, 1, 2, 3, 4])\n",
    "plt.yticks([-4, -3, -2, -1, 0, 1, 2, 3, 4])\n",
    "\n",
    "plt.ylim(-4, 4)\n",
    "plt.xlim(-4, 4)\n",
    "\n",
    "plt.show()\n",
    "#plt.savefig('relu.png')\n",
    "\n",
    "fig = plt.figure()\n",
    "\n",
    "##### Leaky ReLU\n",
    "leakyrelu = lambda x: np.where(x>=0, x, 0.1*x)\n",
    "\n",
    "x=np.linspace(-10,10,10)\n",
    "\n",
    "y=np.linspace(-10,10,1000)\n",
    "\n",
    "plt.plot(y,leakyrelu(y),'b', label='linspace(-10,10,100)')\n",
    "\n",
    "plt.grid(linestyle='--')\n",
    "\n",
    "plt.xlabel('X Axis')\n",
    "\n",
    "plt.ylabel('Y Axis')\n",
    "\n",
    "plt.title('Leaky ReLU')\n",
    "\n",
    "plt.xticks([-4, -3, -2, -1, 0, 1, 2, 3, 4])\n",
    "plt.yticks([-4, -3, -2, -1, 0, 1, 2, 3, 4])\n",
    "\n",
    "plt.ylim(-4, 4)\n",
    "plt.xlim(-4, 4)\n",
    "\n",
    "plt.show()\n",
    "#plt.savefig('lrelu.png')\n",
    "\n",
    "fig = plt.figure()\n",
    "\n",
    "\n",
    "##### Binary Step\n",
    "bstep = lambda x: np.where(x>=0, 1, 0)\n",
    "\n",
    "x=np.linspace(-10,10,10)\n",
    "\n",
    "y=np.linspace(-10,10,1000)\n",
    "\n",
    "plt.plot(y,bstep(y),'b', label='linspace(-10,10,100)')\n",
    "\n",
    "plt.grid(linestyle='--')\n",
    "\n",
    "plt.xlabel('X Axis')\n",
    "\n",
    "plt.ylabel('Y Axis')\n",
    "\n",
    "plt.title('Step Function')\n",
    "\n",
    "plt.xticks([-4, -3, -2, -1, 0, 1, 2, 3, 4])\n",
    "plt.yticks([-2, -1, 0, 1, 2])\n",
    "\n",
    "plt.ylim(-2, 2)\n",
    "plt.xlim(-4, 4)\n",
    "\n",
    "plt.show()\n",
    "plt.savefig('step.png')\n",
    "\n",
    "print('done')"
   ]
  },
  {
   "cell_type": "code",
   "execution_count": null,
   "metadata": {},
   "outputs": [],
   "source": []
  }
 ],
 "metadata": {
  "kernelspec": {
   "display_name": "Python 3.7.3 64-bit ('base': conda)",
   "language": "python",
   "name": "python373jvsc74a57bd0210f9608a45c0278a93c9e0b10db32a427986ab48cfc0d20c139811eb78c4bbc"
  },
  "language_info": {
   "codemirror_mode": {
    "name": "ipython",
    "version": 3
   },
   "file_extension": ".py",
   "mimetype": "text/x-python",
   "name": "python",
   "nbconvert_exporter": "python",
   "pygments_lexer": "ipython3",
   "version": "3.7.3"
  }
 },
 "nbformat": 4,
 "nbformat_minor": 2
}
