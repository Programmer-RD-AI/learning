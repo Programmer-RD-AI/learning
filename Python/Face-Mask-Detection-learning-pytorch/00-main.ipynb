{
 "cells": [
  {
   "cell_type": "code",
   "execution_count": 1,
   "metadata": {},
   "outputs": [],
   "source": [
    "from numpy.lib import stride_tricks\n",
    "import wandb\n",
    "import torch\n",
    "import torch.nn as nn\n",
    "import torch.nn.functional as F\n",
    "from tqdm import tqdm\n",
    "import os\n",
    "\n",
    "\n",
    "class Modelling:\n",
    "    def train(\n",
    "        self,\n",
    "        model,\n",
    "        X,\n",
    "        optimizer,conv2d_output,\n",
    "        y,\n",
    "        criterion,\n",
    "        EPOCHS=250,\n",
    "        BATCH_SIZE=32,\n",
    "        PROJECT_NAME=\"test\",\n",
    "        NAME=\"test\",\n",
    "        device=torch.device(\"cuda\"),\n",
    "        IMG_SIZE=224,\n",
    "    ):\n",
    "        model.to(device)\n",
    "        lossess = []\n",
    "        wandb.init(project=PROJECT_NAME, name=NAME)\n",
    "        for epoch in tqdm(range(EPOCHS)):\n",
    "            for i in range(0, len(X), BATCH_SIZE):\n",
    "                X_batch = X[i : i + BATCH_SIZE]\n",
    "                y_batch = y[i : i + BATCH_SIZE]\n",
    "                X_batch = X_batch.to(device)\n",
    "                y_batch = y_batch.to(device)\n",
    "                preds = model(X_batch.view(-1, 1, IMG_SIZE, IMG_SIZE).float())\n",
    "                preds.to(device)\n",
    "                loss = criterion(preds, y_batch)\n",
    "                loss.backward()\n",
    "                optimizer.step()\n",
    "                optimizer.zero_grad()\n",
    "                lossess.append(loss.item())\n",
    "                wandb.log(\n",
    "                    {\n",
    "                        \"loss_per_batch\": loss.item(),\n",
    "                    }\n",
    "                )\n",
    "            wandb.log(\n",
    "                    {\n",
    "                        \"loss\": loss.item(),\n",
    "                    }\n",
    "            )\n",
    "        return preds,y_batch\n",
    "\n",
    "\n",
    "class Model(nn.Module):\n",
    "    def __init__(self,conv2d_output=64,conv2d_1_ouput=32,output_fc1=128,max_pool2d=2,num_of_linear=1,activation=nn.ReLU()):\n",
    "        super().__init__()\n",
    "        print(conv2d_output)\n",
    "        print(conv2d_1_ouput)\n",
    "        print(output_fc1)\n",
    "        print(max_pool2d)\n",
    "        print(num_of_linear)\n",
    "        print(activation)\n",
    "        self.conv2d_output = conv2d_output\n",
    "        self.conv2d_1_ouput = conv2d_1_ouput\n",
    "        self.conv1 = nn.Conv2d(1, conv2d_1_ouput,3)\n",
    "        self.conv3 = nn.Conv2d(conv2d_1_ouput,conv2d_1_ouput,3)\n",
    "        self.conv2 = nn.Conv2d(conv2d_1_ouput, conv2d_output, 3)\n",
    "        self.fc1 = nn.Linear(\n",
    "            self.conv2d_output*26*26, output_fc1\n",
    "        )  # output_channel*max_pool2d_kernal*max_pool2d_kernal\n",
    "        self.fc2 = nn.Linear(output_fc1, output_fc1)\n",
    "        self.fc3 = nn.Linear(output_fc1, 2)\n",
    "        self.relu = activation\n",
    "        self.max_pool2d = nn.MaxPool2d(max_pool2d)\n",
    "        self.num_of_linear = num_of_linear\n",
    "\n",
    "    def forward(self, X):\n",
    "        preds = self.conv1(X)\n",
    "        preds = self.relu(preds)\n",
    "        preds = self.max_pool2d(preds)\n",
    "        preds = self.conv3(preds)\n",
    "        preds = self.relu(preds)\n",
    "        preds = self.max_pool2d(preds)\n",
    "        preds = self.conv2(preds)\n",
    "        preds = self.relu(preds)\n",
    "        preds = self.max_pool2d(preds)\n",
    "        preds = preds.view(-1, self.conv2d_output*26*26)\n",
    "        preds = self.fc1(preds)\n",
    "        preds = self.relu(preds)\n",
    "        for _ in range(self.num_of_linear):\n",
    "            preds = self.fc2(preds)\n",
    "            preds = self.relu(preds)\n",
    "        preds = self.fc3(preds)\n",
    "        preds = F.softmax(preds, dim=1)\n",
    "        return preds"
   ]
  },
  {
   "cell_type": "code",
   "execution_count": 2,
   "metadata": {},
   "outputs": [],
   "source": [
    "import numpy as np\n",
    "import cv2\n",
    "import os\n",
    "from tqdm import tqdm\n",
    "\n",
    "\n",
    "class Load_Data:\n",
    "    def __init__(self, IMG_SIZE=224):\n",
    "        self.IMG_SIZE = IMG_SIZE\n",
    "        self.data = []\n",
    "        self.LABELS = {\"./data/raw/Mask/\": [0, -1], \"./data/raw/Non Mask/\": [1, -1]}\n",
    "\n",
    "    def load_data(self, IMREAD_TYPE=cv2.IMREAD_GRAYSCALE):\n",
    "        for label in tqdm(self.LABELS):\n",
    "            for filename in os.listdir(label):\n",
    "                try:\n",
    "                    filepath = label + filename\n",
    "                    img = cv2.imread(filepath, IMREAD_TYPE)\n",
    "                    img = cv2.resize(img, (self.IMG_SIZE, self.IMG_SIZE))\n",
    "                    img = img / 255.0\n",
    "                    self.data.append([np.array(img), np.eye(2)[self.LABELS[label][0]]])\n",
    "                    self.LABELS[label][1] = self.LABELS[label][1] + 1\n",
    "                except Exception as e:\n",
    "                    print(e)\n",
    "                    # pass\n",
    "        for l in self.LABELS:\n",
    "            print(f\"Class : {l} \\n Count : {self.LABELS[l][1]}\")\n",
    "        np.random.shuffle(self.data)\n",
    "        np.save(\"./data/cleaned/data.npy\", self.data)\n",
    "        return self.data"
   ]
  },
  {
   "cell_type": "markdown",
   "metadata": {},
   "source": [
    "## Load the data"
   ]
  },
  {
   "cell_type": "code",
   "execution_count": 3,
   "metadata": {},
   "outputs": [],
   "source": [
    "def load_data():\n",
    "    ld = Load_Data()\n",
    "    data = ld.load_data()\n",
    "    X = []\n",
    "    y = []\n",
    "    for d in data:\n",
    "        X.append(d[0])\n",
    "        y.append(d[1])\n",
    "    VAL_SPLIT = 0.25\n",
    "    VAL_SPLIT = len(X)*VAL_SPLIT\n",
    "    VAL_SPLIT = int(VAL_SPLIT)\n",
    "    X_train = X[:-VAL_SPLIT]\n",
    "    y_train = y[:-VAL_SPLIT]\n",
    "    X_test = X[-VAL_SPLIT:]\n",
    "    y_test = y[-VAL_SPLIT:]\n",
    "    X_train = torch.from_numpy(np.array(X_train).astype(np.float32))\n",
    "    y_train = torch.from_numpy(np.array(y_train).astype(np.float32))\n",
    "    X_test = torch.from_numpy(np.array(X_test).astype(np.float32))\n",
    "    y_test = torch.from_numpy(np.array(y_test).astype(np.float32))\n",
    "    return [[X,y],[[X_train,y_train],[X_test,y_test]]]"
   ]
  },
  {
   "cell_type": "code",
   "execution_count": 4,
   "metadata": {},
   "outputs": [
    {
     "name": "stderr",
     "output_type": "stream",
     "text": [
      "100%|██████████| 2/2 [00:04<00:00,  2.19s/it]\n",
      "/home/indika/anaconda3/lib/python3.7/site-packages/numpy/core/_asarray.py:136: VisibleDeprecationWarning: Creating an ndarray from ragged nested sequences (which is a list-or-tuple of lists-or-tuples-or ndarrays with different lengths or shapes) is deprecated. If you meant to do this, you must specify 'dtype=object' when creating the ndarray\n",
      "  return array(a, dtype, copy=False, order=order, subok=True)\n"
     ]
    },
    {
     "name": "stdout",
     "output_type": "stream",
     "text": [
      "Class : ./data/raw/Mask/ \n",
      " Count : 502\n",
      "Class : ./data/raw/Non Mask/ \n",
      " Count : 502\n"
     ]
    }
   ],
   "source": [
    "data = load_data()"
   ]
  },
  {
   "cell_type": "code",
   "execution_count": 5,
   "metadata": {},
   "outputs": [],
   "source": [
    "import numpy as np\n",
    "# np.random.shuffle(data)"
   ]
  },
  {
   "cell_type": "code",
   "execution_count": 6,
   "metadata": {},
   "outputs": [],
   "source": [
    "X,y = data[0]"
   ]
  },
  {
   "cell_type": "code",
   "execution_count": 7,
   "metadata": {},
   "outputs": [],
   "source": [
    "X = np.array(X)\n",
    "y = np.array(y)"
   ]
  },
  {
   "cell_type": "code",
   "execution_count": 8,
   "metadata": {},
   "outputs": [],
   "source": [
    "X_train,y_train = data[1][0]"
   ]
  },
  {
   "cell_type": "code",
   "execution_count": 9,
   "metadata": {},
   "outputs": [],
   "source": [
    "X_test,y_test = data[1][1]"
   ]
  },
  {
   "cell_type": "code",
   "execution_count": 10,
   "metadata": {},
   "outputs": [
    {
     "data": {
      "text/plain": [
       "torch.Size([755, 224, 224])"
      ]
     },
     "execution_count": 10,
     "metadata": {},
     "output_type": "execute_result"
    }
   ],
   "source": [
    "X_train.shape"
   ]
  },
  {
   "cell_type": "code",
   "execution_count": 11,
   "metadata": {},
   "outputs": [
    {
     "data": {
      "text/plain": [
       "torch.Size([755, 2])"
      ]
     },
     "execution_count": 11,
     "metadata": {},
     "output_type": "execute_result"
    }
   ],
   "source": [
    "y_train.shape"
   ]
  },
  {
   "cell_type": "code",
   "execution_count": 12,
   "metadata": {},
   "outputs": [
    {
     "data": {
      "text/plain": [
       "torch.Size([251, 224, 224])"
      ]
     },
     "execution_count": 12,
     "metadata": {},
     "output_type": "execute_result"
    }
   ],
   "source": [
    "X_test.shape"
   ]
  },
  {
   "cell_type": "code",
   "execution_count": 13,
   "metadata": {},
   "outputs": [
    {
     "data": {
      "text/plain": [
       "torch.Size([251, 2])"
      ]
     },
     "execution_count": 13,
     "metadata": {},
     "output_type": "execute_result"
    }
   ],
   "source": [
    "y_test.shape"
   ]
  },
  {
   "cell_type": "code",
   "execution_count": 14,
   "metadata": {},
   "outputs": [
    {
     "data": {
      "text/plain": [
       "(1006, 224, 224)"
      ]
     },
     "execution_count": 14,
     "metadata": {},
     "output_type": "execute_result"
    }
   ],
   "source": [
    "X.shape"
   ]
  },
  {
   "cell_type": "code",
   "execution_count": 15,
   "metadata": {},
   "outputs": [
    {
     "data": {
      "text/plain": [
       "(1006, 2)"
      ]
     },
     "execution_count": 15,
     "metadata": {},
     "output_type": "execute_result"
    }
   ],
   "source": [
    "y.shape"
   ]
  },
  {
   "cell_type": "markdown",
   "metadata": {},
   "source": [
    "## Modelling"
   ]
  },
  {
   "cell_type": "code",
   "execution_count": 16,
   "metadata": {},
   "outputs": [],
   "source": [
    "modelling = Modelling()"
   ]
  },
  {
   "cell_type": "code",
   "execution_count": 17,
   "metadata": {},
   "outputs": [
    {
     "name": "stdout",
     "output_type": "stream",
     "text": [
      "64\n",
      "32\n",
      "128\n",
      "2\n",
      "1\n",
      "ReLU()\n"
     ]
    }
   ],
   "source": [
    "model = Model()\n",
    "loss_funtion = nn.CrossEntropyLoss()\n",
    "optimizer = torch.optim.AdamW(model.parameters(),lr=0.1)"
   ]
  },
  {
   "cell_type": "code",
   "execution_count": 18,
   "metadata": {},
   "outputs": [],
   "source": [
    "PROJECT_NAME = 'Mask-or-Not'"
   ]
  },
  {
   "cell_type": "code",
   "execution_count": 19,
   "metadata": {},
   "outputs": [],
   "source": [
    "device = torch.device('cuda')"
   ]
  },
  {
   "cell_type": "code",
   "execution_count": 20,
   "metadata": {},
   "outputs": [],
   "source": [
    "model = model.to('cuda')"
   ]
  },
  {
   "cell_type": "code",
   "execution_count": 21,
   "metadata": {},
   "outputs": [],
   "source": [
    "X_train = X_train.to(device)\n",
    "y_train = y_train.to(device)"
   ]
  },
  {
   "cell_type": "code",
   "execution_count": 22,
   "metadata": {},
   "outputs": [],
   "source": [
    "# preds,y_real = modelling.train(model,X_train,optimizer,y_train,loss_funtion,PROJECT_NAME=PROJECT_NAME,NAME='testing-0',device=torch.device('cuda'))"
   ]
  },
  {
   "cell_type": "code",
   "execution_count": 23,
   "metadata": {},
   "outputs": [],
   "source": [
    "loss_logs = []"
   ]
  },
  {
   "cell_type": "code",
   "execution_count": 24,
   "metadata": {},
   "outputs": [],
   "source": [
    "IMG_SIZE = 224"
   ]
  },
  {
   "cell_type": "code",
   "execution_count": 25,
   "metadata": {},
   "outputs": [
    {
     "name": "stdout",
     "output_type": "stream",
     "text": [
      "64\n",
      "32\n",
      "128\n",
      "2\n",
      "1\n",
      "ReLU()\n"
     ]
    }
   ],
   "source": [
    "model = Model().to(device)\n",
    "loss_funtion = torch.nn.L1Loss()\n",
    "optimizer = torch.optim.AdamW(model.parameters(),lr=0.1)"
   ]
  },
  {
   "cell_type": "code",
   "execution_count": 26,
   "metadata": {},
   "outputs": [],
   "source": [
    "device = torch.device(\n",
    "            \"cuda\" if torch.cuda.is_available() else \"cpu\"\n",
    "        )"
   ]
  },
  {
   "cell_type": "code",
   "execution_count": 27,
   "metadata": {},
   "outputs": [
    {
     "data": {
      "text/plain": [
       "device(type='cuda')"
      ]
     },
     "execution_count": 27,
     "metadata": {},
     "output_type": "execute_result"
    }
   ],
   "source": [
    "device"
   ]
  },
  {
   "cell_type": "code",
   "execution_count": 28,
   "metadata": {},
   "outputs": [],
   "source": [
    "# preds,y_true = modelling.train(model,X_train,optimizer,y_train,loss_funtion,PROJECT_NAME=PROJECT_NAME,NAME='L1Loss',device=torch.device('cuda'),EPOCHS=1000)"
   ]
  },
  {
   "cell_type": "code",
   "execution_count": 29,
   "metadata": {},
   "outputs": [],
   "source": [
    "def test(model,X_train,y_train):\n",
    "    total = 0\n",
    "    correct = 0\n",
    "    for i in range(len(X_train)):\n",
    "        input_img = X_train[i].view(-1,1,224,224).to('cpu')\n",
    "        model.to('cpu')\n",
    "        pred = model(input_img).detach().numpy()\n",
    "        pred = torch.from_numpy(pred)\n",
    "        pred = torch.argmax(pred)\n",
    "        target = y_train[i]\n",
    "        target = torch.argmax(target)\n",
    "        if target == pred:\n",
    "            correct += 1\n",
    "        input_img = X_train[i-1].view(-1,1,224,224).to('cpu')\n",
    "        pred_old = model(input_img).detach().numpy()\n",
    "        pred_old = torch.argmax(torch.from_numpy(pred_old))\n",
    "        total += 1\n",
    "    return correct,total"
   ]
  },
  {
   "cell_type": "code",
   "execution_count": 30,
   "metadata": {},
   "outputs": [],
   "source": [
    "# total = 0\n",
    "# correct = 0\n",
    "# same = 0\n",
    "# for i in range(len(X_train)):\n",
    "#     input_img = X_train[i].view(-1,1,224,224).to('cpu')\n",
    "#     model.to('cpu')\n",
    "#     pred = model(input_img).detach().numpy()\n",
    "#     pred = torch.from_numpy(pred)\n",
    "#     pred = torch.argmax(pred)\n",
    "#     target = y_train[i]\n",
    "#     target = torch.argmax(target)\n",
    "#     if target == pred:\n",
    "#         correct += 1\n",
    "#     input_img = X_train[i-1].view(-1,1,224,224).to('cpu')\n",
    "#     pred_old = model(input_img).detach().numpy()\n",
    "#     pred_old = torch.argmax(torch.from_numpy(pred_old))\n",
    "#     if str(pred) != str(pred_old):\n",
    "#         print(f'!=0 Now : {pred}/{y_train[i]}')\n",
    "#         print(f'!=0 Old : {pred_old}/{y_train[i-1]}')\n",
    "#         print('\\n')\n",
    "#         same += 1\n",
    "#     total += 1"
   ]
  },
  {
   "cell_type": "code",
   "execution_count": 31,
   "metadata": {},
   "outputs": [],
   "source": [
    "# BCELoss\n",
    "# 0.498 25 Loss\n",
    "# MSELoss\n",
    "# 0.497 0.25 Loss\n",
    "# L1Loss\n",
    "# 0.497 0.25 not best as MSELoss"
   ]
  },
  {
   "cell_type": "code",
   "execution_count": 32,
   "metadata": {},
   "outputs": [],
   "source": [
    "# round(correct/total,3)"
   ]
  },
  {
   "cell_type": "markdown",
   "metadata": {},
   "source": [
    "## Testing modelling"
   ]
  },
  {
   "cell_type": "code",
   "execution_count": 33,
   "metadata": {},
   "outputs": [],
   "source": [
    "device = torch.device('cuda')"
   ]
  },
  {
   "cell_type": "code",
   "execution_count": 34,
   "metadata": {},
   "outputs": [],
   "source": [
    "BATCH_SIZE = 128"
   ]
  },
  {
   "cell_type": "code",
   "execution_count": 35,
   "metadata": {},
   "outputs": [],
   "source": [
    "# EPOCHS = 12\n",
    "# wandb.init(project=PROJECT_NAME, name='test')\n",
    "# for epoch in tqdm(range(EPOCHS)):\n",
    "#     for i in tqdm(range(0, len(X_train), BATCH_SIZE)):\n",
    "#         X_batch = X_train[i : i + BATCH_SIZE].view(-1, 1, IMG_SIZE, IMG_SIZE)\n",
    "#         y_batch = y_train[i : i + BATCH_SIZE]\n",
    "#         X_batch = X_batch.to('cuda')\n",
    "#         y_batch = y_batch.to('cuda')\n",
    "#         X_batch = X_batch.cuda()\n",
    "#         model.to('cuda')\n",
    "#         preds = model(X=X_batch)\n",
    "#         preds.to(device)\n",
    "#         loss = loss_funtion(preds, y_batch)\n",
    "#         loss.backward()\n",
    "#         optimizer.step()\n",
    "#         optimizer.zero_grad()\n",
    "#         wandb.log({\n",
    "#         'loss_iter':loss.item(),\n",
    "#         'accuracy_iter':round(test(model,X_train,y_train)[0],test(model,X_train,y_train)[1]),\n",
    "#         'val_accuracy_iter':round(test(model,X_test,y_test)[0],test(model,X_test,y_test)[1])\n",
    "#         })\n",
    "#     wandb.log({\n",
    "#         'loss':loss.item(),\n",
    "#         'accuracy':round(test(model,X_train,y_train)[0],test(model,X_train,y_train)[1]),\n",
    "#         'val_accuracy':round(test(model,X_test,y_test)[0],test(model,X_test,y_test)[1])\n",
    "#     })"
   ]
  },
  {
   "cell_type": "code",
   "execution_count": 36,
   "metadata": {},
   "outputs": [],
   "source": [
    "BATCH_SIZE = 32"
   ]
  },
  {
   "cell_type": "code",
   "execution_count": 37,
   "metadata": {},
   "outputs": [],
   "source": [
    "# conv2d_output\n",
    "# conv2d_1_ouput\n",
    "# output_fc1\n",
    "# max_pool2d\n",
    "# num_of_linear\n",
    "# activation\n",
    "# best num of epochs\n",
    "# best optimizer\n",
    "# best loss\n",
    "## best lr"
   ]
  },
  {
   "cell_type": "code",
   "execution_count": 38,
   "metadata": {},
   "outputs": [],
   "source": [
    "# best num of epochs\n",
    "## best lr"
   ]
  },
  {
   "cell_type": "code",
   "execution_count": 39,
   "metadata": {},
   "outputs": [],
   "source": [
    "BATCH_SIZE = 250"
   ]
  },
  {
   "cell_type": "code",
   "execution_count": null,
   "metadata": {},
   "outputs": [],
   "source": [
    "# best optimizer\n",
    "optimizers = [torch.optim.Adam,torch.optim.AdamW,torch.optim.Adamax,torch.optim.SGD]\n",
    "for optimizer in optimizers:\n",
    "    EPOCHS = 3\n",
    "    model = Model().to('cuda')\n",
    "    loss_funtion = torch.nn.MSELoss().to('cuda')\n",
    "    optimizer = optimizer(model.parameters(),lr=0.1)\n",
    "    wandb.init(project=PROJECT_NAME, name=f'optimizer-{optimizer}')\n",
    "    for epoch in tqdm(range(EPOCHS)):\n",
    "        for i in tqdm(range(0, len(X_train), BATCH_SIZE)):\n",
    "            X_batch = X_train[i : i + BATCH_SIZE].view(-1, 1, IMG_SIZE, IMG_SIZE)\n",
    "            y_batch = y_train[i : i + BATCH_SIZE]\n",
    "            X_batch = X_batch.to('cuda')\n",
    "            y_batch = y_batch.to('cuda')\n",
    "            X_batch = X_batch.cuda()\n",
    "            model.to('cuda')\n",
    "            preds = model(X=X_batch)\n",
    "            preds.to(device)\n",
    "            loss = loss_funtion(preds, y_batch)\n",
    "            loss.backward()\n",
    "            optimizer.step()\n",
    "            optimizer.zero_grad()\n",
    "            print({\n",
    "                'loss':loss.item(),\n",
    "                'accuracy':test(model,X_train,y_train)[0]/test(model,X_train,y_train)[1],\n",
    "                'val_accuracy':test(model,X_test,y_test)[0]/test(model,X_test,y_test)[1]\n",
    "            })\n",
    "            wandb.log({\n",
    "                'loss':loss.item(),\n",
    "                'accuracy':test(model,X_train,y_train)[0]/test(model,X_train,y_train)[1],\n",
    "                'val_accuracy':test(model,X_test,y_test)[0]/test(model,X_test,y_test)[1]\n",
    "            })"
   ]
  },
  {
   "cell_type": "code",
   "execution_count": null,
   "metadata": {},
   "outputs": [
    {
     "name": "stdout",
     "output_type": "stream",
     "text": [
      "64\n",
      "32\n",
      "128\n",
      "2\n",
      "1\n",
      "ELU(alpha=1.0)\n"
     ]
    },
    {
     "data": {
      "text/html": [
       "\n",
       "                Tracking run with wandb version 0.10.30<br/>\n",
       "                Syncing run <strong style=\"color:#cdcd00\">activation-ELU(alpha=1.0)</strong> to <a href=\"https://wandb.ai\" target=\"_blank\">Weights & Biases</a> <a href=\"https://docs.wandb.com/integrations/jupyter.html\" target=\"_blank\">(Documentation)</a>.<br/>\n",
       "                Project page: <a href=\"https://wandb.ai/ranuga-d/Mask-or-Not\" target=\"_blank\">https://wandb.ai/ranuga-d/Mask-or-Not</a><br/>\n",
       "                Run page: <a href=\"https://wandb.ai/ranuga-d/Mask-or-Not/runs/t51dt0eo\" target=\"_blank\">https://wandb.ai/ranuga-d/Mask-or-Not/runs/t51dt0eo</a><br/>\n",
       "                Run data is saved locally in <code>/home/indika/Programming/Projects/Python/Artifical-Intelligence/PyTorch/CNN/Face-Mask-Detection-V1-PT/wandb/run-20210516_142659-t51dt0eo</code><br/><br/>\n",
       "            "
      ],
      "text/plain": [
       "<IPython.core.display.HTML object>"
      ]
     },
     "metadata": {},
     "output_type": "display_data"
    },
    {
     "name": "stderr",
     "output_type": "stream",
     "text": [
      "  0%|          | 0/3 [00:00<?, ?it/s]\n",
      "  0%|          | 0/4 [00:00<?, ?it/s]\u001b[A"
     ]
    },
    {
     "name": "stdout",
     "output_type": "stream",
     "text": [
      "{'loss': 0.2496456354856491, 'accuracy': 0.48344370860927155, 'val_accuracy': 0.5298804780876494}\n"
     ]
    },
    {
     "name": "stderr",
     "output_type": "stream",
     "text": [
      "\n",
      " 25%|██▌       | 1/4 [02:02<06:06, 122.21s/it]\u001b[A"
     ]
    },
    {
     "name": "stdout",
     "output_type": "stream",
     "text": [
      "{'loss': 0.4989219009876251, 'accuracy': 0.5072847682119205, 'val_accuracy': 0.47808764940239046}\n"
     ]
    },
    {
     "name": "stderr",
     "output_type": "stream",
     "text": [
      "\n",
      " 50%|█████     | 2/4 [04:02<04:01, 120.85s/it]\u001b[A"
     ]
    },
    {
     "name": "stdout",
     "output_type": "stream",
     "text": [
      "{'loss': 0.45600003004074097, 'accuracy': 0.5033112582781457, 'val_accuracy': 0.47808764940239046}\n"
     ]
    },
    {
     "name": "stderr",
     "output_type": "stream",
     "text": [
      "\n",
      " 75%|███████▌  | 3/4 [05:50<01:55, 115.27s/it]\u001b[A"
     ]
    },
    {
     "name": "stdout",
     "output_type": "stream",
     "text": [
      "{'loss': 0.0, 'accuracy': 0.4821192052980132, 'val_accuracy': 0.46215139442231074}\n"
     ]
    },
    {
     "name": "stderr",
     "output_type": "stream",
     "text": [
      "\n",
      "100%|██████████| 4/4 [07:37<00:00, 114.28s/it]\n",
      " 33%|███▎      | 1/3 [07:37<15:14, 457.14s/it]\n",
      "  0%|          | 0/4 [00:00<?, ?it/s]\u001b[A"
     ]
    },
    {
     "name": "stdout",
     "output_type": "stream",
     "text": [
      "{'loss': 0.5400000214576721, 'accuracy': 0.47019867549668876, 'val_accuracy': 0.4342629482071713}\n"
     ]
    },
    {
     "name": "stderr",
     "output_type": "stream",
     "text": [
      "\n",
      " 25%|██▌       | 1/4 [01:45<05:15, 105.05s/it]\u001b[A"
     ]
    },
    {
     "name": "stdout",
     "output_type": "stream",
     "text": [
      "{'loss': 0.5360000133514404, 'accuracy': 0.4503311258278146, 'val_accuracy': 0.41832669322709165}\n"
     ]
    },
    {
     "name": "stderr",
     "output_type": "stream",
     "text": [
      "\n",
      " 50%|█████     | 2/4 [03:29<03:29, 104.62s/it]\u001b[A"
     ]
    },
    {
     "name": "stdout",
     "output_type": "stream",
     "text": [
      "{'loss': 0.5360000133514404, 'accuracy': 0.43973509933774835, 'val_accuracy': 0.42231075697211157}\n"
     ]
    },
    {
     "name": "stderr",
     "output_type": "stream",
     "text": [
      "\n",
      " 75%|███████▌  | 3/4 [05:14<01:44, 104.88s/it]\u001b[A"
     ]
    },
    {
     "name": "stdout",
     "output_type": "stream",
     "text": [
      "{'loss': 0.4000000059604645, 'accuracy': 0.43973509933774835, 'val_accuracy': 0.4302788844621514}\n"
     ]
    },
    {
     "name": "stderr",
     "output_type": "stream",
     "text": [
      "\n",
      "100%|██████████| 4/4 [06:56<00:00, 104.11s/it]\n",
      " 67%|██████▋   | 2/3 [14:33<07:13, 433.20s/it]\n",
      "  0%|          | 0/4 [00:00<?, ?it/s]\u001b[A"
     ]
    },
    {
     "name": "stdout",
     "output_type": "stream",
     "text": [
      "{'loss': 0.5760000348091125, 'accuracy': 0.44900662251655626, 'val_accuracy': 0.47410358565737054}\n"
     ]
    },
    {
     "name": "stderr",
     "output_type": "stream",
     "text": [
      "\n",
      " 25%|██▌       | 1/4 [01:42<05:08, 102.99s/it]\u001b[A"
     ]
    },
    {
     "name": "stdout",
     "output_type": "stream",
     "text": [
      "{'loss': 0.5440000295639038, 'accuracy': 0.4596026490066225, 'val_accuracy': 0.4820717131474104}\n"
     ]
    },
    {
     "name": "stderr",
     "output_type": "stream",
     "text": [
      "\n",
      " 50%|█████     | 2/4 [03:24<03:24, 102.12s/it]\u001b[A"
     ]
    },
    {
     "name": "stdout",
     "output_type": "stream",
     "text": [
      "{'loss': 0.5520000457763672, 'accuracy': 0.4675496688741722, 'val_accuracy': 0.4860557768924303}\n"
     ]
    },
    {
     "name": "stderr",
     "output_type": "stream",
     "text": [
      "\n",
      " 75%|███████▌  | 3/4 [05:07<01:42, 102.71s/it]\u001b[A"
     ]
    },
    {
     "name": "stdout",
     "output_type": "stream",
     "text": [
      "{'loss': 0.6000000238418579, 'accuracy': 0.4768211920529801, 'val_accuracy': 0.4860557768924303}\n"
     ]
    },
    {
     "name": "stderr",
     "output_type": "stream",
     "text": [
      "\n",
      "100%|██████████| 4/4 [06:50<00:00, 102.65s/it]\n",
      "100%|██████████| 3/3 [21:24<00:00, 428.07s/it]"
     ]
    },
    {
     "name": "stdout",
     "output_type": "stream",
     "text": [
      "64\n",
      "32\n",
      "128\n",
      "2\n",
      "1\n",
      "LeakyReLU(negative_slope=0.01)\n"
     ]
    },
    {
     "name": "stderr",
     "output_type": "stream",
     "text": [
      "\n"
     ]
    },
    {
     "data": {
      "text/html": [
       "Finishing last run (ID:t51dt0eo) before initializing another..."
      ],
      "text/plain": [
       "<IPython.core.display.HTML object>"
      ]
     },
     "metadata": {},
     "output_type": "display_data"
    },
    {
     "data": {
      "text/html": [
       "<br/>Waiting for W&B process to finish, PID 284801<br/>Program ended successfully."
      ],
      "text/plain": [
       "<IPython.core.display.HTML object>"
      ]
     },
     "metadata": {},
     "output_type": "display_data"
    },
    {
     "data": {
      "application/vnd.jupyter.widget-view+json": {
       "model_id": "c04985728bf9462387c0a122cef1f216",
       "version_major": 2,
       "version_minor": 0
      },
      "text/plain": [
       "VBox(children=(Label(value=' 0.06MB of 0.06MB uploaded (0.00MB deduped)\\r'), FloatProgress(value=1.0, max=1.0)…"
      ]
     },
     "metadata": {},
     "output_type": "display_data"
    },
    {
     "data": {
      "text/html": [
       "Find user logs for this run at: <code>/home/indika/Programming/Projects/Python/Artifical-Intelligence/PyTorch/CNN/Face-Mask-Detection-V1-PT/wandb/run-20210516_142659-t51dt0eo/logs/debug.log</code>"
      ],
      "text/plain": [
       "<IPython.core.display.HTML object>"
      ]
     },
     "metadata": {},
     "output_type": "display_data"
    },
    {
     "data": {
      "text/html": [
       "Find internal logs for this run at: <code>/home/indika/Programming/Projects/Python/Artifical-Intelligence/PyTorch/CNN/Face-Mask-Detection-V1-PT/wandb/run-20210516_142659-t51dt0eo/logs/debug-internal.log</code>"
      ],
      "text/plain": [
       "<IPython.core.display.HTML object>"
      ]
     },
     "metadata": {},
     "output_type": "display_data"
    },
    {
     "data": {
      "text/html": [
       "<h3>Run summary:</h3><br/><style>\n",
       "    table.wandb td:nth-child(1) { padding: 0 10px; text-align: right }\n",
       "    </style><table class=\"wandb\">\n",
       "<tr><td>loss</td><td>0.6</td></tr><tr><td>accuracy</td><td>0.47682</td></tr><tr><td>val_accuracy</td><td>0.48606</td></tr><tr><td>_runtime</td><td>1291</td></tr><tr><td>_timestamp</td><td>1621156710</td></tr><tr><td>_step</td><td>11</td></tr></table>"
      ],
      "text/plain": [
       "<IPython.core.display.HTML object>"
      ]
     },
     "metadata": {},
     "output_type": "display_data"
    },
    {
     "data": {
      "text/html": [
       "<h3>Run history:</h3><br/><style>\n",
       "    table.wandb td:nth-child(1) { padding: 0 10px; text-align: right }\n",
       "    </style><table class=\"wandb\">\n",
       "<tr><td>loss</td><td>▄▇▆▁▇▇▇▆█▇▇█</td></tr><tr><td>accuracy</td><td>▆██▅▄▂▁▁▂▃▄▅</td></tr><tr><td>val_accuracy</td><td>█▅▅▄▂▁▁▂▅▅▅▅</td></tr><tr><td>_runtime</td><td>▁▂▂▃▄▄▅▆▆▇▇█</td></tr><tr><td>_timestamp</td><td>▁▂▂▃▄▄▅▆▆▇▇█</td></tr><tr><td>_step</td><td>▁▂▂▃▄▄▅▅▆▇▇█</td></tr></table><br/>"
      ],
      "text/plain": [
       "<IPython.core.display.HTML object>"
      ]
     },
     "metadata": {},
     "output_type": "display_data"
    },
    {
     "data": {
      "text/html": [
       "Synced 6 W&B file(s), 0 media file(s), 2 artifact file(s) and 1 other file(s)"
      ],
      "text/plain": [
       "<IPython.core.display.HTML object>"
      ]
     },
     "metadata": {},
     "output_type": "display_data"
    },
    {
     "data": {
      "text/html": [
       "\n",
       "                    <br/>Synced <strong style=\"color:#cdcd00\">activation-ELU(alpha=1.0)</strong>: <a href=\"https://wandb.ai/ranuga-d/Mask-or-Not/runs/t51dt0eo\" target=\"_blank\">https://wandb.ai/ranuga-d/Mask-or-Not/runs/t51dt0eo</a><br/>\n",
       "                "
      ],
      "text/plain": [
       "<IPython.core.display.HTML object>"
      ]
     },
     "metadata": {},
     "output_type": "display_data"
    },
    {
     "data": {
      "text/html": [
       "...Successfully finished last run (ID:t51dt0eo). Initializing new run:<br/><br/>"
      ],
      "text/plain": [
       "<IPython.core.display.HTML object>"
      ]
     },
     "metadata": {},
     "output_type": "display_data"
    },
    {
     "data": {
      "text/html": [
       "\n",
       "                Tracking run with wandb version 0.10.30<br/>\n",
       "                Syncing run <strong style=\"color:#cdcd00\">activation-LeakyReLU(negative_slope=0.01)</strong> to <a href=\"https://wandb.ai\" target=\"_blank\">Weights & Biases</a> <a href=\"https://docs.wandb.com/integrations/jupyter.html\" target=\"_blank\">(Documentation)</a>.<br/>\n",
       "                Project page: <a href=\"https://wandb.ai/ranuga-d/Mask-or-Not\" target=\"_blank\">https://wandb.ai/ranuga-d/Mask-or-Not</a><br/>\n",
       "                Run page: <a href=\"https://wandb.ai/ranuga-d/Mask-or-Not/runs/10fkclxd\" target=\"_blank\">https://wandb.ai/ranuga-d/Mask-or-Not/runs/10fkclxd</a><br/>\n",
       "                Run data is saved locally in <code>/home/indika/Programming/Projects/Python/Artifical-Intelligence/PyTorch/CNN/Face-Mask-Detection-V1-PT/wandb/run-20210516_144830-10fkclxd</code><br/><br/>\n",
       "            "
      ],
      "text/plain": [
       "<IPython.core.display.HTML object>"
      ]
     },
     "metadata": {},
     "output_type": "display_data"
    },
    {
     "name": "stderr",
     "output_type": "stream",
     "text": [
      "  0%|          | 0/3 [00:00<?, ?it/s]\n",
      "  0%|          | 0/4 [00:00<?, ?it/s]\u001b[A"
     ]
    },
    {
     "name": "stdout",
     "output_type": "stream",
     "text": [
      "{'loss': 0.2506147623062134, 'accuracy': 0.5033112582781457, 'val_accuracy': 0.47808764940239046}\n"
     ]
    },
    {
     "name": "stderr",
     "output_type": "stream",
     "text": [
      "\n",
      " 25%|██▌       | 1/4 [01:54<05:44, 114.77s/it]\u001b[A"
     ]
    },
    {
     "name": "stdout",
     "output_type": "stream",
     "text": [
      "{'loss': 0.4960000216960907, 'accuracy': 0.5602649006622517, 'val_accuracy': 0.5298804780876494}\n"
     ]
    },
    {
     "name": "stderr",
     "output_type": "stream",
     "text": [
      "\n",
      " 50%|█████     | 2/4 [03:47<03:46, 113.44s/it]\u001b[A"
     ]
    },
    {
     "name": "stdout",
     "output_type": "stream",
     "text": [
      "{'loss': 0.42000001668930054, 'accuracy': 0.56158940397351, 'val_accuracy': 0.5298804780876494}\n"
     ]
    },
    {
     "name": "stderr",
     "output_type": "stream",
     "text": [
      "\n",
      " 75%|███████▌  | 3/4 [05:37<01:52, 112.06s/it]\u001b[A"
     ]
    },
    {
     "name": "stdout",
     "output_type": "stream",
     "text": [
      "{'loss': 0.4000000059604645, 'accuracy': 0.5562913907284768, 'val_accuracy': 0.5219123505976095}\n"
     ]
    },
    {
     "name": "stderr",
     "output_type": "stream",
     "text": [
      "\n",
      "100%|██████████| 4/4 [07:24<00:00, 111.22s/it]\n",
      " 33%|███▎      | 1/3 [07:24<14:49, 444.89s/it]\n",
      "  0%|          | 0/4 [00:00<?, ?it/s]\u001b[A"
     ]
    },
    {
     "name": "stdout",
     "output_type": "stream",
     "text": [
      "{'loss': 0.46400001645088196, 'accuracy': 0.5536423841059602, 'val_accuracy': 0.5099601593625498}\n"
     ]
    },
    {
     "name": "stderr",
     "output_type": "stream",
     "text": [
      "\n",
      " 25%|██▌       | 1/4 [01:47<05:23, 107.77s/it]\u001b[A"
     ]
    },
    {
     "name": "stdout",
     "output_type": "stream",
     "text": [
      "{'loss': 0.4520000219345093, 'accuracy': 0.5403973509933775, 'val_accuracy': 0.50199203187251}\n"
     ]
    },
    {
     "name": "stderr",
     "output_type": "stream",
     "text": [
      "\n",
      " 50%|█████     | 2/4 [03:36<03:37, 108.59s/it]\u001b[A"
     ]
    },
    {
     "name": "stdout",
     "output_type": "stream",
     "text": [
      "{'loss': 0.4320000112056732, 'accuracy': 0.5337748344370861, 'val_accuracy': 0.4860557768924303}\n"
     ]
    },
    {
     "name": "stderr",
     "output_type": "stream",
     "text": [
      "\n",
      " 75%|███████▌  | 3/4 [05:26<01:48, 108.88s/it]\u001b[A"
     ]
    },
    {
     "name": "stdout",
     "output_type": "stream",
     "text": [
      "{'loss': 0.4000000059604645, 'accuracy': 0.5350993377483444, 'val_accuracy': 0.5139442231075697}\n"
     ]
    },
    {
     "name": "stderr",
     "output_type": "stream",
     "text": [
      "\n",
      "100%|██████████| 4/4 [07:15<00:00, 108.76s/it]\n",
      " 67%|██████▋   | 2/3 [14:39<07:19, 439.10s/it]\n",
      "  0%|          | 0/4 [00:00<?, ?it/s]\u001b[A"
     ]
    },
    {
     "name": "stdout",
     "output_type": "stream",
     "text": [
      "{'loss': 0.47200003266334534, 'accuracy': 0.5231788079470199, 'val_accuracy': 0.5179282868525896}\n"
     ]
    },
    {
     "name": "stderr",
     "output_type": "stream",
     "text": [
      "\n",
      " 25%|██▌       | 1/4 [01:46<05:18, 106.19s/it]\u001b[A"
     ]
    },
    {
     "name": "stdout",
     "output_type": "stream",
     "text": [
      "{'loss': 0.47200003266334534, 'accuracy': 0.528476821192053, 'val_accuracy': 0.5139442231075697}\n"
     ]
    },
    {
     "name": "stderr",
     "output_type": "stream",
     "text": [
      "\n",
      " 50%|█████     | 2/4 [03:35<03:36, 108.03s/it]\u001b[A"
     ]
    },
    {
     "name": "stdout",
     "output_type": "stream",
     "text": [
      "{'loss': 0.4520000219345093, 'accuracy': 0.5231788079470199, 'val_accuracy': 0.5258964143426295}\n"
     ]
    },
    {
     "name": "stderr",
     "output_type": "stream",
     "text": [
      "\n",
      " 75%|███████▌  | 3/4 [05:22<01:47, 107.75s/it]\u001b[A"
     ]
    },
    {
     "name": "stdout",
     "output_type": "stream",
     "text": [
      "{'loss': 0.4000000059604645, 'accuracy': 0.5231788079470199, 'val_accuracy': 0.4900398406374502}\n"
     ]
    },
    {
     "name": "stderr",
     "output_type": "stream",
     "text": [
      "\n",
      "100%|██████████| 4/4 [07:11<00:00, 107.87s/it]\n",
      "100%|██████████| 3/3 [21:51<00:00, 437.14s/it]"
     ]
    },
    {
     "name": "stdout",
     "output_type": "stream",
     "text": [
      "64\n",
      "32\n",
      "128\n",
      "2\n",
      "1\n",
      "PReLU(num_parameters=1)\n"
     ]
    },
    {
     "name": "stderr",
     "output_type": "stream",
     "text": [
      "\n"
     ]
    },
    {
     "data": {
      "text/html": [
       "Finishing last run (ID:10fkclxd) before initializing another..."
      ],
      "text/plain": [
       "<IPython.core.display.HTML object>"
      ]
     },
     "metadata": {},
     "output_type": "display_data"
    },
    {
     "data": {
      "text/html": [
       "<br/>Waiting for W&B process to finish, PID 298639<br/>Program ended successfully."
      ],
      "text/plain": [
       "<IPython.core.display.HTML object>"
      ]
     },
     "metadata": {},
     "output_type": "display_data"
    },
    {
     "data": {
      "application/vnd.jupyter.widget-view+json": {
       "model_id": "bedab0afca644d4eb4297352c2f9f0b9",
       "version_major": 2,
       "version_minor": 0
      },
      "text/plain": [
       "VBox(children=(Label(value=' 0.00MB of 0.00MB uploaded (0.00MB deduped)\\r'), FloatProgress(value=1.0, max=1.0)…"
      ]
     },
     "metadata": {},
     "output_type": "display_data"
    },
    {
     "data": {
      "text/html": [
       "Find user logs for this run at: <code>/home/indika/Programming/Projects/Python/Artifical-Intelligence/PyTorch/CNN/Face-Mask-Detection-V1-PT/wandb/run-20210516_144830-10fkclxd/logs/debug.log</code>"
      ],
      "text/plain": [
       "<IPython.core.display.HTML object>"
      ]
     },
     "metadata": {},
     "output_type": "display_data"
    },
    {
     "data": {
      "text/html": [
       "Find internal logs for this run at: <code>/home/indika/Programming/Projects/Python/Artifical-Intelligence/PyTorch/CNN/Face-Mask-Detection-V1-PT/wandb/run-20210516_144830-10fkclxd/logs/debug-internal.log</code>"
      ],
      "text/plain": [
       "<IPython.core.display.HTML object>"
      ]
     },
     "metadata": {},
     "output_type": "display_data"
    },
    {
     "data": {
      "text/html": [
       "<h3>Run summary:</h3><br/><style>\n",
       "    table.wandb td:nth-child(1) { padding: 0 10px; text-align: right }\n",
       "    </style><table class=\"wandb\">\n",
       "<tr><td>loss</td><td>0.4</td></tr><tr><td>accuracy</td><td>0.52318</td></tr><tr><td>val_accuracy</td><td>0.49004</td></tr><tr><td>_runtime</td><td>1318</td></tr><tr><td>_timestamp</td><td>1621158041</td></tr><tr><td>_step</td><td>11</td></tr></table>"
      ],
      "text/plain": [
       "<IPython.core.display.HTML object>"
      ]
     },
     "metadata": {},
     "output_type": "display_data"
    },
    {
     "data": {
      "text/html": [
       "<h3>Run history:</h3><br/><style>\n",
       "    table.wandb td:nth-child(1) { padding: 0 10px; text-align: right }\n",
       "    </style><table class=\"wandb\">\n",
       "<tr><td>loss</td><td>▁█▆▅▇▇▆▅▇▇▇▅</td></tr><tr><td>accuracy</td><td>▁██▇▇▅▅▅▃▄▃▃</td></tr><tr><td>val_accuracy</td><td>▁██▇▅▄▂▆▆▆▇▃</td></tr><tr><td>_runtime</td><td>▁▂▂▃▄▄▅▅▆▇▇█</td></tr><tr><td>_timestamp</td><td>▁▂▂▃▄▄▅▅▆▇▇█</td></tr><tr><td>_step</td><td>▁▂▂▃▄▄▅▅▆▇▇█</td></tr></table><br/>"
      ],
      "text/plain": [
       "<IPython.core.display.HTML object>"
      ]
     },
     "metadata": {},
     "output_type": "display_data"
    },
    {
     "data": {
      "text/html": [
       "Synced 6 W&B file(s), 0 media file(s), 0 artifact file(s) and 0 other file(s)"
      ],
      "text/plain": [
       "<IPython.core.display.HTML object>"
      ]
     },
     "metadata": {},
     "output_type": "display_data"
    },
    {
     "data": {
      "text/html": [
       "\n",
       "                    <br/>Synced <strong style=\"color:#cdcd00\">activation-LeakyReLU(negative_slope=0.01)</strong>: <a href=\"https://wandb.ai/ranuga-d/Mask-or-Not/runs/10fkclxd\" target=\"_blank\">https://wandb.ai/ranuga-d/Mask-or-Not/runs/10fkclxd</a><br/>\n",
       "                "
      ],
      "text/plain": [
       "<IPython.core.display.HTML object>"
      ]
     },
     "metadata": {},
     "output_type": "display_data"
    },
    {
     "data": {
      "text/html": [
       "...Successfully finished last run (ID:10fkclxd). Initializing new run:<br/><br/>"
      ],
      "text/plain": [
       "<IPython.core.display.HTML object>"
      ]
     },
     "metadata": {},
     "output_type": "display_data"
    },
    {
     "data": {
      "text/html": [
       "\n",
       "                Tracking run with wandb version 0.10.30<br/>\n",
       "                Syncing run <strong style=\"color:#cdcd00\">activation-PReLU(num_parameters=1)</strong> to <a href=\"https://wandb.ai\" target=\"_blank\">Weights & Biases</a> <a href=\"https://docs.wandb.com/integrations/jupyter.html\" target=\"_blank\">(Documentation)</a>.<br/>\n",
       "                Project page: <a href=\"https://wandb.ai/ranuga-d/Mask-or-Not\" target=\"_blank\">https://wandb.ai/ranuga-d/Mask-or-Not</a><br/>\n",
       "                Run page: <a href=\"https://wandb.ai/ranuga-d/Mask-or-Not/runs/134a58rl\" target=\"_blank\">https://wandb.ai/ranuga-d/Mask-or-Not/runs/134a58rl</a><br/>\n",
       "                Run data is saved locally in <code>/home/indika/Programming/Projects/Python/Artifical-Intelligence/PyTorch/CNN/Face-Mask-Detection-V1-PT/wandb/run-20210516_151041-134a58rl</code><br/><br/>\n",
       "            "
      ],
      "text/plain": [
       "<IPython.core.display.HTML object>"
      ]
     },
     "metadata": {},
     "output_type": "display_data"
    },
    {
     "name": "stderr",
     "output_type": "stream",
     "text": [
      "  0%|          | 0/3 [00:00<?, ?it/s]\n",
      "  0%|          | 0/4 [00:00<?, ?it/s]\u001b[A"
     ]
    },
    {
     "name": "stdout",
     "output_type": "stream",
     "text": [
      "{'loss': 0.25036633014678955, 'accuracy': 0.49271523178807947, 'val_accuracy': 0.5219123505976095}\n"
     ]
    },
    {
     "name": "stderr",
     "output_type": "stream",
     "text": [
      "\n",
      " 25%|██▌       | 1/4 [01:53<05:41, 113.78s/it]\u001b[A"
     ]
    },
    {
     "name": "stdout",
     "output_type": "stream",
     "text": [
      "{'loss': 0.492000013589859, 'accuracy': 0.49271523178807947, 'val_accuracy': 0.5219123505976095}\n"
     ]
    },
    {
     "name": "stderr",
     "output_type": "stream",
     "text": [
      "\n",
      " 50%|█████     | 2/4 [03:45<03:45, 112.56s/it]\u001b[A"
     ]
    },
    {
     "name": "stdout",
     "output_type": "stream",
     "text": [
      "{'loss': 0.5440000295639038, 'accuracy': 0.49271523178807947, 'val_accuracy': 0.5219123505976095}\n"
     ]
    },
    {
     "name": "stderr",
     "output_type": "stream",
     "text": [
      "\n",
      " 75%|███████▌  | 3/4 [05:35<01:51, 111.40s/it]\u001b[A"
     ]
    },
    {
     "name": "stdout",
     "output_type": "stream",
     "text": [
      "{'loss': 1.0, 'accuracy': 0.49271523178807947, 'val_accuracy': 0.5219123505976095}\n"
     ]
    },
    {
     "name": "stderr",
     "output_type": "stream",
     "text": [
      "\n",
      "100%|██████████| 4/4 [07:24<00:00, 111.05s/it]\n",
      " 33%|███▎      | 1/3 [07:24<14:48, 444.22s/it]\n",
      "  0%|          | 0/4 [00:00<?, ?it/s]\u001b[A"
     ]
    },
    {
     "name": "stdout",
     "output_type": "stream",
     "text": [
      "{'loss': 0.47600001096725464, 'accuracy': 0.49271523178807947, 'val_accuracy': 0.5219123505976095}\n"
     ]
    },
    {
     "name": "stderr",
     "output_type": "stream",
     "text": [
      "\n",
      " 25%|██▌       | 1/4 [01:49<05:27, 109.10s/it]\u001b[A"
     ]
    },
    {
     "name": "stdout",
     "output_type": "stream",
     "text": [
      "{'loss': 0.492000013589859, 'accuracy': 0.49271523178807947, 'val_accuracy': 0.5219123505976095}\n"
     ]
    },
    {
     "name": "stderr",
     "output_type": "stream",
     "text": [
      "\n",
      " 50%|█████     | 2/4 [03:37<03:37, 108.94s/it]\u001b[A"
     ]
    },
    {
     "name": "stdout",
     "output_type": "stream",
     "text": [
      "{'loss': 0.5440000295639038, 'accuracy': 0.49271523178807947, 'val_accuracy': 0.5219123505976095}\n"
     ]
    },
    {
     "name": "stderr",
     "output_type": "stream",
     "text": [
      "\n",
      " 75%|███████▌  | 3/4 [05:26<01:48, 108.89s/it]\u001b[A"
     ]
    },
    {
     "name": "stdout",
     "output_type": "stream",
     "text": [
      "{'loss': 1.0, 'accuracy': 0.49271523178807947, 'val_accuracy': 0.5219123505976095}\n"
     ]
    },
    {
     "name": "stderr",
     "output_type": "stream",
     "text": [
      "\n",
      "100%|██████████| 4/4 [07:15<00:00, 108.84s/it]\n",
      " 67%|██████▋   | 2/3 [14:39<07:19, 439.01s/it]\n",
      "  0%|          | 0/4 [00:00<?, ?it/s]\u001b[A"
     ]
    },
    {
     "name": "stdout",
     "output_type": "stream",
     "text": [
      "{'loss': 0.47600001096725464, 'accuracy': 0.49271523178807947, 'val_accuracy': 0.5219123505976095}\n"
     ]
    },
    {
     "name": "stderr",
     "output_type": "stream",
     "text": [
      "\n",
      " 25%|██▌       | 1/4 [01:49<05:27, 109.14s/it]\u001b[A"
     ]
    },
    {
     "name": "stdout",
     "output_type": "stream",
     "text": [
      "{'loss': 0.492000013589859, 'accuracy': 0.49403973509933774, 'val_accuracy': 0.5219123505976095}\n"
     ]
    },
    {
     "name": "stderr",
     "output_type": "stream",
     "text": [
      "\n",
      " 50%|█████     | 2/4 [03:37<03:37, 108.64s/it]\u001b[A"
     ]
    },
    {
     "name": "stdout",
     "output_type": "stream",
     "text": [
      "{'loss': 0.5440000295639038, 'accuracy': 0.5006622516556292, 'val_accuracy': 0.5219123505976095}\n"
     ]
    },
    {
     "name": "stderr",
     "output_type": "stream",
     "text": [
      "\n",
      " 75%|███████▌  | 3/4 [05:26<01:48, 108.90s/it]\u001b[A"
     ]
    },
    {
     "name": "stdout",
     "output_type": "stream",
     "text": [
      "{'loss': 1.0, 'accuracy': 0.5112582781456954, 'val_accuracy': 0.5219123505976095}\n"
     ]
    },
    {
     "name": "stderr",
     "output_type": "stream",
     "text": [
      "\n",
      "100%|██████████| 4/4 [07:13<00:00, 108.43s/it]\n",
      "100%|██████████| 3/3 [21:53<00:00, 437.77s/it]"
     ]
    },
    {
     "name": "stdout",
     "output_type": "stream",
     "text": [
      "64\n",
      "32\n",
      "128\n",
      "2\n",
      "1\n",
      "ReLU()\n"
     ]
    },
    {
     "name": "stderr",
     "output_type": "stream",
     "text": [
      "\n"
     ]
    },
    {
     "data": {
      "text/html": [
       "Finishing last run (ID:134a58rl) before initializing another..."
      ],
      "text/plain": [
       "<IPython.core.display.HTML object>"
      ]
     },
     "metadata": {},
     "output_type": "display_data"
    },
    {
     "data": {
      "text/html": [
       "<br/>Waiting for W&B process to finish, PID 312254<br/>Program ended successfully."
      ],
      "text/plain": [
       "<IPython.core.display.HTML object>"
      ]
     },
     "metadata": {},
     "output_type": "display_data"
    },
    {
     "data": {
      "application/vnd.jupyter.widget-view+json": {
       "model_id": "01d672a5710c41b8b4ca93811bd5001f",
       "version_major": 2,
       "version_minor": 0
      },
      "text/plain": [
       "VBox(children=(Label(value=' 0.09MB of 0.09MB uploaded (0.00MB deduped)\\r'), FloatProgress(value=1.0, max=1.0)…"
      ]
     },
     "metadata": {},
     "output_type": "display_data"
    },
    {
     "data": {
      "text/html": [
       "Find user logs for this run at: <code>/home/indika/Programming/Projects/Python/Artifical-Intelligence/PyTorch/CNN/Face-Mask-Detection-V1-PT/wandb/run-20210516_151041-134a58rl/logs/debug.log</code>"
      ],
      "text/plain": [
       "<IPython.core.display.HTML object>"
      ]
     },
     "metadata": {},
     "output_type": "display_data"
    },
    {
     "data": {
      "text/html": [
       "Find internal logs for this run at: <code>/home/indika/Programming/Projects/Python/Artifical-Intelligence/PyTorch/CNN/Face-Mask-Detection-V1-PT/wandb/run-20210516_151041-134a58rl/logs/debug-internal.log</code>"
      ],
      "text/plain": [
       "<IPython.core.display.HTML object>"
      ]
     },
     "metadata": {},
     "output_type": "display_data"
    },
    {
     "data": {
      "text/html": [
       "<h3>Run summary:</h3><br/><style>\n",
       "    table.wandb td:nth-child(1) { padding: 0 10px; text-align: right }\n",
       "    </style><table class=\"wandb\">\n",
       "<tr><td>loss</td><td>1.0</td></tr><tr><td>accuracy</td><td>0.51126</td></tr><tr><td>val_accuracy</td><td>0.52191</td></tr><tr><td>_runtime</td><td>1320</td></tr><tr><td>_timestamp</td><td>1621159366</td></tr><tr><td>_step</td><td>11</td></tr></table>"
      ],
      "text/plain": [
       "<IPython.core.display.HTML object>"
      ]
     },
     "metadata": {},
     "output_type": "display_data"
    },
    {
     "data": {
      "text/html": [
       "<h3>Run history:</h3><br/><style>\n",
       "    table.wandb td:nth-child(1) { padding: 0 10px; text-align: right }\n",
       "    </style><table class=\"wandb\">\n",
       "<tr><td>loss</td><td>▁▃▄█▃▃▄█▃▃▄█</td></tr><tr><td>accuracy</td><td>▁▁▁▁▁▁▁▁▁▁▄█</td></tr><tr><td>val_accuracy</td><td>▁▁▁▁▁▁▁▁▁▁▁▁</td></tr><tr><td>_runtime</td><td>▁▂▂▃▄▄▅▅▆▇▇█</td></tr><tr><td>_timestamp</td><td>▁▂▂▃▄▄▅▅▆▇▇█</td></tr><tr><td>_step</td><td>▁▂▂▃▄▄▅▅▆▇▇█</td></tr></table><br/>"
      ],
      "text/plain": [
       "<IPython.core.display.HTML object>"
      ]
     },
     "metadata": {},
     "output_type": "display_data"
    },
    {
     "data": {
      "text/html": [
       "Synced 6 W&B file(s), 0 media file(s), 2 artifact file(s) and 1 other file(s)"
      ],
      "text/plain": [
       "<IPython.core.display.HTML object>"
      ]
     },
     "metadata": {},
     "output_type": "display_data"
    },
    {
     "data": {
      "text/html": [
       "\n",
       "                    <br/>Synced <strong style=\"color:#cdcd00\">activation-PReLU(num_parameters=1)</strong>: <a href=\"https://wandb.ai/ranuga-d/Mask-or-Not/runs/134a58rl\" target=\"_blank\">https://wandb.ai/ranuga-d/Mask-or-Not/runs/134a58rl</a><br/>\n",
       "                "
      ],
      "text/plain": [
       "<IPython.core.display.HTML object>"
      ]
     },
     "metadata": {},
     "output_type": "display_data"
    },
    {
     "data": {
      "text/html": [
       "...Successfully finished last run (ID:134a58rl). Initializing new run:<br/><br/>"
      ],
      "text/plain": [
       "<IPython.core.display.HTML object>"
      ]
     },
     "metadata": {},
     "output_type": "display_data"
    },
    {
     "data": {
      "text/html": [
       "\n",
       "                Tracking run with wandb version 0.10.30<br/>\n",
       "                Syncing run <strong style=\"color:#cdcd00\">activation-ReLU()</strong> to <a href=\"https://wandb.ai\" target=\"_blank\">Weights & Biases</a> <a href=\"https://docs.wandb.com/integrations/jupyter.html\" target=\"_blank\">(Documentation)</a>.<br/>\n",
       "                Project page: <a href=\"https://wandb.ai/ranuga-d/Mask-or-Not\" target=\"_blank\">https://wandb.ai/ranuga-d/Mask-or-Not</a><br/>\n",
       "                Run page: <a href=\"https://wandb.ai/ranuga-d/Mask-or-Not/runs/2kyfewzb\" target=\"_blank\">https://wandb.ai/ranuga-d/Mask-or-Not/runs/2kyfewzb</a><br/>\n",
       "                Run data is saved locally in <code>/home/indika/Programming/Projects/Python/Artifical-Intelligence/PyTorch/CNN/Face-Mask-Detection-V1-PT/wandb/run-20210516_153246-2kyfewzb</code><br/><br/>\n",
       "            "
      ],
      "text/plain": [
       "<IPython.core.display.HTML object>"
      ]
     },
     "metadata": {},
     "output_type": "display_data"
    },
    {
     "name": "stderr",
     "output_type": "stream",
     "text": [
      "  0%|          | 0/3 [00:00<?, ?it/s]\n",
      "  0%|          | 0/4 [00:00<?, ?it/s]\u001b[A"
     ]
    },
    {
     "name": "stdout",
     "output_type": "stream",
     "text": [
      "{'loss': 0.2521592378616333, 'accuracy': 0.49271523178807947, 'val_accuracy': 0.5219123505976095}\n"
     ]
    },
    {
     "name": "stderr",
     "output_type": "stream",
     "text": [
      "\n",
      " 25%|██▌       | 1/4 [01:29<04:29, 89.95s/it]\u001b[A"
     ]
    },
    {
     "name": "stdout",
     "output_type": "stream",
     "text": [
      "{'loss': 0.492000013589859, 'accuracy': 0.49271523178807947, 'val_accuracy': 0.5219123505976095}\n"
     ]
    },
    {
     "name": "stderr",
     "output_type": "stream",
     "text": [
      "\n",
      " 50%|█████     | 2/4 [02:58<02:58, 89.19s/it]\u001b[A"
     ]
    },
    {
     "name": "stdout",
     "output_type": "stream",
     "text": [
      "{'loss': 0.5440000295639038, 'accuracy': 0.49271523178807947, 'val_accuracy': 0.5219123505976095}\n"
     ]
    },
    {
     "name": "stderr",
     "output_type": "stream",
     "text": [
      "\n",
      " 75%|███████▌  | 3/4 [04:26<01:28, 88.44s/it]\u001b[A"
     ]
    },
    {
     "name": "stdout",
     "output_type": "stream",
     "text": [
      "{'loss': 1.0, 'accuracy': 0.49271523178807947, 'val_accuracy': 0.5219123505976095}\n"
     ]
    },
    {
     "name": "stderr",
     "output_type": "stream",
     "text": [
      "\n",
      "100%|██████████| 4/4 [05:53<00:00, 88.30s/it]\n",
      " 33%|███▎      | 1/3 [05:53<11:46, 353.21s/it]\n",
      "  0%|          | 0/4 [00:00<?, ?it/s]\u001b[A"
     ]
    },
    {
     "name": "stdout",
     "output_type": "stream",
     "text": [
      "{'loss': 0.47600001096725464, 'accuracy': 0.49271523178807947, 'val_accuracy': 0.5219123505976095}\n"
     ]
    },
    {
     "name": "stderr",
     "output_type": "stream",
     "text": [
      "\n",
      " 25%|██▌       | 1/4 [01:27<04:22, 87.58s/it]\u001b[A"
     ]
    },
    {
     "name": "stdout",
     "output_type": "stream",
     "text": [
      "{'loss': 0.492000013589859, 'accuracy': 0.49271523178807947, 'val_accuracy': 0.5219123505976095}\n"
     ]
    },
    {
     "name": "stderr",
     "output_type": "stream",
     "text": [
      "\n",
      " 50%|█████     | 2/4 [02:54<02:54, 87.00s/it]\u001b[A"
     ]
    },
    {
     "name": "stdout",
     "output_type": "stream",
     "text": [
      "{'loss': 0.5440000295639038, 'accuracy': 0.49271523178807947, 'val_accuracy': 0.5219123505976095}\n"
     ]
    },
    {
     "name": "stderr",
     "output_type": "stream",
     "text": [
      "\n",
      " 75%|███████▌  | 3/4 [04:21<01:27, 87.13s/it]\u001b[A"
     ]
    },
    {
     "name": "stdout",
     "output_type": "stream",
     "text": [
      "{'loss': 1.0, 'accuracy': 0.49271523178807947, 'val_accuracy': 0.5219123505976095}\n"
     ]
    },
    {
     "name": "stderr",
     "output_type": "stream",
     "text": [
      "\n",
      "100%|██████████| 4/4 [05:48<00:00, 87.15s/it]\n",
      " 67%|██████▋   | 2/3 [11:41<05:50, 350.50s/it]\n",
      "  0%|          | 0/4 [00:00<?, ?it/s]\u001b[A"
     ]
    },
    {
     "name": "stdout",
     "output_type": "stream",
     "text": [
      "{'loss': 0.47600001096725464, 'accuracy': 0.49271523178807947, 'val_accuracy': 0.5219123505976095}\n"
     ]
    },
    {
     "name": "stderr",
     "output_type": "stream",
     "text": [
      "\n",
      " 25%|██▌       | 1/4 [01:27<04:22, 87.58s/it]\u001b[A"
     ]
    },
    {
     "name": "stdout",
     "output_type": "stream",
     "text": [
      "{'loss': 0.492000013589859, 'accuracy': 0.49271523178807947, 'val_accuracy': 0.5219123505976095}\n"
     ]
    },
    {
     "name": "stderr",
     "output_type": "stream",
     "text": [
      "\n",
      " 50%|█████     | 2/4 [02:53<02:53, 86.77s/it]\u001b[A"
     ]
    },
    {
     "name": "stdout",
     "output_type": "stream",
     "text": [
      "{'loss': 0.5440000295639038, 'accuracy': 0.49271523178807947, 'val_accuracy': 0.5219123505976095}\n"
     ]
    },
    {
     "name": "stderr",
     "output_type": "stream",
     "text": [
      "\n",
      " 75%|███████▌  | 3/4 [04:20<01:26, 86.76s/it]\u001b[A"
     ]
    },
    {
     "name": "stdout",
     "output_type": "stream",
     "text": [
      "{'loss': 1.0, 'accuracy': 0.49271523178807947, 'val_accuracy': 0.5219123505976095}\n"
     ]
    },
    {
     "name": "stderr",
     "output_type": "stream",
     "text": [
      "\n",
      "100%|██████████| 4/4 [05:47<00:00, 86.97s/it]\n",
      "100%|██████████| 3/3 [17:29<00:00, 349.90s/it]"
     ]
    },
    {
     "name": "stdout",
     "output_type": "stream",
     "text": [
      "64\n",
      "32\n",
      "128\n",
      "2\n",
      "1\n",
      "ReLU6()\n"
     ]
    },
    {
     "name": "stderr",
     "output_type": "stream",
     "text": [
      "\n"
     ]
    },
    {
     "data": {
      "text/html": [
       "Finishing last run (ID:2kyfewzb) before initializing another..."
      ],
      "text/plain": [
       "<IPython.core.display.HTML object>"
      ]
     },
     "metadata": {},
     "output_type": "display_data"
    },
    {
     "data": {
      "text/html": [
       "<br/>Waiting for W&B process to finish, PID 325829<br/>Program ended successfully."
      ],
      "text/plain": [
       "<IPython.core.display.HTML object>"
      ]
     },
     "metadata": {},
     "output_type": "display_data"
    },
    {
     "data": {
      "application/vnd.jupyter.widget-view+json": {
       "model_id": "7eca634ab446464392ab0c3168e93a6e",
       "version_major": 2,
       "version_minor": 0
      },
      "text/plain": [
       "VBox(children=(Label(value=' 0.00MB of 0.00MB uploaded (0.00MB deduped)\\r'), FloatProgress(value=1.0, max=1.0)…"
      ]
     },
     "metadata": {},
     "output_type": "display_data"
    },
    {
     "data": {
      "text/html": [
       "Find user logs for this run at: <code>/home/indika/Programming/Projects/Python/Artifical-Intelligence/PyTorch/CNN/Face-Mask-Detection-V1-PT/wandb/run-20210516_153246-2kyfewzb/logs/debug.log</code>"
      ],
      "text/plain": [
       "<IPython.core.display.HTML object>"
      ]
     },
     "metadata": {},
     "output_type": "display_data"
    },
    {
     "data": {
      "text/html": [
       "Find internal logs for this run at: <code>/home/indika/Programming/Projects/Python/Artifical-Intelligence/PyTorch/CNN/Face-Mask-Detection-V1-PT/wandb/run-20210516_153246-2kyfewzb/logs/debug-internal.log</code>"
      ],
      "text/plain": [
       "<IPython.core.display.HTML object>"
      ]
     },
     "metadata": {},
     "output_type": "display_data"
    },
    {
     "data": {
      "text/html": [
       "<h3>Run summary:</h3><br/><style>\n",
       "    table.wandb td:nth-child(1) { padding: 0 10px; text-align: right }\n",
       "    </style><table class=\"wandb\">\n",
       "<tr><td>loss</td><td>1.0</td></tr><tr><td>accuracy</td><td>0.49272</td></tr><tr><td>val_accuracy</td><td>0.52191</td></tr><tr><td>_runtime</td><td>1057</td></tr><tr><td>_timestamp</td><td>1621160435</td></tr><tr><td>_step</td><td>11</td></tr></table>"
      ],
      "text/plain": [
       "<IPython.core.display.HTML object>"
      ]
     },
     "metadata": {},
     "output_type": "display_data"
    },
    {
     "data": {
      "text/html": [
       "<h3>Run history:</h3><br/><style>\n",
       "    table.wandb td:nth-child(1) { padding: 0 10px; text-align: right }\n",
       "    </style><table class=\"wandb\">\n",
       "<tr><td>loss</td><td>▁▃▄█▃▃▄█▃▃▄█</td></tr><tr><td>accuracy</td><td>▁▁▁▁▁▁▁▁▁▁▁▁</td></tr><tr><td>val_accuracy</td><td>▁▁▁▁▁▁▁▁▁▁▁▁</td></tr><tr><td>_runtime</td><td>▁▂▂▃▄▄▅▅▆▇▇█</td></tr><tr><td>_timestamp</td><td>▁▂▂▃▄▄▅▅▆▇▇█</td></tr><tr><td>_step</td><td>▁▂▂▃▄▄▅▅▆▇▇█</td></tr></table><br/>"
      ],
      "text/plain": [
       "<IPython.core.display.HTML object>"
      ]
     },
     "metadata": {},
     "output_type": "display_data"
    },
    {
     "data": {
      "text/html": [
       "Synced 6 W&B file(s), 0 media file(s), 0 artifact file(s) and 0 other file(s)"
      ],
      "text/plain": [
       "<IPython.core.display.HTML object>"
      ]
     },
     "metadata": {},
     "output_type": "display_data"
    },
    {
     "data": {
      "text/html": [
       "\n",
       "                    <br/>Synced <strong style=\"color:#cdcd00\">activation-ReLU()</strong>: <a href=\"https://wandb.ai/ranuga-d/Mask-or-Not/runs/2kyfewzb\" target=\"_blank\">https://wandb.ai/ranuga-d/Mask-or-Not/runs/2kyfewzb</a><br/>\n",
       "                "
      ],
      "text/plain": [
       "<IPython.core.display.HTML object>"
      ]
     },
     "metadata": {},
     "output_type": "display_data"
    },
    {
     "data": {
      "text/html": [
       "...Successfully finished last run (ID:2kyfewzb). Initializing new run:<br/><br/>"
      ],
      "text/plain": [
       "<IPython.core.display.HTML object>"
      ]
     },
     "metadata": {},
     "output_type": "display_data"
    },
    {
     "data": {
      "text/html": [
       "\n",
       "                Tracking run with wandb version 0.10.30<br/>\n",
       "                Syncing run <strong style=\"color:#cdcd00\">activation-ReLU6()</strong> to <a href=\"https://wandb.ai\" target=\"_blank\">Weights & Biases</a> <a href=\"https://docs.wandb.com/integrations/jupyter.html\" target=\"_blank\">(Documentation)</a>.<br/>\n",
       "                Project page: <a href=\"https://wandb.ai/ranuga-d/Mask-or-Not\" target=\"_blank\">https://wandb.ai/ranuga-d/Mask-or-Not</a><br/>\n",
       "                Run page: <a href=\"https://wandb.ai/ranuga-d/Mask-or-Not/runs/2wl4x9vy\" target=\"_blank\">https://wandb.ai/ranuga-d/Mask-or-Not/runs/2wl4x9vy</a><br/>\n",
       "                Run data is saved locally in <code>/home/indika/Programming/Projects/Python/Artifical-Intelligence/PyTorch/CNN/Face-Mask-Detection-V1-PT/wandb/run-20210516_155035-2wl4x9vy</code><br/><br/>\n",
       "            "
      ],
      "text/plain": [
       "<IPython.core.display.HTML object>"
      ]
     },
     "metadata": {},
     "output_type": "display_data"
    },
    {
     "name": "stderr",
     "output_type": "stream",
     "text": [
      "  0%|          | 0/3 [00:00<?, ?it/s]\n",
      "  0%|          | 0/4 [00:00<?, ?it/s]\u001b[A"
     ]
    },
    {
     "name": "stdout",
     "output_type": "stream",
     "text": [
      "{'loss': 0.24948112666606903, 'accuracy': 0.5072847682119205, 'val_accuracy': 0.47808764940239046}\n"
     ]
    },
    {
     "name": "stderr",
     "output_type": "stream",
     "text": [
      "\n",
      " 25%|██▌       | 1/4 [01:28<04:25, 88.34s/it]\u001b[A"
     ]
    },
    {
     "name": "stdout",
     "output_type": "stream",
     "text": [
      "{'loss': 0.5079752802848816, 'accuracy': 0.49271523178807947, 'val_accuracy': 0.5219123505976095}\n"
     ]
    },
    {
     "name": "stderr",
     "output_type": "stream",
     "text": [
      "\n",
      " 50%|█████     | 2/4 [02:52<02:51, 85.91s/it]\u001b[A"
     ]
    },
    {
     "name": "stdout",
     "output_type": "stream",
     "text": [
      "{'loss': 0.5440000295639038, 'accuracy': 0.49271523178807947, 'val_accuracy': 0.5219123505976095}\n"
     ]
    },
    {
     "name": "stderr",
     "output_type": "stream",
     "text": [
      "\n",
      " 75%|███████▌  | 3/4 [04:17<01:25, 85.55s/it]\u001b[A"
     ]
    },
    {
     "name": "stdout",
     "output_type": "stream",
     "text": [
      "{'loss': 1.0, 'accuracy': 0.49271523178807947, 'val_accuracy': 0.5219123505976095}\n"
     ]
    },
    {
     "name": "stderr",
     "output_type": "stream",
     "text": [
      "\n",
      "100%|██████████| 4/4 [05:41<00:00, 85.38s/it]\n",
      " 33%|███▎      | 1/3 [05:41<11:23, 341.52s/it]\n",
      "  0%|          | 0/4 [00:00<?, ?it/s]\u001b[A"
     ]
    },
    {
     "name": "stdout",
     "output_type": "stream",
     "text": [
      "{'loss': 0.47600001096725464, 'accuracy': 0.49271523178807947, 'val_accuracy': 0.5219123505976095}\n"
     ]
    },
    {
     "name": "stderr",
     "output_type": "stream",
     "text": [
      "\n",
      " 25%|██▌       | 1/4 [01:22<04:06, 82.03s/it]\u001b[A"
     ]
    },
    {
     "name": "stdout",
     "output_type": "stream",
     "text": [
      "{'loss': 0.492000013589859, 'accuracy': 0.49271523178807947, 'val_accuracy': 0.5219123505976095}\n"
     ]
    },
    {
     "name": "stderr",
     "output_type": "stream",
     "text": [
      "\n",
      " 50%|█████     | 2/4 [02:43<02:43, 81.60s/it]\u001b[A"
     ]
    },
    {
     "name": "stdout",
     "output_type": "stream",
     "text": [
      "{'loss': 0.5440000295639038, 'accuracy': 0.49271523178807947, 'val_accuracy': 0.5219123505976095}\n"
     ]
    },
    {
     "name": "stderr",
     "output_type": "stream",
     "text": [
      "\n",
      " 75%|███████▌  | 3/4 [04:07<01:22, 82.55s/it]\u001b[A"
     ]
    },
    {
     "name": "stdout",
     "output_type": "stream",
     "text": [
      "{'loss': 1.0, 'accuracy': 0.49271523178807947, 'val_accuracy': 0.5219123505976095}\n"
     ]
    },
    {
     "name": "stderr",
     "output_type": "stream",
     "text": [
      "\n",
      "100%|██████████| 4/4 [05:28<00:00, 82.11s/it]\n",
      " 67%|██████▋   | 2/3 [11:09<05:33, 333.83s/it]\n",
      "  0%|          | 0/4 [00:00<?, ?it/s]\u001b[A"
     ]
    },
    {
     "name": "stdout",
     "output_type": "stream",
     "text": [
      "{'loss': 0.47600001096725464, 'accuracy': 0.49271523178807947, 'val_accuracy': 0.5219123505976095}\n"
     ]
    },
    {
     "name": "stderr",
     "output_type": "stream",
     "text": [
      "\n",
      " 25%|██▌       | 1/4 [01:22<04:07, 82.48s/it]\u001b[A"
     ]
    },
    {
     "name": "stdout",
     "output_type": "stream",
     "text": [
      "{'loss': 0.492000013589859, 'accuracy': 0.49271523178807947, 'val_accuracy': 0.5219123505976095}\n"
     ]
    },
    {
     "name": "stderr",
     "output_type": "stream",
     "text": [
      "\n",
      " 50%|█████     | 2/4 [02:43<02:43, 81.56s/it]\u001b[A"
     ]
    },
    {
     "name": "stdout",
     "output_type": "stream",
     "text": [
      "{'loss': 0.5440000295639038, 'accuracy': 0.49271523178807947, 'val_accuracy': 0.5219123505976095}\n"
     ]
    },
    {
     "name": "stderr",
     "output_type": "stream",
     "text": [
      "\n",
      " 75%|███████▌  | 3/4 [04:05<01:21, 81.74s/it]\u001b[A"
     ]
    },
    {
     "name": "stdout",
     "output_type": "stream",
     "text": [
      "{'loss': 1.0, 'accuracy': 0.49271523178807947, 'val_accuracy': 0.5219123505976095}\n"
     ]
    },
    {
     "name": "stderr",
     "output_type": "stream",
     "text": [
      "\n",
      "100%|██████████| 4/4 [05:26<00:00, 81.58s/it]\n",
      "100%|██████████| 3/3 [16:36<00:00, 332.09s/it]"
     ]
    },
    {
     "name": "stdout",
     "output_type": "stream",
     "text": [
      "64\n",
      "32\n",
      "128\n",
      "2\n",
      "1\n",
      "RReLU(lower=0.125, upper=0.3333333333333333)\n"
     ]
    },
    {
     "name": "stderr",
     "output_type": "stream",
     "text": [
      "\n"
     ]
    },
    {
     "data": {
      "text/html": [
       "Finishing last run (ID:2wl4x9vy) before initializing another..."
      ],
      "text/plain": [
       "<IPython.core.display.HTML object>"
      ]
     },
     "metadata": {},
     "output_type": "display_data"
    },
    {
     "data": {
      "text/html": [
       "<br/>Waiting for W&B process to finish, PID 336140<br/>Program ended successfully."
      ],
      "text/plain": [
       "<IPython.core.display.HTML object>"
      ]
     },
     "metadata": {},
     "output_type": "display_data"
    },
    {
     "data": {
      "application/vnd.jupyter.widget-view+json": {
       "model_id": "b8302304d03e4cdbb94f01028738ec72",
       "version_major": 2,
       "version_minor": 0
      },
      "text/plain": [
       "VBox(children=(Label(value=' 0.11MB of 0.11MB uploaded (0.00MB deduped)\\r'), FloatProgress(value=1.0, max=1.0)…"
      ]
     },
     "metadata": {},
     "output_type": "display_data"
    },
    {
     "data": {
      "text/html": [
       "Find user logs for this run at: <code>/home/indika/Programming/Projects/Python/Artifical-Intelligence/PyTorch/CNN/Face-Mask-Detection-V1-PT/wandb/run-20210516_155035-2wl4x9vy/logs/debug.log</code>"
      ],
      "text/plain": [
       "<IPython.core.display.HTML object>"
      ]
     },
     "metadata": {},
     "output_type": "display_data"
    },
    {
     "data": {
      "text/html": [
       "Find internal logs for this run at: <code>/home/indika/Programming/Projects/Python/Artifical-Intelligence/PyTorch/CNN/Face-Mask-Detection-V1-PT/wandb/run-20210516_155035-2wl4x9vy/logs/debug-internal.log</code>"
      ],
      "text/plain": [
       "<IPython.core.display.HTML object>"
      ]
     },
     "metadata": {},
     "output_type": "display_data"
    },
    {
     "data": {
      "text/html": [
       "<h3>Run summary:</h3><br/><style>\n",
       "    table.wandb td:nth-child(1) { padding: 0 10px; text-align: right }\n",
       "    </style><table class=\"wandb\">\n",
       "<tr><td>loss</td><td>1.0</td></tr><tr><td>accuracy</td><td>0.49272</td></tr><tr><td>val_accuracy</td><td>0.52191</td></tr><tr><td>_runtime</td><td>1003</td></tr><tr><td>_timestamp</td><td>1621161442</td></tr><tr><td>_step</td><td>11</td></tr></table>"
      ],
      "text/plain": [
       "<IPython.core.display.HTML object>"
      ]
     },
     "metadata": {},
     "output_type": "display_data"
    },
    {
     "data": {
      "text/html": [
       "<h3>Run history:</h3><br/><style>\n",
       "    table.wandb td:nth-child(1) { padding: 0 10px; text-align: right }\n",
       "    </style><table class=\"wandb\">\n",
       "<tr><td>loss</td><td>▁▃▄█▃▃▄█▃▃▄█</td></tr><tr><td>accuracy</td><td>█▁▁▁▁▁▁▁▁▁▁▁</td></tr><tr><td>val_accuracy</td><td>▁███████████</td></tr><tr><td>_runtime</td><td>▁▂▂▃▄▄▅▅▆▇▇█</td></tr><tr><td>_timestamp</td><td>▁▂▂▃▄▄▅▅▆▇▇█</td></tr><tr><td>_step</td><td>▁▂▂▃▄▄▅▅▆▇▇█</td></tr></table><br/>"
      ],
      "text/plain": [
       "<IPython.core.display.HTML object>"
      ]
     },
     "metadata": {},
     "output_type": "display_data"
    },
    {
     "data": {
      "text/html": [
       "Synced 6 W&B file(s), 0 media file(s), 2 artifact file(s) and 1 other file(s)"
      ],
      "text/plain": [
       "<IPython.core.display.HTML object>"
      ]
     },
     "metadata": {},
     "output_type": "display_data"
    },
    {
     "data": {
      "text/html": [
       "\n",
       "                    <br/>Synced <strong style=\"color:#cdcd00\">activation-ReLU6()</strong>: <a href=\"https://wandb.ai/ranuga-d/Mask-or-Not/runs/2wl4x9vy\" target=\"_blank\">https://wandb.ai/ranuga-d/Mask-or-Not/runs/2wl4x9vy</a><br/>\n",
       "                "
      ],
      "text/plain": [
       "<IPython.core.display.HTML object>"
      ]
     },
     "metadata": {},
     "output_type": "display_data"
    },
    {
     "data": {
      "text/html": [
       "...Successfully finished last run (ID:2wl4x9vy). Initializing new run:<br/><br/>"
      ],
      "text/plain": [
       "<IPython.core.display.HTML object>"
      ]
     },
     "metadata": {},
     "output_type": "display_data"
    },
    {
     "data": {
      "text/html": [
       "\n",
       "                Tracking run with wandb version 0.10.30<br/>\n",
       "                Syncing run <strong style=\"color:#cdcd00\">activation-RReLU(lower=0.125, upper=0.3333333333333333)</strong> to <a href=\"https://wandb.ai\" target=\"_blank\">Weights & Biases</a> <a href=\"https://docs.wandb.com/integrations/jupyter.html\" target=\"_blank\">(Documentation)</a>.<br/>\n",
       "                Project page: <a href=\"https://wandb.ai/ranuga-d/Mask-or-Not\" target=\"_blank\">https://wandb.ai/ranuga-d/Mask-or-Not</a><br/>\n",
       "                Run page: <a href=\"https://wandb.ai/ranuga-d/Mask-or-Not/runs/2g13y8ho\" target=\"_blank\">https://wandb.ai/ranuga-d/Mask-or-Not/runs/2g13y8ho</a><br/>\n",
       "                Run data is saved locally in <code>/home/indika/Programming/Projects/Python/Artifical-Intelligence/PyTorch/CNN/Face-Mask-Detection-V1-PT/wandb/run-20210516_160722-2g13y8ho</code><br/><br/>\n",
       "            "
      ],
      "text/plain": [
       "<IPython.core.display.HTML object>"
      ]
     },
     "metadata": {},
     "output_type": "display_data"
    },
    {
     "name": "stderr",
     "output_type": "stream",
     "text": [
      "  0%|          | 0/3 [00:00<?, ?it/s]\n",
      "  0%|          | 0/4 [00:00<?, ?it/s]\u001b[A"
     ]
    },
    {
     "name": "stdout",
     "output_type": "stream",
     "text": [
      "{'loss': 0.24976997077465057, 'accuracy': 0.5033112582781457, 'val_accuracy': 0.5378486055776892}\n"
     ]
    },
    {
     "name": "stderr",
     "output_type": "stream",
     "text": [
      "\n",
      " 25%|██▌       | 1/4 [03:43<11:11, 223.80s/it]\u001b[A"
     ]
    },
    {
     "name": "stdout",
     "output_type": "stream",
     "text": [
      "{'loss': 0.5388545393943787, 'accuracy': 0.49271523178807947, 'val_accuracy': 0.5219123505976095}\n"
     ]
    },
    {
     "name": "stderr",
     "output_type": "stream",
     "text": [
      "\n",
      " 50%|█████     | 2/4 [07:26<07:26, 223.43s/it]\u001b[A"
     ]
    },
    {
     "name": "stdout",
     "output_type": "stream",
     "text": [
      "{'loss': 0.5440000295639038, 'accuracy': 0.3933774834437086, 'val_accuracy': 0.4302788844621514}\n"
     ]
    },
    {
     "name": "stderr",
     "output_type": "stream",
     "text": [
      "\n",
      " 75%|███████▌  | 3/4 [10:55<03:36, 216.44s/it]\u001b[A"
     ]
    },
    {
     "name": "stdout",
     "output_type": "stream",
     "text": [
      "{'loss': 1.0, 'accuracy': 0.5033112582781457, 'val_accuracy': 0.47410358565737054}\n"
     ]
    },
    {
     "name": "stderr",
     "output_type": "stream",
     "text": [
      "\n",
      "100%|██████████| 4/4 [14:12<00:00, 213.23s/it]\n",
      " 33%|███▎      | 1/3 [14:12<28:25, 852.92s/it]\n",
      "  0%|          | 0/4 [00:00<?, ?it/s]\u001b[A"
     ]
    },
    {
     "name": "stdout",
     "output_type": "stream",
     "text": [
      "{'loss': 0.5240000486373901, 'accuracy': 0.5072847682119205, 'val_accuracy': 0.47808764940239046}\n"
     ]
    },
    {
     "name": "stderr",
     "output_type": "stream",
     "text": [
      "\n",
      " 25%|██▌       | 1/4 [03:18<09:55, 198.65s/it]\u001b[A"
     ]
    },
    {
     "name": "stdout",
     "output_type": "stream",
     "text": [
      "{'loss': 0.5080000162124634, 'accuracy': 0.5072847682119205, 'val_accuracy': 0.47808764940239046}\n"
     ]
    },
    {
     "name": "stderr",
     "output_type": "stream",
     "text": [
      "\n",
      " 50%|█████     | 2/4 [06:38<06:38, 199.29s/it]\u001b[A"
     ]
    },
    {
     "name": "stdout",
     "output_type": "stream",
     "text": [
      "{'loss': 0.45600003004074097, 'accuracy': 0.5072847682119205, 'val_accuracy': 0.47808764940239046}\n"
     ]
    },
    {
     "name": "stderr",
     "output_type": "stream",
     "text": [
      "\n",
      " 75%|███████▌  | 3/4 [10:01<03:20, 200.87s/it]\u001b[A"
     ]
    },
    {
     "name": "stdout",
     "output_type": "stream",
     "text": [
      "{'loss': 0.0, 'accuracy': 0.5072847682119205, 'val_accuracy': 0.47808764940239046}\n"
     ]
    },
    {
     "name": "stderr",
     "output_type": "stream",
     "text": [
      "\n",
      "100%|██████████| 4/4 [13:20<00:00, 200.12s/it]\n",
      " 67%|██████▋   | 2/3 [27:33<13:42, 822.08s/it]\n",
      "  0%|          | 0/4 [00:00<?, ?it/s]\u001b[A"
     ]
    },
    {
     "name": "stdout",
     "output_type": "stream",
     "text": [
      "{'loss': 0.5240000486373901, 'accuracy': 0.5072847682119205, 'val_accuracy': 0.47808764940239046}\n"
     ]
    },
    {
     "name": "stderr",
     "output_type": "stream",
     "text": [
      "\n",
      " 25%|██▌       | 1/4 [03:38<10:56, 218.78s/it]\u001b[A"
     ]
    }
   ],
   "source": [
    "# num_of_linears\n",
    "activations = [nn.ELU(),nn.LeakyReLU(),nn.PReLU(),nn.ReLU(),nn.ReLU6(),nn.RReLU(),nn.SELU(),nn.CELU(),nn.GELU(),nn.SiLU(),nn.Tanh()]\n",
    "for activation in activations:\n",
    "    EPOCHS = 3\n",
    "    model = Model(activation=activation).to('cuda')\n",
    "    loss_funtion = torch.nn.MSELoss().to('cuda')\n",
    "    optimizer = torch.optim.AdamW(model.parameters(),lr=0.1)\n",
    "    wandb.init(project=PROJECT_NAME, name=f'activation-{activation}')\n",
    "    for epoch in tqdm(range(EPOCHS)):\n",
    "        for i in tqdm(range(0, len(X_train), BATCH_SIZE)):\n",
    "            X_batch = X_train[i : i + BATCH_SIZE].view(-1, 1, IMG_SIZE, IMG_SIZE)\n",
    "            y_batch = y_train[i : i + BATCH_SIZE]\n",
    "            X_batch = X_batch.to('cuda')\n",
    "            y_batch = y_batch.to('cuda')\n",
    "            X_batch = X_batch.cuda()\n",
    "            model.to('cuda')\n",
    "            preds = model(X=X_batch)\n",
    "            preds.to(device)\n",
    "            loss = loss_funtion(preds, y_batch)\n",
    "            loss.backward()\n",
    "            optimizer.step()\n",
    "            optimizer.zero_grad()\n",
    "            print({\n",
    "                'loss':loss.item(),\n",
    "                'accuracy':test(model,X_train,y_train)[0]/test(model,X_train,y_train)[1],\n",
    "                'val_accuracy':test(model,X_test,y_test)[0]/test(model,X_test,y_test)[1]\n",
    "            })\n",
    "            wandb.log({\n",
    "                'loss':loss.item(),\n",
    "                'accuracy':test(model,X_train,y_train)[0]/test(model,X_train,y_train)[1],\n",
    "                'val_accuracy':test(model,X_test,y_test)[0]/test(model,X_test,y_test)[1]\n",
    "            })"
   ]
  },
  {
   "cell_type": "code",
   "execution_count": null,
   "metadata": {},
   "outputs": [],
   "source": [
    "# num_of_linears\n",
    "num_of_linears = [1,2,3,4,5]\n",
    "for num_of_linear in num_of_linears:\n",
    "    EPOCHS = 3\n",
    "    model = Model(num_of_linear=num_of_linear).to('cuda')\n",
    "    loss_funtion = torch.nn.MSELoss().to('cuda')\n",
    "    optimizer = torch.optim.AdamW(model.parameters(),lr=0.1)\n",
    "    wandb.init(project=PROJECT_NAME, name=f'num_of_linear-{num_of_linear}')\n",
    "    for epoch in tqdm(range(EPOCHS)):\n",
    "        for i in tqdm(range(0, len(X_train), BATCH_SIZE)):\n",
    "            X_batch = X_train[i : i + BATCH_SIZE].view(-1, 1, IMG_SIZE, IMG_SIZE)\n",
    "            y_batch = y_train[i : i + BATCH_SIZE]\n",
    "            X_batch = X_batch.to('cuda')\n",
    "            y_batch = y_batch.to('cuda')\n",
    "            X_batch = X_batch.cuda()\n",
    "            model.to('cuda')\n",
    "            preds = model(X=X_batch)\n",
    "            preds.to(device)\n",
    "            loss = loss_funtion(preds, y_batch)\n",
    "            loss.backward()\n",
    "            optimizer.step()\n",
    "            optimizer.zero_grad()\n",
    "            print({\n",
    "                'loss':loss.item(),\n",
    "                'accuracy':test(model,X_train,y_train)[0]/test(model,X_train,y_train)[1],\n",
    "                'val_accuracy':test(model,X_test,y_test)[0]/test(model,X_test,y_test)[1]\n",
    "            })\n",
    "            wandb.log({\n",
    "                'loss':loss.item(),\n",
    "                'accuracy':test(model,X_train,y_train)[0]/test(model,X_train,y_train)[1],\n",
    "                'val_accuracy':test(model,X_test,y_test)[0]/test(model,X_test,y_test)[1]\n",
    "            })"
   ]
  },
  {
   "cell_type": "code",
   "execution_count": null,
   "metadata": {},
   "outputs": [],
   "source": [
    "# max_pool2d\n",
    "max_pool2ds = [1,2,5,7,10]\n",
    "for max_pool2d in max_pool2ds:\n",
    "    EPOCHS = 3\n",
    "    model = Model(max_pool2d=max_pool2d).to('cuda')\n",
    "    loss_funtion = torch.nn.MSELoss().to('cuda')\n",
    "    optimizer = torch.optim.AdamW(model.parameters(),lr=0.1)\n",
    "    wandb.init(project=PROJECT_NAME, name=f'max_pool2d-{max_pool2d}')\n",
    "    for epoch in tqdm(range(EPOCHS)):\n",
    "        for i in tqdm(range(0, len(X_train), BATCH_SIZE)):\n",
    "            X_batch = X_train[i : i + BATCH_SIZE].view(-1, 1, IMG_SIZE, IMG_SIZE)\n",
    "            y_batch = y_train[i : i + BATCH_SIZE]\n",
    "            X_batch = X_batch.to('cuda')\n",
    "            y_batch = y_batch.to('cuda')\n",
    "            X_batch = X_batch.cuda()\n",
    "            model.to('cuda')\n",
    "            preds = model(X=X_batch)\n",
    "            preds.to(device)\n",
    "            loss = loss_funtion(preds, y_batch)\n",
    "            loss.backward()\n",
    "            optimizer.step()\n",
    "            optimizer.zero_grad()\n",
    "            print({\n",
    "                'loss':loss.item(),\n",
    "                'accuracy':test(model,X_train,y_train)[0]/test(model,X_train,y_train)[1],\n",
    "                'val_accuracy':test(model,X_test,y_test)[0]/test(model,X_test,y_test)[1]\n",
    "            })\n",
    "            wandb.log({\n",
    "                'loss':loss.item(),\n",
    "                'accuracy':test(model,X_train,y_train)[0]/test(model,X_train,y_train)[1],\n",
    "                'val_accuracy':test(model,X_test,y_test)[0]/test(model,X_test,y_test)[1]\n",
    "            })"
   ]
  },
  {
   "cell_type": "code",
   "execution_count": null,
   "metadata": {},
   "outputs": [],
   "source": [
    "# output_fc1\n",
    "output_fc1s = [16,32,64,128]\n",
    "for output_fc1 in output_fc1:\n",
    "    EPOCHS = 3\n",
    "    model = Model(output_fc1=output_fc1).to('cuda')\n",
    "    loss_funtion = torch.nn.MSELoss().to('cuda')\n",
    "    optimizer = torch.optim.AdamW(model.parameters(),lr=0.1)\n",
    "    wandb.init(project=PROJECT_NAME, name=f'output_fc1-{output_fc1}')\n",
    "    for epoch in tqdm(range(EPOCHS)):\n",
    "        for i in tqdm(range(0, len(X_train), BATCH_SIZE)):\n",
    "            X_batch = X_train[i : i + BATCH_SIZE].view(-1, 1, IMG_SIZE, IMG_SIZE)\n",
    "            y_batch = y_train[i : i + BATCH_SIZE]\n",
    "            X_batch = X_batch.to('cuda')\n",
    "            y_batch = y_batch.to('cuda')\n",
    "            X_batch = X_batch.cuda()\n",
    "            model.to('cuda')\n",
    "            preds = model(X=X_batch)\n",
    "            preds.to(device)\n",
    "            loss = loss_funtion(preds, y_batch)\n",
    "            loss.backward()\n",
    "            optimizer.step()\n",
    "            optimizer.zero_grad()\n",
    "            print({\n",
    "                'loss':loss.item(),\n",
    "                'accuracy':test(model,X_train,y_train)[0]/test(model,X_train,y_train)[1],\n",
    "                'val_accuracy':test(model,X_test,y_test)[0]/test(model,X_test,y_test)[1]\n",
    "            })\n",
    "            wandb.log({\n",
    "                'loss':loss.item(),\n",
    "                'accuracy':test(model,X_train,y_train)[0]/test(model,X_train,y_train)[1],\n",
    "                'val_accuracy':test(model,X_test,y_test)[0]/test(model,X_test,y_test)[1]\n",
    "            })"
   ]
  },
  {
   "cell_type": "code",
   "execution_count": null,
   "metadata": {},
   "outputs": [],
   "source": [
    "# conv2d_1_ouput\n",
    "conv2d_1_ouputs = [16,32,64,128]\n",
    "for conv2d_1_ouput in conv2d_1_ouputs:\n",
    "    EPOCHS = 3\n",
    "    model = Model(conv2d_output=256,conv2d_1_ouput=conv2d_1_ouput).to('cuda')\n",
    "    loss_funtion = torch.nn.MSELoss().to('cuda')\n",
    "    optimizer = torch.optim.AdamW(model.parameters(),lr=0.1)\n",
    "    wandb.init(project=PROJECT_NAME, name=f'conv2d_1_ouputs-{conv2d_1_ouput}')\n",
    "    for epoch in tqdm(range(EPOCHS)):\n",
    "        for i in tqdm(range(0, len(X_train), BATCH_SIZE)):\n",
    "            X_batch = X_train[i : i + BATCH_SIZE].view(-1, 1, IMG_SIZE, IMG_SIZE)\n",
    "            y_batch = y_train[i : i + BATCH_SIZE]\n",
    "            X_batch = X_batch.to('cuda')\n",
    "            y_batch = y_batch.to('cuda')\n",
    "            X_batch = X_batch.cuda()\n",
    "            model.to('cuda')\n",
    "            preds = model(X=X_batch)\n",
    "            preds.to(device)\n",
    "            loss = loss_funtion(preds, y_batch)\n",
    "            loss.backward()\n",
    "            optimizer.step()\n",
    "            optimizer.zero_grad()\n",
    "            print({\n",
    "                'loss':loss.item(),\n",
    "                'accuracy':test(model,X_train,y_train)[0]/test(model,X_train,y_train)[1],\n",
    "                'val_accuracy':test(model,X_test,y_test)[0]/test(model,X_test,y_test)[1]\n",
    "            })\n",
    "            wandb.log({\n",
    "                'loss':loss.item(),\n",
    "                'accuracy':test(model,X_train,y_train)[0]/test(model,X_train,y_train)[1],\n",
    "                'val_accuracy':test(model,X_test,y_test)[0]/test(model,X_test,y_test)[1]\n",
    "            })"
   ]
  },
  {
   "cell_type": "code",
   "execution_count": null,
   "metadata": {},
   "outputs": [],
   "source": [
    "# # conv2d_1_ouput\n",
    "# conv2d_1_ouputs = [16,32,64,128,256]\n",
    "# for conv2d_1_ouput in conv2d_1_ouputs:\n",
    "#     EPOCHS = 3\n",
    "#     model = Model(conv2d_output=256,conv2d_1_ouput=conv2d_1_ouput).to('cuda')\n",
    "#     loss_funtion = torch.nn.MSELoss().to('cuda')\n",
    "#     optimizer = torch.optim.AdamW(model.parameters(),lr=0.1)\n",
    "#     wandb.init(project=PROJECT_NAME, name=f'conv2d_1_ouputs-{conv2d_1_ouput}')\n",
    "#     for epoch in tqdm(range(EPOCHS)):\n",
    "#         for i in tqdm(range(0, len(X_train), BATCH_SIZE)):\n",
    "#             X_batch = X_train[i : i + BATCH_SIZE].view(-1, 1, IMG_SIZE, IMG_SIZE)\n",
    "#             y_batch = y_train[i : i + BATCH_SIZE]\n",
    "#             X_batch = X_batch.to('cuda')\n",
    "#             y_batch = y_batch.to('cuda')\n",
    "#             X_batch = X_batch.cuda()\n",
    "#             model.to('cuda')\n",
    "#             preds = model(X=X_batch)\n",
    "#             preds.to(device)\n",
    "#             loss = loss_funtion(preds, y_batch)\n",
    "#             loss.backward()\n",
    "#             optimizer.step()\n",
    "#             optimizer.zero_grad()\n",
    "#             print({\n",
    "#                 'loss':loss.item(),\n",
    "#                 'accuracy':test(model,X_train,y_train)[0]/test(model,X_train,y_train)[1],\n",
    "#                 'val_accuracy':test(model,X_test,y_test)[0]/test(model,X_test,y_test)[1]\n",
    "#             })\n",
    "#             wandb.log({\n",
    "#                 'loss':loss.item(),\n",
    "#                 'accuracy':test(model,X_train,y_train)[0]/test(model,X_train,y_train)[1],\n",
    "#                 'val_accuracy':test(model,X_test,y_test)[0]/test(model,X_test,y_test)[1]\n",
    "#             })"
   ]
  },
  {
   "cell_type": "code",
   "execution_count": null,
   "metadata": {},
   "outputs": [],
   "source": [
    "# best loss\n",
    "lossess = [nn.L1Loss,nn.MSELoss,torch.nn.HingeEmbeddingLoss,torch.nn.MarginRankingLoss,torch.nn.TripletMarginLoss]\n",
    "for loss_funtion in lossess:\n",
    "    EPOCHS = 3\n",
    "    model = Model().to('cuda')\n",
    "    optimizer = torch.optim.AdamW(model.parameters(),lr=0.1)\n",
    "    wandb.init(project=PROJECT_NAME, name=f'loss_funtion-{loss_funtion}')\n",
    "    for epoch in tqdm(range(EPOCHS)):\n",
    "        for i in tqdm(range(0, len(X_train), BATCH_SIZE)):\n",
    "            X_batch = X_train[i : i + BATCH_SIZE].view(-1, 1, IMG_SIZE, IMG_SIZE)\n",
    "            y_batch = y_train[i : i + BATCH_SIZE]\n",
    "            X_batch = X_batch.to('cuda')\n",
    "            y_batch = y_batch.to('cuda')\n",
    "            X_batch = X_batch.cuda()\n",
    "            model.to('cuda')\n",
    "            preds = model(X=X_batch)\n",
    "            preds.to(device)\n",
    "            loss = loss_funtion(preds, y_batch)\n",
    "            loss.backward()\n",
    "            optimizer.step()\n",
    "            optimizer.zero_grad()\n",
    "            print({\n",
    "                'loss':loss.item(),\n",
    "                'accuracy':test(model,X_train,y_train)[0]/test(model,X_train,y_train)[1],\n",
    "                'val_accuracy':test(model,X_test,y_test)[0]/test(model,X_test,y_test)[1]\n",
    "            })\n",
    "            wandb.log({\n",
    "                'loss':loss.item(),\n",
    "                'accuracy':test(model,X_train,y_train)[0]/test(model,X_train,y_train)[1],\n",
    "                'val_accuracy':test(model,X_test,y_test)[0]/test(model,X_test,y_test)[1]\n",
    "            })"
   ]
  },
  {
   "cell_type": "code",
   "execution_count": null,
   "metadata": {},
   "outputs": [],
   "source": [
    "BATCH_SIZE = 32"
   ]
  },
  {
   "cell_type": "code",
   "execution_count": null,
   "metadata": {},
   "outputs": [],
   "source": [
    "# conv2d_output\n",
    "# conv2d_1_ouput\n",
    "# output_fc1\n",
    "# max_pool2d\n",
    "# num_of_linear\n",
    "# activation\n",
    "# best num of epochs\n",
    "# best optimizer\n",
    "# best loss\n",
    "## best lr"
   ]
  },
  {
   "cell_type": "code",
   "execution_count": null,
   "metadata": {},
   "outputs": [],
   "source": []
  }
 ],
 "metadata": {
  "kernelspec": {
   "display_name": "Python 3.7.3 64-bit ('base': conda)",
   "language": "python",
   "name": "python373jvsc74a57bd0210f9608a45c0278a93c9e0b10db32a427986ab48cfc0d20c139811eb78c4bbc"
  },
  "language_info": {
   "codemirror_mode": {
    "name": "ipython",
    "version": 3
   },
   "file_extension": ".py",
   "mimetype": "text/x-python",
   "name": "python",
   "nbconvert_exporter": "python",
   "pygments_lexer": "ipython3",
   "version": "3.7.3"
  }
 },
 "nbformat": 4,
 "nbformat_minor": 2
}
