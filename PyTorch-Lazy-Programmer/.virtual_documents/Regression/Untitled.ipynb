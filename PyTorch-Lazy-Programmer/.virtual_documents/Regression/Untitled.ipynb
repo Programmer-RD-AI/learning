import torch
import torch.nn as nn
import numpy as np
import matplotlib.pyplot as plt


N = 20
X = np.random.random(N) * 10 - 5

Y = 0.5 * X - 1 + np.random.randn(N)

plt.scatter(X,Y)



